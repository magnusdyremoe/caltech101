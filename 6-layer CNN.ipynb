{
 "cells": [
  {
   "cell_type": "markdown",
   "metadata": {},
   "source": [
    "# 6-layer CNN for image classification on Caltech101 dataset"
   ]
  },
  {
   "cell_type": "markdown",
   "metadata": {},
   "source": [
    "### Data processing with keras.\n",
    " Documentaiton for *ImageDataGenerator* and *flow_from_directory*: https://keras.io/api/preprocessing/image/"
   ]
  },
  {
   "cell_type": "code",
   "execution_count": 16,
   "metadata": {
    "scrolled": true
   },
   "outputs": [
    {
     "name": "stdout",
     "output_type": "stream",
     "text": [
      "Found 6782 images belonging to 102 classes.\n",
      "Found 1464 images belonging to 102 classes.\n",
      "Found 898 images belonging to 102 classes.\n",
      "Train, in percentage (%) :  74.16885389326335\n",
      "Val, in percentage (%) :  16.010498687664043\n",
      "Test, in percentage (%) :  9.820647419072616\n"
     ]
    }
   ],
   "source": [
    "# Image processing from local files\n",
    "\n",
    "from keras.preprocessing.image import ImageDataGenerator\n",
    "image_size = 150\n",
    "\n",
    "\n",
    "# Define directory roots\n",
    "train_root = './101_ObjectCategories_test/101_ObjectCategories/train'\n",
    "val_root = './101_ObjectCategories_test/101_ObjectCategories/val'\n",
    "test_root = './101_ObjectCategories_test/101_ObjectCategories/test'\n",
    "\n",
    "# Generate training set\n",
    "train_datagen = ImageDataGenerator(rescale=1./255.)\n",
    "\n",
    "train_dataset = train_datagen.flow_from_directory(\n",
    "    train_root,\n",
    "    target_size=(image_size, image_size),\n",
    "    batch_size=32\n",
    ")\n",
    "                                \n",
    "\n",
    "# Generate validation set   \n",
    "val_datagen = ImageDataGenerator(rescale=1./255.)\n",
    "\n",
    "val_dataset = val_datagen.flow_from_directory(\n",
    "    val_root,\n",
    "    target_size=(image_size, image_size),\n",
    "    batch_size=32\n",
    ")\n",
    "\n",
    "# Generate test set\n",
    "test_datagen = ImageDataGenerator(rescale=1./255.)\n",
    "\n",
    "test_dataset = test_datagen.flow_from_directory(\n",
    "    test_root,\n",
    "    target_size=(image_size, image_size),\n",
    "    batch_size=32,\n",
    "    shuffle=False\n",
    ")\n",
    "\n",
    "total_length = len(train_dataset.filenames) + len(val_dataset.filenames) + len(test_dataset.filenames)\n",
    "print(\"Train, in percentage (%) : \", len(train_dataset.filenames)/total_length * 100)\n",
    "print(\"Val, in percentage (%) : \", len(val_dataset.filenames)/total_length * 100)\n",
    "print(\"Test, in percentage (%) : \", len(test_dataset.filenames)/total_length * 100)"
   ]
  },
  {
   "cell_type": "markdown",
   "metadata": {},
   "source": [
    "## Next, we need to define the CNN\n",
    "\n",
    "Documentation for sequential model: https://keras.io/guides/sequential_model/\n",
    "\n",
    "Documentation for Conv2C layer: https://keras.io/api/layers/convolution_layers/convolution2d/\n",
    "\n",
    "Documentation for MaxPooling2D layer: https://keras.io/api/layers/pooling_layers/max_pooling2d/\n",
    "\n",
    "Documentation for Flatten layer: https://keras.io/api/layers/reshaping_layers/flatten/\n",
    "\n",
    "Documentation for Dense layer: https://keras.io/api/layers/core_layers/dense/"
   ]
  },
  {
   "cell_type": "code",
   "execution_count": 3,
   "metadata": {
    "scrolled": false
   },
   "outputs": [
    {
     "name": "stdout",
     "output_type": "stream",
     "text": [
      "Model: \"sequential_1\"\n",
      "_________________________________________________________________\n",
      "Layer (type)                 Output Shape              Param #   \n",
      "=================================================================\n",
      "conv2d_4 (Conv2D)            (None, 148, 148, 32)      896       \n",
      "_________________________________________________________________\n",
      "max_pooling2d_4 (MaxPooling2 (None, 74, 74, 32)        0         \n",
      "_________________________________________________________________\n",
      "conv2d_5 (Conv2D)            (None, 72, 72, 64)        18496     \n",
      "_________________________________________________________________\n",
      "max_pooling2d_5 (MaxPooling2 (None, 36, 36, 64)        0         \n",
      "_________________________________________________________________\n",
      "conv2d_6 (Conv2D)            (None, 34, 34, 128)       73856     \n",
      "_________________________________________________________________\n",
      "max_pooling2d_6 (MaxPooling2 (None, 17, 17, 128)       0         \n",
      "_________________________________________________________________\n",
      "conv2d_7 (Conv2D)            (None, 15, 15, 256)       295168    \n",
      "_________________________________________________________________\n",
      "max_pooling2d_7 (MaxPooling2 (None, 7, 7, 256)         0         \n",
      "_________________________________________________________________\n",
      "flatten_1 (Flatten)          (None, 12544)             0         \n",
      "_________________________________________________________________\n",
      "dense_2 (Dense)              (None, 128)               1605760   \n",
      "_________________________________________________________________\n",
      "dense_3 (Dense)              (None, 102)               13158     \n",
      "=================================================================\n",
      "Total params: 2,007,334\n",
      "Trainable params: 2,007,334\n",
      "Non-trainable params: 0\n",
      "_________________________________________________________________\n"
     ]
    }
   ],
   "source": [
    "from tensorflow.keras import optimizers\n",
    "from tensorflow.keras.models import Sequential\n",
    "from tensorflow.keras.layers import Conv2D, MaxPooling2D, Dense, Flatten\n",
    "\n",
    "model = Sequential([\n",
    "    Conv2D(32, (3, 3), activation='relu', input_shape=(150, 150, 3)),\n",
    "    MaxPooling2D((2, 2)),\n",
    "    Conv2D(64, (3, 3), activation='relu'),\n",
    "    MaxPooling2D((2, 2)),\n",
    "    Conv2D(128, (3, 3), activation='relu'),\n",
    "    MaxPooling2D((2, 2)),\n",
    "    Conv2D(256, (3, 3), activation='relu'),\n",
    "    MaxPooling2D((2, 2)),\n",
    "    Flatten(),\n",
    "    Dense(128, activation='relu'),\n",
    "    Dense(102, activation='softmax')\n",
    "])\n",
    "\n",
    "model.summary()"
   ]
  },
  {
   "cell_type": "markdown",
   "metadata": {},
   "source": [
    "## Now, we need to compile and fit the model\n",
    "\n",
    "For compile we define the loss function, the optimizer and the performance metrics. \n",
    "\n",
    "Fit is the training of the model. It uses the training data to train the model and the validation data to verify the performance of the model based on the performance metrics defined in compile. \n",
    "\n",
    "Documentation for compile and fit: https://keras.io/api/models/model_training_apis/"
   ]
  },
  {
   "cell_type": "code",
   "execution_count": 4,
   "metadata": {
    "scrolled": false
   },
   "outputs": [
    {
     "name": "stdout",
     "output_type": "stream",
     "text": [
      "Epoch 1/50\n",
      "211/212 [============================>.] - ETA: 0s - loss: 4.0451 - acc: 0.1810 - top_k_categorical_accuracy: 0.3252Epoch 1/50\n",
      "212/212 [==============================] - 80s 378ms/step - loss: 4.0426 - acc: 0.1820 - top_k_categorical_accuracy: 0.3257 - val_loss: 3.6221 - val_acc: 0.2623 - val_top_k_categorical_accuracy: 0.3839\n",
      "Epoch 2/50\n",
      "211/212 [============================>.] - ETA: 0s - loss: 3.3698 - acc: 0.3058 - top_k_categorical_accuracy: 0.4487Epoch 1/50\n",
      "212/212 [==============================] - 68s 321ms/step - loss: 3.3708 - acc: 0.3060 - top_k_categorical_accuracy: 0.4488 - val_loss: 3.1561 - val_acc: 0.3545 - val_top_k_categorical_accuracy: 0.5007\n",
      "Epoch 3/50\n",
      "211/212 [============================>.] - ETA: 0s - loss: 2.9723 - acc: 0.3796 - top_k_categorical_accuracy: 0.5323Epoch 1/50\n",
      "212/212 [==============================] - 65s 305ms/step - loss: 2.9687 - acc: 0.3804 - top_k_categorical_accuracy: 0.5330 - val_loss: 2.9578 - val_acc: 0.3941 - val_top_k_categorical_accuracy: 0.5314\n",
      "Epoch 4/50\n",
      "211/212 [============================>.] - ETA: 0s - loss: 2.6295 - acc: 0.4336 - top_k_categorical_accuracy: 0.6025Epoch 1/50\n",
      "212/212 [==============================] - 65s 305ms/step - loss: 2.6244 - acc: 0.4348 - top_k_categorical_accuracy: 0.6035 - val_loss: 2.7003 - val_acc: 0.4310 - val_top_k_categorical_accuracy: 0.6018\n",
      "Epoch 5/50\n",
      "211/212 [============================>.] - ETA: 0s - loss: 2.3041 - acc: 0.4855 - top_k_categorical_accuracy: 0.6779Epoch 1/50\n",
      "212/212 [==============================] - 65s 306ms/step - loss: 2.3034 - acc: 0.4857 - top_k_categorical_accuracy: 0.6783 - val_loss: 2.5109 - val_acc: 0.4672 - val_top_k_categorical_accuracy: 0.6305\n",
      "Epoch 6/50\n",
      "211/212 [============================>.] - ETA: 0s - loss: 2.0142 - acc: 0.5415 - top_k_categorical_accuracy: 0.7273Epoch 1/50\n",
      "212/212 [==============================] - 65s 308ms/step - loss: 2.0125 - acc: 0.5417 - top_k_categorical_accuracy: 0.7275 - val_loss: 2.3788 - val_acc: 0.4884 - val_top_k_categorical_accuracy: 0.6673\n",
      "Epoch 7/50\n",
      "211/212 [============================>.] - ETA: 0s - loss: 1.7654 - acc: 0.5846 - top_k_categorical_accuracy: 0.7723Epoch 1/50\n",
      "212/212 [==============================] - 67s 315ms/step - loss: 1.7633 - acc: 0.5851 - top_k_categorical_accuracy: 0.7728 - val_loss: 2.3018 - val_acc: 0.5061 - val_top_k_categorical_accuracy: 0.6755\n",
      "Epoch 8/50\n",
      "211/212 [============================>.] - ETA: 0s - loss: 1.5325 - acc: 0.6384 - top_k_categorical_accuracy: 0.8154Epoch 1/50\n",
      "212/212 [==============================] - 65s 309ms/step - loss: 1.5326 - acc: 0.6386 - top_k_categorical_accuracy: 0.8152 - val_loss: 2.2422 - val_acc: 0.5116 - val_top_k_categorical_accuracy: 0.6933\n",
      "Epoch 9/50\n",
      "211/212 [============================>.] - ETA: 0s - loss: 1.2980 - acc: 0.6821 - top_k_categorical_accuracy: 0.8573Epoch 1/50\n",
      "212/212 [==============================] - 67s 316ms/step - loss: 1.2998 - acc: 0.6817 - top_k_categorical_accuracy: 0.8571 - val_loss: 2.1980 - val_acc: 0.5403 - val_top_k_categorical_accuracy: 0.7111\n",
      "Epoch 10/50\n",
      "211/212 [============================>.] - ETA: 0s - loss: 1.0870 - acc: 0.7326 - top_k_categorical_accuracy: 0.8873Epoch 1/50\n",
      "212/212 [==============================] - 65s 307ms/step - loss: 1.0888 - acc: 0.7319 - top_k_categorical_accuracy: 0.8872 - val_loss: 2.3932 - val_acc: 0.5205 - val_top_k_categorical_accuracy: 0.7186\n",
      "Epoch 11/50\n",
      "211/212 [============================>.] - ETA: 0s - loss: 0.8852 - acc: 0.7784 - top_k_categorical_accuracy: 0.9187Epoch 1/50\n",
      "212/212 [==============================] - 66s 312ms/step - loss: 0.8839 - acc: 0.7787 - top_k_categorical_accuracy: 0.9186 - val_loss: 2.3753 - val_acc: 0.5348 - val_top_k_categorical_accuracy: 0.7145\n",
      "Epoch 12/50\n",
      "211/212 [============================>.] - ETA: 0s - loss: 0.7151 - acc: 0.8148 - top_k_categorical_accuracy: 0.9427Epoch 1/50\n",
      "212/212 [==============================] - 64s 300ms/step - loss: 0.7163 - acc: 0.8141 - top_k_categorical_accuracy: 0.9426 - val_loss: 2.4951 - val_acc: 0.5355 - val_top_k_categorical_accuracy: 0.7152\n",
      "Epoch 13/50\n",
      "211/212 [============================>.] - ETA: 0s - loss: 0.5475 - acc: 0.8590 - top_k_categorical_accuracy: 0.9610Epoch 1/50\n",
      "212/212 [==============================] - 65s 304ms/step - loss: 0.5463 - acc: 0.8595 - top_k_categorical_accuracy: 0.9612 - val_loss: 2.5571 - val_acc: 0.5594 - val_top_k_categorical_accuracy: 0.7473\n",
      "Epoch 14/50\n",
      "211/212 [============================>.] - ETA: 0s - loss: 0.4039 - acc: 0.8917 - top_k_categorical_accuracy: 0.9772Epoch 1/50\n",
      "212/212 [==============================] - 66s 311ms/step - loss: 0.4050 - acc: 0.8913 - top_k_categorical_accuracy: 0.9771 - val_loss: 2.7665 - val_acc: 0.5608 - val_top_k_categorical_accuracy: 0.7322\n",
      "Epoch 15/50\n",
      "211/212 [============================>.] - ETA: 0s - loss: 0.2923 - acc: 0.9224 - top_k_categorical_accuracy: 0.9855Epoch 1/50\n",
      "212/212 [==============================] - 64s 302ms/step - loss: 0.2928 - acc: 0.9221 - top_k_categorical_accuracy: 0.9854 - val_loss: 2.9195 - val_acc: 0.5492 - val_top_k_categorical_accuracy: 0.7275\n",
      "Epoch 16/50\n",
      "211/212 [============================>.] - ETA: 0s - loss: 0.2100 - acc: 0.9419 - top_k_categorical_accuracy: 0.9936Epoch 1/50\n",
      "212/212 [==============================] - 65s 307ms/step - loss: 0.2106 - acc: 0.9418 - top_k_categorical_accuracy: 0.9935 - val_loss: 3.3279 - val_acc: 0.5553 - val_top_k_categorical_accuracy: 0.7425\n",
      "Epoch 17/50\n",
      "211/212 [============================>.] - ETA: 0s - loss: 0.1558 - acc: 0.9575 - top_k_categorical_accuracy: 0.9963Epoch 1/50\n",
      "212/212 [==============================] - 65s 309ms/step - loss: 0.1556 - acc: 0.9575 - top_k_categorical_accuracy: 0.9963 - val_loss: 3.3670 - val_acc: 0.5751 - val_top_k_categorical_accuracy: 0.7268\n",
      "Epoch 18/50\n",
      "211/212 [============================>.] - ETA: 0s - loss: 0.1138 - acc: 0.9696 - top_k_categorical_accuracy: 0.9978Epoch 1/50\n",
      "212/212 [==============================] - 65s 305ms/step - loss: 0.1140 - acc: 0.9696 - top_k_categorical_accuracy: 0.9978 - val_loss: 3.7259 - val_acc: 0.5635 - val_top_k_categorical_accuracy: 0.7186\n",
      "Epoch 19/50\n",
      "211/212 [============================>.] - ETA: 0s - loss: 0.0946 - acc: 0.9747 - top_k_categorical_accuracy: 0.9990Epoch 1/50\n",
      "212/212 [==============================] - 65s 308ms/step - loss: 0.0944 - acc: 0.9748 - top_k_categorical_accuracy: 0.9990 - val_loss: 3.8290 - val_acc: 0.5717 - val_top_k_categorical_accuracy: 0.7350\n",
      "Epoch 20/50\n",
      "211/212 [============================>.] - ETA: 0s - loss: 0.0778 - acc: 0.9791 - top_k_categorical_accuracy: 0.9991Epoch 1/50\n",
      "212/212 [==============================] - 65s 307ms/step - loss: 0.0775 - acc: 0.9792 - top_k_categorical_accuracy: 0.9991 - val_loss: 3.9208 - val_acc: 0.5656 - val_top_k_categorical_accuracy: 0.7309\n",
      "Epoch 21/50\n",
      "211/212 [============================>.] - ETA: 0s - loss: 0.0707 - acc: 0.9804 - top_k_categorical_accuracy: 0.9994Epoch 1/50\n",
      "212/212 [==============================] - 64s 303ms/step - loss: 0.0704 - acc: 0.9805 - top_k_categorical_accuracy: 0.9994 - val_loss: 3.9373 - val_acc: 0.5772 - val_top_k_categorical_accuracy: 0.7281\n",
      "Epoch 22/50\n",
      "211/212 [============================>.] - ETA: 0s - loss: 0.0575 - acc: 0.9834 - top_k_categorical_accuracy: 0.9999Epoch 1/50\n",
      "212/212 [==============================] - 65s 306ms/step - loss: 0.0572 - acc: 0.9835 - top_k_categorical_accuracy: 0.9999 - val_loss: 4.1301 - val_acc: 0.5669 - val_top_k_categorical_accuracy: 0.7322\n",
      "Epoch 23/50\n",
      "211/212 [============================>.] - ETA: 0s - loss: 0.0489 - acc: 0.9884 - top_k_categorical_accuracy: 0.9996Epoch 1/50\n",
      "212/212 [==============================] - 66s 309ms/step - loss: 0.0490 - acc: 0.9884 - top_k_categorical_accuracy: 0.9996 - val_loss: 4.4779 - val_acc: 0.5451 - val_top_k_categorical_accuracy: 0.7213\n",
      "Epoch 24/50\n",
      "211/212 [============================>.] - ETA: 0s - loss: 0.0497 - acc: 0.9884 - top_k_categorical_accuracy: 0.9997Epoch 1/50\n",
      "212/212 [==============================] - 65s 307ms/step - loss: 0.0496 - acc: 0.9884 - top_k_categorical_accuracy: 0.9997 - val_loss: 4.5510 - val_acc: 0.5710 - val_top_k_categorical_accuracy: 0.7281\n",
      "Epoch 25/50\n",
      "211/212 [============================>.] - ETA: 0s - loss: 0.0439 - acc: 0.9889 - top_k_categorical_accuracy: 1.0000Epoch 1/50\n",
      "212/212 [==============================] - 66s 309ms/step - loss: 0.0438 - acc: 0.9889 - top_k_categorical_accuracy: 1.0000 - val_loss: 4.6966 - val_acc: 0.5642 - val_top_k_categorical_accuracy: 0.7302\n",
      "Epoch 26/50\n",
      "211/212 [============================>.] - ETA: 0s - loss: 0.0386 - acc: 0.9901 - top_k_categorical_accuracy: 1.0000Epoch 1/50\n",
      "212/212 [==============================] - 65s 307ms/step - loss: 0.0384 - acc: 0.9901 - top_k_categorical_accuracy: 1.0000 - val_loss: 4.8039 - val_acc: 0.5635 - val_top_k_categorical_accuracy: 0.7309\n",
      "Epoch 27/50\n",
      "211/212 [============================>.] - ETA: 0s - loss: 0.0336 - acc: 0.9916 - top_k_categorical_accuracy: 1.0000Epoch 1/50\n",
      "212/212 [==============================] - 66s 310ms/step - loss: 0.0351 - acc: 0.9914 - top_k_categorical_accuracy: 1.0000 - val_loss: 5.0984 - val_acc: 0.5492 - val_top_k_categorical_accuracy: 0.7193\n",
      "Epoch 28/50\n",
      "211/212 [============================>.] - ETA: 0s - loss: 0.0292 - acc: 0.9927 - top_k_categorical_accuracy: 1.0000Epoch 1/50\n",
      "212/212 [==============================] - 64s 303ms/step - loss: 0.0295 - acc: 0.9926 - top_k_categorical_accuracy: 1.0000 - val_loss: 5.1516 - val_acc: 0.5615 - val_top_k_categorical_accuracy: 0.7145\n",
      "Epoch 29/50\n",
      "211/212 [============================>.] - ETA: 0s - loss: 0.0352 - acc: 0.9898 - top_k_categorical_accuracy: 0.9999Epoch 1/50\n",
      "212/212 [==============================] - 66s 310ms/step - loss: 0.0354 - acc: 0.9897 - top_k_categorical_accuracy: 0.9999 - val_loss: 5.2890 - val_acc: 0.5587 - val_top_k_categorical_accuracy: 0.7131\n",
      "Epoch 30/50\n",
      "211/212 [============================>.] - ETA: 0s - loss: 0.0325 - acc: 0.9924 - top_k_categorical_accuracy: 1.0000Epoch 1/50\n",
      "212/212 [==============================] - 65s 305ms/step - loss: 0.0324 - acc: 0.9925 - top_k_categorical_accuracy: 1.0000 - val_loss: 4.8320 - val_acc: 0.5669 - val_top_k_categorical_accuracy: 0.7268\n",
      "Epoch 31/50\n",
      "211/212 [============================>.] - ETA: 0s - loss: 0.0304 - acc: 0.9917 - top_k_categorical_accuracy: 0.9999Epoch 1/50\n",
      "212/212 [==============================] - 64s 300ms/step - loss: 0.0314 - acc: 0.9914 - top_k_categorical_accuracy: 0.9999 - val_loss: 4.8922 - val_acc: 0.5663 - val_top_k_categorical_accuracy: 0.7322\n",
      "Epoch 32/50\n",
      "211/212 [============================>.] - ETA: 0s - loss: 0.0261 - acc: 0.9939 - top_k_categorical_accuracy: 0.9999Epoch 1/50\n",
      "212/212 [==============================] - 63s 299ms/step - loss: 0.0260 - acc: 0.9940 - top_k_categorical_accuracy: 0.9999 - val_loss: 5.0042 - val_acc: 0.5745 - val_top_k_categorical_accuracy: 0.7404\n",
      "Epoch 33/50\n",
      "211/212 [============================>.] - ETA: 0s - loss: 0.0265 - acc: 0.9950 - top_k_categorical_accuracy: 1.0000Epoch 1/50\n",
      "212/212 [==============================] - 64s 301ms/step - loss: 0.0265 - acc: 0.9950 - top_k_categorical_accuracy: 1.0000 - val_loss: 5.3699 - val_acc: 0.5704 - val_top_k_categorical_accuracy: 0.7398\n",
      "Epoch 34/50\n",
      "211/212 [============================>.] - ETA: 0s - loss: 0.0222 - acc: 0.9950 - top_k_categorical_accuracy: 0.9999Epoch 1/50\n",
      "212/212 [==============================] - 65s 307ms/step - loss: 0.0221 - acc: 0.9950 - top_k_categorical_accuracy: 0.9999 - val_loss: 5.0583 - val_acc: 0.5799 - val_top_k_categorical_accuracy: 0.7418\n",
      "Epoch 35/50\n",
      "211/212 [============================>.] - ETA: 0s - loss: 0.0230 - acc: 0.9956 - top_k_categorical_accuracy: 1.0000Epoch 1/50\n",
      "212/212 [==============================] - 66s 311ms/step - loss: 0.0229 - acc: 0.9956 - top_k_categorical_accuracy: 1.0000 - val_loss: 5.3592 - val_acc: 0.5745 - val_top_k_categorical_accuracy: 0.7336\n",
      "Epoch 36/50\n",
      "211/212 [============================>.] - ETA: 0s - loss: 0.0249 - acc: 0.9947 - top_k_categorical_accuracy: 0.9999Epoch 1/50\n",
      "212/212 [==============================] - 65s 308ms/step - loss: 0.0248 - acc: 0.9947 - top_k_categorical_accuracy: 0.9999 - val_loss: 5.3011 - val_acc: 0.5731 - val_top_k_categorical_accuracy: 0.7131\n",
      "Epoch 37/50\n",
      "211/212 [============================>.] - ETA: 0s - loss: 0.0215 - acc: 0.9954 - top_k_categorical_accuracy: 0.9999Epoch 1/50\n",
      "212/212 [==============================] - 65s 304ms/step - loss: 0.0214 - acc: 0.9954 - top_k_categorical_accuracy: 0.9999 - val_loss: 5.3370 - val_acc: 0.5717 - val_top_k_categorical_accuracy: 0.7452\n",
      "Epoch 38/50\n",
      "211/212 [============================>.] - ETA: 0s - loss: 0.0252 - acc: 0.9948 - top_k_categorical_accuracy: 1.0000Epoch 1/50\n",
      "212/212 [==============================] - 64s 300ms/step - loss: 0.0251 - acc: 0.9948 - top_k_categorical_accuracy: 1.0000 - val_loss: 5.3837 - val_acc: 0.5676 - val_top_k_categorical_accuracy: 0.7193\n",
      "Epoch 39/50\n",
      "211/212 [============================>.] - ETA: 0s - loss: 0.0216 - acc: 0.9960 - top_k_categorical_accuracy: 0.9999Epoch 1/50\n",
      "212/212 [==============================] - 64s 303ms/step - loss: 0.0215 - acc: 0.9960 - top_k_categorical_accuracy: 0.9999 - val_loss: 5.3481 - val_acc: 0.5799 - val_top_k_categorical_accuracy: 0.7268\n",
      "Epoch 40/50\n",
      "211/212 [============================>.] - ETA: 0s - loss: 0.0188 - acc: 0.9960 - top_k_categorical_accuracy: 0.9997Epoch 1/50\n",
      "212/212 [==============================] - 66s 311ms/step - loss: 0.0187 - acc: 0.9960 - top_k_categorical_accuracy: 0.9997 - val_loss: 5.2684 - val_acc: 0.5745 - val_top_k_categorical_accuracy: 0.7363\n",
      "Epoch 41/50\n",
      "211/212 [============================>.] - ETA: 0s - loss: 0.0221 - acc: 0.9960 - top_k_categorical_accuracy: 0.9999Epoch 1/50\n",
      "212/212 [==============================] - 64s 304ms/step - loss: 0.0220 - acc: 0.9960 - top_k_categorical_accuracy: 0.9999 - val_loss: 5.3283 - val_acc: 0.5724 - val_top_k_categorical_accuracy: 0.7350\n",
      "Epoch 42/50\n",
      "211/212 [============================>.] - ETA: 0s - loss: 0.0181 - acc: 0.9957 - top_k_categorical_accuracy: 0.9999Epoch 1/50\n",
      "212/212 [==============================] - 66s 309ms/step - loss: 0.0180 - acc: 0.9957 - top_k_categorical_accuracy: 0.9999 - val_loss: 5.5618 - val_acc: 0.5738 - val_top_k_categorical_accuracy: 0.7377\n",
      "Epoch 43/50\n",
      "211/212 [============================>.] - ETA: 0s - loss: 0.0193 - acc: 0.9960 - top_k_categorical_accuracy: 1.0000Epoch 1/50\n",
      "212/212 [==============================] - 65s 306ms/step - loss: 0.0223 - acc: 0.9959 - top_k_categorical_accuracy: 1.0000 - val_loss: 5.4504 - val_acc: 0.5594 - val_top_k_categorical_accuracy: 0.7398\n",
      "Epoch 44/50\n",
      "211/212 [============================>.] - ETA: 0s - loss: 0.0184 - acc: 0.9963 - top_k_categorical_accuracy: 1.0000Epoch 1/50\n",
      "212/212 [==============================] - 66s 313ms/step - loss: 0.0183 - acc: 0.9963 - top_k_categorical_accuracy: 1.0000 - val_loss: 5.4163 - val_acc: 0.5833 - val_top_k_categorical_accuracy: 0.7343\n",
      "Epoch 45/50\n",
      "211/212 [============================>.] - ETA: 0s - loss: 0.0183 - acc: 0.9970 - top_k_categorical_accuracy: 0.9999Epoch 1/50\n",
      "212/212 [==============================] - 65s 307ms/step - loss: 0.0182 - acc: 0.9971 - top_k_categorical_accuracy: 0.9999 - val_loss: 5.4453 - val_acc: 0.5704 - val_top_k_categorical_accuracy: 0.7302\n",
      "Epoch 46/50\n",
      "211/212 [============================>.] - ETA: 0s - loss: 0.0119 - acc: 0.9984 - top_k_categorical_accuracy: 1.0000Epoch 1/50\n",
      "212/212 [==============================] - 64s 303ms/step - loss: 0.0119 - acc: 0.9984 - top_k_categorical_accuracy: 1.0000 - val_loss: 5.7157 - val_acc: 0.5799 - val_top_k_categorical_accuracy: 0.7363\n",
      "Epoch 47/50\n",
      "211/212 [============================>.] - ETA: 0s - loss: 0.0212 - acc: 0.9964 - top_k_categorical_accuracy: 0.9997Epoch 1/50\n",
      "212/212 [==============================] - 63s 296ms/step - loss: 0.0211 - acc: 0.9965 - top_k_categorical_accuracy: 0.9997 - val_loss: 5.4798 - val_acc: 0.5669 - val_top_k_categorical_accuracy: 0.7350\n",
      "Epoch 48/50\n",
      "211/212 [============================>.] - ETA: 0s - loss: 0.0101 - acc: 0.9969 - top_k_categorical_accuracy: 1.0000Epoch 1/50\n",
      "212/212 [==============================] - 64s 303ms/step - loss: 0.0100 - acc: 0.9969 - top_k_categorical_accuracy: 1.0000 - val_loss: 6.0090 - val_acc: 0.5669 - val_top_k_categorical_accuracy: 0.7357\n",
      "Epoch 49/50\n",
      "211/212 [============================>.] - ETA: 0s - loss: 0.0113 - acc: 0.9976 - top_k_categorical_accuracy: 1.0000Epoch 1/50\n",
      "212/212 [==============================] - 64s 302ms/step - loss: 0.0112 - acc: 0.9976 - top_k_categorical_accuracy: 1.0000 - val_loss: 5.7713 - val_acc: 0.5628 - val_top_k_categorical_accuracy: 0.7336\n",
      "Epoch 50/50\n",
      "211/212 [============================>.] - ETA: 0s - loss: 0.0150 - acc: 0.9969 - top_k_categorical_accuracy: 0.9999Epoch 1/50\n",
      "212/212 [==============================] - 65s 304ms/step - loss: 0.0149 - acc: 0.9969 - top_k_categorical_accuracy: 0.9999 - val_loss: 5.5949 - val_acc: 0.5779 - val_top_k_categorical_accuracy: 0.7439\n"
     ]
    }
   ],
   "source": [
    "# Compile and fit model\n",
    "model.compile(loss='categorical_crossentropy',\n",
    "              optimizer=optimizers.RMSprop(lr=1e-4),\n",
    "              metrics=['accuracy', 'top_k_categorical_accuracy'])\n",
    "\n",
    "history = model.fit(train_dataset,\n",
    "             validation_data=val_dataset,\n",
    "             epochs=50)"
   ]
  },
  {
   "cell_type": "markdown",
   "metadata": {},
   "source": [
    "## After the model is finished training we store the weights and the history of the model\n",
    "\n",
    "This info is stored such that we can evaluate to model without having to repeatedly train it. \n",
    "\n",
    "The weights are saved through model.save. Documentation for the save function: https://www.tensorflow.org/guide/keras/save_and_serialize\n",
    "\n",
    "The history is stored with numpy as this is convenient given the dictionary structure. Documentaion on numpy.save: https://numpy.org/devdocs/reference/generated/numpy.save.html"
   ]
  },
  {
   "cell_type": "code",
   "execution_count": 7,
   "metadata": {},
   "outputs": [],
   "source": [
    "# Store model\n",
    "\n",
    "model.save(\"./model_weights/6layer.h5\")"
   ]
  },
  {
   "cell_type": "code",
   "execution_count": 8,
   "metadata": {},
   "outputs": [],
   "source": [
    "# Save history of model\n",
    "\n",
    "import numpy as np\n",
    "data_history_training = history.history\n",
    "\n",
    "np.save('./model_histories/6layer.npy', data_history_training)"
   ]
  },
  {
   "cell_type": "markdown",
   "metadata": {},
   "source": [
    "## Now that the model is saved, we can retrieve the model and history to test the model and plot results\n",
    "\n",
    "The model is loaded with the in-built keras function. Documentation: https://www.tensorflow.org/guide/keras/save_and_serialize\n",
    "\n",
    "We evaluate the model with the evaluate function. This gives loss and the performance metrics specified in compile. Documentation: https://keras.io/api/models/model_training_apis/\n",
    "\n",
    "The history for training is retrieved with numpy.load. Documentation: https://numpy.org/doc/stable/reference/generated/numpy.load.html\n",
    "\n",
    "Finally, the history is visualized with matplotlib. Documentation: https://matplotlib.org/\n",
    "\n"
   ]
  },
  {
   "cell_type": "code",
   "execution_count": 10,
   "metadata": {},
   "outputs": [
    {
     "name": "stdout",
     "output_type": "stream",
     "text": [
      "29/29 [==============================] - 3s 111ms/step - loss: 5.7344 - acc: 0.5579 - top_k_categorical_accuracy: 0.7205\n"
     ]
    },
    {
     "data": {
      "text/plain": [
       "[5.734383652192342, 0.55790645, 0.72049]"
      ]
     },
     "execution_count": 10,
     "metadata": {},
     "output_type": "execute_result"
    }
   ],
   "source": [
    "# Evaluate model\n",
    "\n",
    "from tensorflow import keras\n",
    "\n",
    "reconstructed_model = keras.models.load_model(\"./model_weights/6layer.h5\")\n",
    "reconstructed_model.evaluate(test_dataset)"
   ]
  },
  {
   "cell_type": "code",
   "execution_count": 12,
   "metadata": {},
   "outputs": [
    {
     "data": {
      "image/png": "[encoded data removed]",
      "text/plain": [
       "<Figure size 432x288 with 1 Axes>"
      ]
     },
     "metadata": {
      "needs_background": "light"
     },
     "output_type": "display_data"
    },
    {
     "data": {
      "image/png": "[encoded data removed]",
      "text/plain": [
       "<Figure size 432x288 with 1 Axes>"
      ]
     },
     "metadata": {
      "needs_background": "light"
     },
     "output_type": "display_data"
    },
    {
     "data": {
      "image/png": "[encoded data removed]",
      "text/plain": [
       "<Figure size 432x288 with 1 Axes>"
      ]
     },
     "metadata": {
      "needs_background": "light"
     },
     "output_type": "display_data"
    }
   ],
   "source": [
    "import numpy as np\n",
    "reconstructed_history = np.load('./model_histories/6layer.npy',allow_pickle='TRUE').item()\n",
    "\n",
    "import matplotlib.pyplot as plt\n",
    "\n",
    "acc = reconstructed_history['acc']\n",
    "val_acc = reconstructed_history['val_acc']\n",
    "loss = reconstructed_history['loss']\n",
    "val_loss = reconstructed_history['val_loss']\n",
    "top_5_acc = reconstructed_history['top_k_categorical_accuracy']\n",
    "top_5_val_acc = reconstructed_history['val_top_k_categorical_accuracy']\n",
    "\n",
    "epochs = range(len(acc))\n",
    "\n",
    "plt.plot(epochs, acc, label='Training acc')\n",
    "plt.plot(epochs, val_acc, label='Validation acc')\n",
    "plt.title('Training and validation accuracy')\n",
    "plt.legend()\n",
    "plt.xlabel('Epochs')\n",
    "plt.ylabel('Accuracy')\n",
    "\n",
    "plt.figure()\n",
    "\n",
    "plt.plot(epochs, top_5_acc, label='Top-5 accuracy')\n",
    "plt.plot(epochs, top_5_val_acc, label='Top-5 validation accuracy')\n",
    "plt.legend()\n",
    "plt.xlabel('Epochs')\n",
    "plt.ylabel('Accuracy')\n",
    "\n",
    "plt.figure()\n",
    "\n",
    "plt.plot(epochs, loss, label='Training loss')\n",
    "plt.plot(epochs, val_loss, label='Validation loss')\n",
    "plt.title('Training and validation loss')\n",
    "plt.legend()\n",
    "plt.xlabel('Epochs')\n",
    "plt.ylabel('Loss')\n",
    "\n",
    "plt.show()\n"
   ]
  },
  {
   "cell_type": "markdown",
   "metadata": {},
   "source": [
    "## Lastly, we use the model to predict the output on the test data\n",
    "\n",
    "The predict function returns the softmax output defined in the model. Hence, the output from every image is a array of shape (102,). Using the numpy.argmax function gives the most probable class. Documentation on predict: https://keras.io/api/models/model_training_apis/\n",
    "\n",
    "Finally, we use the sklearn library to generate the classification report. Documentation: https://scikit-learn.org/stable/modules/generated/sklearn.metrics.classification_report.html"
   ]
  },
  {
   "cell_type": "code",
   "execution_count": 17,
   "metadata": {},
   "outputs": [],
   "source": [
    "from tensorflow import keras\n",
    "\n",
    "reconstructed_model = keras.models.load_model(\"./model_weights/6layer.h5\")\n",
    "predicted = reconstructed_model.predict(test_dataset)"
   ]
  },
  {
   "cell_type": "code",
   "execution_count": 18,
   "metadata": {
    "scrolled": false
   },
   "outputs": [
    {
     "name": "stdout",
     "output_type": "stream",
     "text": [
      "\n",
      "                   precision    recall  f1-score   support\n",
      "\n",
      "BACKGROUND_Google       0.17      0.24      0.20        42\n",
      "            Faces       0.84      0.93      0.88        45\n",
      "       Faces_easy       0.88      1.00      0.93        35\n",
      "         Leopards       0.71      0.60      0.65        25\n",
      "       Motorbikes       0.98      0.99      0.98        80\n",
      "        accordion       0.62      0.83      0.71         6\n",
      "        airplanes       0.92      1.00      0.96        87\n",
      "           anchor       0.33      0.20      0.25         5\n",
      "              ant       0.00      0.00      0.00         2\n",
      "           barrel       0.00      0.00      0.00         4\n",
      "             bass       0.33      0.12      0.18         8\n",
      "           beaver       0.33      0.20      0.25         5\n",
      "        binocular       0.00      0.00      0.00         3\n",
      "           bonsai       0.86      0.38      0.52        16\n",
      "            brain       0.33      0.33      0.33         9\n",
      "     brontosaurus       0.33      0.33      0.33         3\n",
      "           buddha       0.50      0.20      0.29        10\n",
      "        butterfly       0.00      0.00      0.00         6\n",
      "           camera       1.00      0.17      0.29         6\n",
      "           cannon       0.00      0.00      0.00         5\n",
      "         car_side       1.00      0.60      0.75        10\n",
      "      ceiling_fan       0.20      0.20      0.20         5\n",
      "        cellphone       0.67      0.40      0.50         5\n",
      "            chair       0.50      0.17      0.25         6\n",
      "       chandelier       0.54      0.54      0.54        13\n",
      "      cougar_body       0.00      0.00      0.00         4\n",
      "      cougar_face       0.75      0.60      0.67        10\n",
      "             crab       1.00      0.29      0.44         7\n",
      "         crayfish       0.18      0.38      0.24         8\n",
      "        crocodile       0.00      0.00      0.00         8\n",
      "   crocodile_head       0.25      0.20      0.22         5\n",
      "              cup       0.14      0.20      0.17         5\n",
      "        dalmatian       0.29      0.50      0.36         4\n",
      "      dollar_bill       0.62      0.50      0.56        10\n",
      "          dolphin       1.00      0.50      0.67         4\n",
      "        dragonfly       0.25      1.00      0.40         2\n",
      "  electric_guitar       0.67      0.73      0.70        11\n",
      "         elephant       0.57      0.50      0.53         8\n",
      "              emu       0.11      0.50      0.18         2\n",
      "        euphonium       0.50      0.40      0.44         5\n",
      "             ewer       0.45      0.71      0.56         7\n",
      "            ferry       0.29      0.20      0.24        10\n",
      "         flamingo       0.25      0.20      0.22         5\n",
      "    flamingo_head       0.25      0.40      0.31         5\n",
      "         garfield       0.60      0.50      0.55         6\n",
      "          gerenuk       0.50      0.17      0.25         6\n",
      "       gramophone       0.00      0.00      0.00         4\n",
      "      grand_piano       1.00      0.60      0.75        10\n",
      "        hawksbill       0.59      0.91      0.71        11\n",
      "        headphone       0.00      0.00      0.00         4\n",
      "         hedgehog       0.50      0.40      0.44         5\n",
      "       helicopter       0.40      0.25      0.31         8\n",
      "             ibis       0.29      0.36      0.32        11\n",
      "     inline_skate       0.50      0.50      0.50         2\n",
      "      joshua_tree       0.50      0.50      0.50         6\n",
      "         kangaroo       0.00      0.00      0.00         9\n",
      "            ketch       0.60      0.75      0.67         8\n",
      "             lamp       0.00      0.00      0.00         1\n",
      "           laptop       0.50      0.57      0.53         7\n",
      "            llama       0.43      0.33      0.38         9\n",
      "          lobster       0.00      0.00      0.00         3\n",
      "            lotus       0.50      0.25      0.33         8\n",
      "         mandolin       0.33      0.33      0.33         3\n",
      "           mayfly       0.00      0.00      0.00         1\n",
      "          menorah       0.86      0.67      0.75         9\n",
      "        metronome       0.25      1.00      0.40         1\n",
      "          minaret       1.00      0.33      0.50         3\n",
      "         nautilus       0.33      0.38      0.35         8\n",
      "          octopus       1.00      0.25      0.40         4\n",
      "            okapi       1.00      0.50      0.67         6\n",
      "           pagoda       1.00      0.80      0.89         5\n",
      "            panda       0.20      1.00      0.33         1\n",
      "           pigeon       0.50      0.20      0.29         5\n",
      "            pizza       0.33      0.25      0.29         4\n",
      "         platypus       0.33      1.00      0.50         2\n",
      "          pyramid       1.00      0.20      0.33         5\n",
      "         revolver       0.54      0.64      0.58        11\n",
      "            rhino       0.00      0.00      0.00         3\n",
      "          rooster       0.50      0.25      0.33         4\n",
      "        saxophone       0.00      0.00      0.00         4\n",
      "         schooner       0.50      0.50      0.50         4\n",
      "         scissors       0.50      0.25      0.33         4\n",
      "         scorpion       0.33      0.38      0.36        13\n",
      "        sea_horse       0.00      0.00      0.00         8\n",
      "           snoopy       0.00      0.00      0.00         1\n",
      "      soccer_ball       0.75      0.33      0.46         9\n",
      "          stapler       0.33      0.25      0.29         4\n",
      "         starfish       0.33      0.57      0.42         7\n",
      "      stegosaurus       0.40      0.80      0.53         5\n",
      "        stop_sign       0.17      0.33      0.22         3\n",
      "       strawberry       0.50      0.50      0.50         4\n",
      "        sunflower       0.50      0.50      0.50         8\n",
      "             tick       0.75      0.38      0.50         8\n",
      "        trilobite       0.43      1.00      0.60         6\n",
      "         umbrella       0.55      0.46      0.50        13\n",
      "            watch       0.65      0.62      0.63        21\n",
      "      water_lilly       0.40      0.67      0.50         3\n",
      "       wheelchair       0.17      0.50      0.25         2\n",
      "         wild_cat       0.00      0.00      0.00         1\n",
      "    windsor_chair       1.00      0.50      0.67         6\n",
      "           wrench       0.25      0.17      0.20         6\n",
      "         yin_yang       0.75      0.75      0.75         4\n",
      "\n",
      "         accuracy                           0.56       898\n",
      "        macro avg       0.44      0.40      0.38       898\n",
      "     weighted avg       0.60      0.56      0.55       898\n",
      "\n"
     ]
    },
    {
     "name": "stderr",
     "output_type": "stream",
     "text": [
      "/opt/conda/lib/python3.7/site-packages/sklearn/metrics/_classification.py:1221: UndefinedMetricWarning: Precision and F-score are ill-defined and being set to 0.0 in labels with no predicted samples. Use `zero_division` parameter to control this behavior.\n",
      "  _warn_prf(average, modifier, msg_start, len(result))\n"
     ]
    }
   ],
   "source": [
    "import sklearn\n",
    "\n",
    "true = test_dataset.classes\n",
    "predicted = [np.argmax(x) for x in predicted]\n",
    "predicted = np.array(predicted)\n",
    "labels = test_dataset.class_indices.keys()\n",
    "\n",
    "print('\\n', sklearn.metrics.classification_report(true, predicted, target_names=labels), sep='') "
   ]
  },
  {
   "cell_type": "markdown",
   "metadata": {},
   "source": [
    "\n"
   ]
  }
 ],
 "metadata": {
  "kernelspec": {
   "display_name": "Python 3",
   "language": "python",
   "name": "python3"
  },
  "language_info": {
   "codemirror_mode": {
    "name": "ipython",
    "version": 3
   },
   "file_extension": ".py",
   "mimetype": "text/x-python",
   "name": "python",
   "nbconvert_exporter": "python",
   "pygments_lexer": "ipython3",
   "version": "3.7.8"
  }
 },
 "nbformat": 4,
 "nbformat_minor": 4
}
