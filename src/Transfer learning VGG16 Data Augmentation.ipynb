{
 "cells": [
  {
   "cell_type": "markdown",
   "metadata": {},
   "source": [
    "# Transfer learning with data augmentation\n",
    "\n",
    "### Using VGG16 pre-trained on ImageNet to classify on Clatech101"
   ]
  },
  {
   "cell_type": "markdown",
   "metadata": {},
   "source": [
    "### Data processing with keras.\n",
    " Documentaiton for *ImageDataGenerator* and *flow_from_directory*: https://keras.io/api/preprocessing/image/"
   ]
  },
  {
   "cell_type": "code",
   "execution_count": 18,
   "metadata": {},
   "outputs": [
    {
     "name": "stdout",
     "output_type": "stream",
     "text": [
      "Found 6782 images belonging to 102 classes.\n",
      "Found 1464 images belonging to 102 classes.\n",
      "Found 898 images belonging to 102 classes.\n",
      "Train, in percentage (%) :  74.16885389326335\n",
      "Val, in percentage (%) :  16.010498687664043\n",
      "Test, in percentage (%) :  9.820647419072616\n"
     ]
    }
   ],
   "source": [
    "# Image processing from local files\n",
    "\n",
    "from keras.preprocessing.image import ImageDataGenerator\n",
    "image_size = 224\n",
    "\n",
    "\n",
    "# Define directory roots\n",
    "train_root = './101_ObjectCategories_test/101_ObjectCategories/train'\n",
    "val_root = './101_ObjectCategories_test/101_ObjectCategories/val'\n",
    "test_root = './101_ObjectCategories_test/101_ObjectCategories/test'\n",
    "\n",
    "# Generate training set with data augmentation\n",
    "train_datagen = ImageDataGenerator(rescale=1./255.,\n",
    "                                   rotation_range=40,\n",
    "                                   width_shift_range=0.2,\n",
    "                                   height_shift_range=0.2,\n",
    "                                   horizontal_flip=True,\n",
    "                                   zoom_range=0.1,\n",
    "                                   shear_range=0.2,\n",
    "                                  )\n",
    "\n",
    "train_dataset = train_datagen.flow_from_directory(\n",
    "    train_root,\n",
    "    target_size=(image_size, image_size),\n",
    "    batch_size=32\n",
    ")\n",
    "\n",
    "\n",
    "# Generate validation set   \n",
    "val_datagen = ImageDataGenerator(rescale=1./255.)\n",
    "\n",
    "val_dataset = val_datagen.flow_from_directory(\n",
    "    val_root,\n",
    "    target_size=(image_size, image_size),\n",
    "    batch_size=32\n",
    ")\n",
    "\n",
    "# Generate test set\n",
    "test_datagen = ImageDataGenerator(rescale=1./255.)\n",
    "\n",
    "test_dataset = test_datagen.flow_from_directory(\n",
    "    test_root,\n",
    "    target_size=(image_size, image_size),\n",
    "    batch_size=32,\n",
    "    shuffle=False\n",
    ")\n",
    "\n",
    "total_length = len(train_dataset.filenames) + len(val_dataset.filenames) + len(test_dataset.filenames)\n",
    "print(\"Train, in percentage (%) : \", len(train_dataset.filenames)/total_length * 100)\n",
    "print(\"Val, in percentage (%) : \", len(val_dataset.filenames)/total_length * 100)\n",
    "print(\"Test, in percentage (%) : \", len(test_dataset.filenames)/total_length * 100)"
   ]
  },
  {
   "cell_type": "markdown",
   "metadata": {},
   "source": [
    "## Building the model\n",
    "\n",
    "We define the necessary packages needed. Next we define the base model to be the VGG16 model pre-trained on ImageNet.\n",
    "Documentation for the VGG16 model: https://keras.io/api/applications/vgg/#vgg16-function\n",
    "Documentation for ImageNet: http://www.image-net.org/\n",
    "\n",
    "Following this, we modify the output layer of VGG16 to fit the Caltech101 dataset. Next, we set the already pre-trained weights of VGG16 to untrainable, while only having the softmax output layer trainable. This saves a lot of time when training the network. Documentation for trainable/untrainable layers: https://keras.io/guides/transfer_learning/"
   ]
  },
  {
   "cell_type": "code",
   "execution_count": 2,
   "metadata": {},
   "outputs": [],
   "source": [
    "# Include all packages\n",
    "from tensorflow.keras.applications import VGG16\n",
    "from tensorflow.keras.models import Sequential\n",
    "from tensorflow.keras.layers import Dense\n",
    "from tensorflow.keras import Model\n",
    "from tensorflow.keras import optimizers\n"
   ]
  },
  {
   "cell_type": "code",
   "execution_count": 4,
   "metadata": {},
   "outputs": [
    {
     "name": "stdout",
     "output_type": "stream",
     "text": [
      "Model: \"vgg16\"\n",
      "_________________________________________________________________\n",
      "Layer (type)                 Output Shape              Param #   \n",
      "=================================================================\n",
      "input_2 (InputLayer)         [(None, 224, 224, 3)]     0         \n",
      "_________________________________________________________________\n",
      "block1_conv1 (Conv2D)        (None, 224, 224, 64)      1792      \n",
      "_________________________________________________________________\n",
      "block1_conv2 (Conv2D)        (None, 224, 224, 64)      36928     \n",
      "_________________________________________________________________\n",
      "block1_pool (MaxPooling2D)   (None, 112, 112, 64)      0         \n",
      "_________________________________________________________________\n",
      "block2_conv1 (Conv2D)        (None, 112, 112, 128)     73856     \n",
      "_________________________________________________________________\n",
      "block2_conv2 (Conv2D)        (None, 112, 112, 128)     147584    \n",
      "_________________________________________________________________\n",
      "block2_pool (MaxPooling2D)   (None, 56, 56, 128)       0         \n",
      "_________________________________________________________________\n",
      "block3_conv1 (Conv2D)        (None, 56, 56, 256)       295168    \n",
      "_________________________________________________________________\n",
      "block3_conv2 (Conv2D)        (None, 56, 56, 256)       590080    \n",
      "_________________________________________________________________\n",
      "block3_conv3 (Conv2D)        (None, 56, 56, 256)       590080    \n",
      "_________________________________________________________________\n",
      "block3_pool (MaxPooling2D)   (None, 28, 28, 256)       0         \n",
      "_________________________________________________________________\n",
      "block4_conv1 (Conv2D)        (None, 28, 28, 512)       1180160   \n",
      "_________________________________________________________________\n",
      "block4_conv2 (Conv2D)        (None, 28, 28, 512)       2359808   \n",
      "_________________________________________________________________\n",
      "block4_conv3 (Conv2D)        (None, 28, 28, 512)       2359808   \n",
      "_________________________________________________________________\n",
      "block4_pool (MaxPooling2D)   (None, 14, 14, 512)       0         \n",
      "_________________________________________________________________\n",
      "block5_conv1 (Conv2D)        (None, 14, 14, 512)       2359808   \n",
      "_________________________________________________________________\n",
      "block5_conv2 (Conv2D)        (None, 14, 14, 512)       2359808   \n",
      "_________________________________________________________________\n",
      "block5_conv3 (Conv2D)        (None, 14, 14, 512)       2359808   \n",
      "_________________________________________________________________\n",
      "block5_pool (MaxPooling2D)   (None, 7, 7, 512)         0         \n",
      "_________________________________________________________________\n",
      "flatten (Flatten)            (None, 25088)             0         \n",
      "_________________________________________________________________\n",
      "fc1 (Dense)                  (None, 4096)              102764544 \n",
      "_________________________________________________________________\n",
      "fc2 (Dense)                  (None, 4096)              16781312  \n",
      "_________________________________________________________________\n",
      "predictions (Dense)          (None, 1000)              4097000   \n",
      "=================================================================\n",
      "Total params: 138,357,544\n",
      "Trainable params: 138,357,544\n",
      "Non-trainable params: 0\n",
      "_________________________________________________________________\n"
     ]
    }
   ],
   "source": [
    "# Base model = VGG16\n",
    "\n",
    "base_model = VGG16(weights='imagenet',\n",
    "                  include_top=True,\n",
    "                  )\n",
    "\n",
    "base_model.summary()\n"
   ]
  },
  {
   "cell_type": "code",
   "execution_count": 5,
   "metadata": {},
   "outputs": [
    {
     "name": "stdout",
     "output_type": "stream",
     "text": [
      "Model: \"model\"\n",
      "_________________________________________________________________\n",
      "Layer (type)                 Output Shape              Param #   \n",
      "=================================================================\n",
      "input_2 (InputLayer)         [(None, 224, 224, 3)]     0         \n",
      "_________________________________________________________________\n",
      "block1_conv1 (Conv2D)        (None, 224, 224, 64)      1792      \n",
      "_________________________________________________________________\n",
      "block1_conv2 (Conv2D)        (None, 224, 224, 64)      36928     \n",
      "_________________________________________________________________\n",
      "block1_pool (MaxPooling2D)   (None, 112, 112, 64)      0         \n",
      "_________________________________________________________________\n",
      "block2_conv1 (Conv2D)        (None, 112, 112, 128)     73856     \n",
      "_________________________________________________________________\n",
      "block2_conv2 (Conv2D)        (None, 112, 112, 128)     147584    \n",
      "_________________________________________________________________\n",
      "block2_pool (MaxPooling2D)   (None, 56, 56, 128)       0         \n",
      "_________________________________________________________________\n",
      "block3_conv1 (Conv2D)        (None, 56, 56, 256)       295168    \n",
      "_________________________________________________________________\n",
      "block3_conv2 (Conv2D)        (None, 56, 56, 256)       590080    \n",
      "_________________________________________________________________\n",
      "block3_conv3 (Conv2D)        (None, 56, 56, 256)       590080    \n",
      "_________________________________________________________________\n",
      "block3_pool (MaxPooling2D)   (None, 28, 28, 256)       0         \n",
      "_________________________________________________________________\n",
      "block4_conv1 (Conv2D)        (None, 28, 28, 512)       1180160   \n",
      "_________________________________________________________________\n",
      "block4_conv2 (Conv2D)        (None, 28, 28, 512)       2359808   \n",
      "_________________________________________________________________\n",
      "block4_conv3 (Conv2D)        (None, 28, 28, 512)       2359808   \n",
      "_________________________________________________________________\n",
      "block4_pool (MaxPooling2D)   (None, 14, 14, 512)       0         \n",
      "_________________________________________________________________\n",
      "block5_conv1 (Conv2D)        (None, 14, 14, 512)       2359808   \n",
      "_________________________________________________________________\n",
      "block5_conv2 (Conv2D)        (None, 14, 14, 512)       2359808   \n",
      "_________________________________________________________________\n",
      "block5_conv3 (Conv2D)        (None, 14, 14, 512)       2359808   \n",
      "_________________________________________________________________\n",
      "block5_pool (MaxPooling2D)   (None, 7, 7, 512)         0         \n",
      "_________________________________________________________________\n",
      "flatten (Flatten)            (None, 25088)             0         \n",
      "_________________________________________________________________\n",
      "fc1 (Dense)                  (None, 4096)              102764544 \n",
      "_________________________________________________________________\n",
      "fc2 (Dense)                  (None, 4096)              16781312  \n",
      "_________________________________________________________________\n",
      "dense (Dense)                (None, 102)               417894    \n",
      "=================================================================\n",
      "Total params: 134,678,438\n",
      "Trainable params: 134,678,438\n",
      "Non-trainable params: 0\n",
      "_________________________________________________________________\n"
     ]
    }
   ],
   "source": [
    "# Modify VGG16 model to fit Caltech101.\n",
    "\n",
    "input_layer = base_model.input\n",
    "\n",
    "new_classification_layer = Dense(102, activation='softmax')\n",
    "\n",
    "output_layer = new_classification_layer(base_model.layers[-2].output)\n",
    "\n",
    "\n",
    "modified_VGG16 = Model(input_layer, output_layer)\n",
    "\n",
    "modified_VGG16.summary()"
   ]
  },
  {
   "cell_type": "code",
   "execution_count": 6,
   "metadata": {},
   "outputs": [
    {
     "name": "stdout",
     "output_type": "stream",
     "text": [
      "Model: \"model\"\n",
      "_________________________________________________________________\n",
      "Layer (type)                 Output Shape              Param #   \n",
      "=================================================================\n",
      "input_2 (InputLayer)         [(None, 224, 224, 3)]     0         \n",
      "_________________________________________________________________\n",
      "block1_conv1 (Conv2D)        (None, 224, 224, 64)      1792      \n",
      "_________________________________________________________________\n",
      "block1_conv2 (Conv2D)        (None, 224, 224, 64)      36928     \n",
      "_________________________________________________________________\n",
      "block1_pool (MaxPooling2D)   (None, 112, 112, 64)      0         \n",
      "_________________________________________________________________\n",
      "block2_conv1 (Conv2D)        (None, 112, 112, 128)     73856     \n",
      "_________________________________________________________________\n",
      "block2_conv2 (Conv2D)        (None, 112, 112, 128)     147584    \n",
      "_________________________________________________________________\n",
      "block2_pool (MaxPooling2D)   (None, 56, 56, 128)       0         \n",
      "_________________________________________________________________\n",
      "block3_conv1 (Conv2D)        (None, 56, 56, 256)       295168    \n",
      "_________________________________________________________________\n",
      "block3_conv2 (Conv2D)        (None, 56, 56, 256)       590080    \n",
      "_________________________________________________________________\n",
      "block3_conv3 (Conv2D)        (None, 56, 56, 256)       590080    \n",
      "_________________________________________________________________\n",
      "block3_pool (MaxPooling2D)   (None, 28, 28, 256)       0         \n",
      "_________________________________________________________________\n",
      "block4_conv1 (Conv2D)        (None, 28, 28, 512)       1180160   \n",
      "_________________________________________________________________\n",
      "block4_conv2 (Conv2D)        (None, 28, 28, 512)       2359808   \n",
      "_________________________________________________________________\n",
      "block4_conv3 (Conv2D)        (None, 28, 28, 512)       2359808   \n",
      "_________________________________________________________________\n",
      "block4_pool (MaxPooling2D)   (None, 14, 14, 512)       0         \n",
      "_________________________________________________________________\n",
      "block5_conv1 (Conv2D)        (None, 14, 14, 512)       2359808   \n",
      "_________________________________________________________________\n",
      "block5_conv2 (Conv2D)        (None, 14, 14, 512)       2359808   \n",
      "_________________________________________________________________\n",
      "block5_conv3 (Conv2D)        (None, 14, 14, 512)       2359808   \n",
      "_________________________________________________________________\n",
      "block5_pool (MaxPooling2D)   (None, 7, 7, 512)         0         \n",
      "_________________________________________________________________\n",
      "flatten (Flatten)            (None, 25088)             0         \n",
      "_________________________________________________________________\n",
      "fc1 (Dense)                  (None, 4096)              102764544 \n",
      "_________________________________________________________________\n",
      "fc2 (Dense)                  (None, 4096)              16781312  \n",
      "_________________________________________________________________\n",
      "dense (Dense)                (None, 102)               417894    \n",
      "=================================================================\n",
      "Total params: 134,678,438\n",
      "Trainable params: 417,894\n",
      "Non-trainable params: 134,260,544\n",
      "_________________________________________________________________\n"
     ]
    }
   ],
   "source": [
    "# Make output layer trainabel. All other layers remains with same weights as for the pretrained VGG16 model.\n",
    "\n",
    "for i, layer in enumerate(modified_VGG16.layers[:-1]):\n",
    "    layer.trainable = False\n",
    "    \n",
    "for i, layer in enumerate(modified_VGG16.layers[-1:]):\n",
    "    layer.trainable = True\n",
    "    \n",
    "modified_VGG16.summary()"
   ]
  },
  {
   "cell_type": "markdown",
   "metadata": {},
   "source": [
    "## Training the model\n",
    "\n",
    "Now we want to train the model. Here we need to compile the model with a loss function, optimizer and performance metrics. Then the model is trained on the training dataset and validated on the validation dataset with model.fit(). Documentaiton on compile and fit: https://keras.io/api/models/model_training_apis/"
   ]
  },
  {
   "cell_type": "code",
   "execution_count": 7,
   "metadata": {
    "scrolled": false
   },
   "outputs": [
    {
     "name": "stdout",
     "output_type": "stream",
     "text": [
      "Epoch 1/30\n",
      "211/212 [============================>.] - ETA: 2s - loss: 3.9093 - acc: 0.1865 - top_k_categorical_accuracy: 0.3607Epoch 1/30\n",
      "212/212 [==============================] - 564s 3s/step - loss: 3.9070 - acc: 0.1867 - top_k_categorical_accuracy: 0.3613 - val_loss: 3.4152 - val_acc: 0.2746 - val_top_k_categorical_accuracy: 0.4385\n",
      "Epoch 2/30\n",
      "211/212 [============================>.] - ETA: 2s - loss: 3.2564 - acc: 0.3033 - top_k_categorical_accuracy: 0.5004Epoch 1/30\n",
      "212/212 [==============================] - 516s 2s/step - loss: 3.2542 - acc: 0.3035 - top_k_categorical_accuracy: 0.5010 - val_loss: 2.8929 - val_acc: 0.3347 - val_top_k_categorical_accuracy: 0.5963\n",
      "Epoch 3/30\n",
      "211/212 [============================>.] - ETA: 2s - loss: 2.8546 - acc: 0.3689 - top_k_categorical_accuracy: 0.5972Epoch 1/30\n",
      "212/212 [==============================] - 516s 2s/step - loss: 2.8543 - acc: 0.3689 - top_k_categorical_accuracy: 0.5969 - val_loss: 2.5465 - val_acc: 0.3859 - val_top_k_categorical_accuracy: 0.6913\n",
      "Epoch 4/30\n",
      "211/212 [============================>.] - ETA: 2s - loss: 2.5705 - acc: 0.4213 - top_k_categorical_accuracy: 0.6649Epoch 1/30\n",
      "212/212 [==============================] - 516s 2s/step - loss: 2.5680 - acc: 0.4220 - top_k_categorical_accuracy: 0.6654 - val_loss: 2.3188 - val_acc: 0.4324 - val_top_k_categorical_accuracy: 0.7172\n",
      "Epoch 5/30\n",
      "211/212 [============================>.] - ETA: 2s - loss: 2.3482 - acc: 0.4627 - top_k_categorical_accuracy: 0.7139Epoch 1/30\n",
      "212/212 [==============================] - 517s 2s/step - loss: 2.3485 - acc: 0.4625 - top_k_categorical_accuracy: 0.7141 - val_loss: 2.0883 - val_acc: 0.5027 - val_top_k_categorical_accuracy: 0.7678\n",
      "Epoch 6/30\n",
      "211/212 [============================>.] - ETA: 2s - loss: 2.1817 - acc: 0.5041 - top_k_categorical_accuracy: 0.7439Epoch 1/30\n",
      "212/212 [==============================] - 516s 2s/step - loss: 2.1818 - acc: 0.5044 - top_k_categorical_accuracy: 0.7437 - val_loss: 1.9491 - val_acc: 0.5540 - val_top_k_categorical_accuracy: 0.7814\n",
      "Epoch 7/30\n",
      "211/212 [============================>.] - ETA: 2s - loss: 2.0603 - acc: 0.5304 - top_k_categorical_accuracy: 0.7603Epoch 1/30\n",
      "212/212 [==============================] - 517s 2s/step - loss: 2.0598 - acc: 0.5305 - top_k_categorical_accuracy: 0.7605 - val_loss: 1.8599 - val_acc: 0.5546 - val_top_k_categorical_accuracy: 0.8135\n",
      "Epoch 8/30\n",
      "211/212 [============================>.] - ETA: 2s - loss: 1.9480 - acc: 0.5507 - top_k_categorical_accuracy: 0.7825Epoch 1/30\n",
      "212/212 [==============================] - 515s 2s/step - loss: 1.9492 - acc: 0.5503 - top_k_categorical_accuracy: 0.7824 - val_loss: 1.7692 - val_acc: 0.5669 - val_top_k_categorical_accuracy: 0.8115\n",
      "Epoch 9/30\n",
      "211/212 [============================>.] - ETA: 2s - loss: 1.8633 - acc: 0.5726 - top_k_categorical_accuracy: 0.7990Epoch 1/30\n",
      "212/212 [==============================] - 515s 2s/step - loss: 1.8634 - acc: 0.5725 - top_k_categorical_accuracy: 0.7989 - val_loss: 1.6609 - val_acc: 0.6031 - val_top_k_categorical_accuracy: 0.8313\n",
      "Epoch 10/30\n",
      "211/212 [============================>.] - ETA: 2s - loss: 1.7781 - acc: 0.5910 - top_k_categorical_accuracy: 0.8076Epoch 1/30\n",
      "212/212 [==============================] - 516s 2s/step - loss: 1.7781 - acc: 0.5908 - top_k_categorical_accuracy: 0.8076 - val_loss: 1.6130 - val_acc: 0.6093 - val_top_k_categorical_accuracy: 0.8320\n",
      "Epoch 11/30\n",
      "211/212 [============================>.] - ETA: 2s - loss: 1.7084 - acc: 0.6046 - top_k_categorical_accuracy: 0.8219Epoch 1/30\n",
      "212/212 [==============================] - 517s 2s/step - loss: 1.7122 - acc: 0.6037 - top_k_categorical_accuracy: 0.8210 - val_loss: 1.5677 - val_acc: 0.6182 - val_top_k_categorical_accuracy: 0.8402\n",
      "Epoch 12/30\n",
      "211/212 [============================>.] - ETA: 2s - loss: 1.6532 - acc: 0.6161 - top_k_categorical_accuracy: 0.8261Epoch 1/30\n",
      "212/212 [==============================] - 516s 2s/step - loss: 1.6532 - acc: 0.6165 - top_k_categorical_accuracy: 0.8262 - val_loss: 1.5013 - val_acc: 0.6298 - val_top_k_categorical_accuracy: 0.8463\n",
      "Epoch 13/30\n",
      "211/212 [============================>.] - ETA: 2s - loss: 1.6019 - acc: 0.6249 - top_k_categorical_accuracy: 0.8326Epoch 1/30\n",
      "212/212 [==============================] - 516s 2s/step - loss: 1.6031 - acc: 0.6243 - top_k_categorical_accuracy: 0.8325 - val_loss: 1.4707 - val_acc: 0.6428 - val_top_k_categorical_accuracy: 0.8579\n",
      "Epoch 14/30\n",
      "211/212 [============================>.] - ETA: 2s - loss: 1.5417 - acc: 0.6410 - top_k_categorical_accuracy: 0.8456Epoch 1/30\n",
      "212/212 [==============================] - 516s 2s/step - loss: 1.5439 - acc: 0.6402 - top_k_categorical_accuracy: 0.8450 - val_loss: 1.4156 - val_acc: 0.6407 - val_top_k_categorical_accuracy: 0.8620\n",
      "Epoch 15/30\n",
      "211/212 [============================>.] - ETA: 2s - loss: 1.5025 - acc: 0.6471 - top_k_categorical_accuracy: 0.8487Epoch 1/30\n",
      "212/212 [==============================] - 516s 2s/step - loss: 1.5032 - acc: 0.6472 - top_k_categorical_accuracy: 0.8486 - val_loss: 1.3968 - val_acc: 0.6537 - val_top_k_categorical_accuracy: 0.8654\n",
      "Epoch 16/30\n",
      "211/212 [============================>.] - ETA: 2s - loss: 1.4850 - acc: 0.6471 - top_k_categorical_accuracy: 0.8519Epoch 1/30\n",
      "212/212 [==============================] - 516s 2s/step - loss: 1.4847 - acc: 0.6473 - top_k_categorical_accuracy: 0.8517 - val_loss: 1.3595 - val_acc: 0.6687 - val_top_k_categorical_accuracy: 0.8661\n",
      "Epoch 17/30\n",
      "211/212 [============================>.] - ETA: 2s - loss: 1.4456 - acc: 0.6594 - top_k_categorical_accuracy: 0.8601Epoch 1/30\n",
      "212/212 [==============================] - 516s 2s/step - loss: 1.4435 - acc: 0.6601 - top_k_categorical_accuracy: 0.8604 - val_loss: 1.3198 - val_acc: 0.6714 - val_top_k_categorical_accuracy: 0.8702\n",
      "Epoch 18/30\n",
      "211/212 [============================>.] - ETA: 2s - loss: 1.4142 - acc: 0.6615 - top_k_categorical_accuracy: 0.8630Epoch 1/30\n",
      "212/212 [==============================] - 515s 2s/step - loss: 1.4142 - acc: 0.6613 - top_k_categorical_accuracy: 0.8630 - val_loss: 1.3009 - val_acc: 0.6803 - val_top_k_categorical_accuracy: 0.8695\n",
      "Epoch 19/30\n",
      "211/212 [============================>.] - ETA: 2s - loss: 1.3899 - acc: 0.6695 - top_k_categorical_accuracy: 0.8609Epoch 1/30\n",
      "212/212 [==============================] - 516s 2s/step - loss: 1.3896 - acc: 0.6694 - top_k_categorical_accuracy: 0.8610 - val_loss: 1.2961 - val_acc: 0.6721 - val_top_k_categorical_accuracy: 0.8798\n",
      "Epoch 20/30\n",
      "211/212 [============================>.] - ETA: 2s - loss: 1.3637 - acc: 0.6757 - top_k_categorical_accuracy: 0.8656Epoch 1/30\n",
      "212/212 [==============================] - 516s 2s/step - loss: 1.3634 - acc: 0.6761 - top_k_categorical_accuracy: 0.8658 - val_loss: 1.2437 - val_acc: 0.6967 - val_top_k_categorical_accuracy: 0.8818\n",
      "Epoch 21/30\n",
      "211/212 [============================>.] - ETA: 2s - loss: 1.3412 - acc: 0.6804 - top_k_categorical_accuracy: 0.8741Epoch 1/30\n",
      "212/212 [==============================] - 515s 2s/step - loss: 1.3397 - acc: 0.6803 - top_k_categorical_accuracy: 0.8742 - val_loss: 1.2576 - val_acc: 0.6844 - val_top_k_categorical_accuracy: 0.8852\n",
      "Epoch 22/30\n",
      "211/212 [============================>.] - ETA: 2s - loss: 1.3172 - acc: 0.6827 - top_k_categorical_accuracy: 0.8741Epoch 1/30\n",
      "212/212 [==============================] - 516s 2s/step - loss: 1.3190 - acc: 0.6824 - top_k_categorical_accuracy: 0.8741 - val_loss: 1.2376 - val_acc: 0.6995 - val_top_k_categorical_accuracy: 0.8791\n",
      "Epoch 23/30\n",
      "211/212 [============================>.] - ETA: 2s - loss: 1.2863 - acc: 0.6913 - top_k_categorical_accuracy: 0.8744Epoch 1/30\n",
      "212/212 [==============================] - 516s 2s/step - loss: 1.2866 - acc: 0.6907 - top_k_categorical_accuracy: 0.8742 - val_loss: 1.2169 - val_acc: 0.6865 - val_top_k_categorical_accuracy: 0.8846\n",
      "Epoch 24/30\n",
      "211/212 [============================>.] - ETA: 2s - loss: 1.2645 - acc: 0.6930 - top_k_categorical_accuracy: 0.8785Epoch 1/30\n",
      "212/212 [==============================] - 516s 2s/step - loss: 1.2648 - acc: 0.6927 - top_k_categorical_accuracy: 0.8785 - val_loss: 1.1706 - val_acc: 0.7056 - val_top_k_categorical_accuracy: 0.8928\n",
      "Epoch 25/30\n",
      "211/212 [============================>.] - ETA: 2s - loss: 1.2483 - acc: 0.6982 - top_k_categorical_accuracy: 0.8825Epoch 1/30\n",
      "212/212 [==============================] - 516s 2s/step - loss: 1.2471 - acc: 0.6986 - top_k_categorical_accuracy: 0.8826 - val_loss: 1.1643 - val_acc: 0.7083 - val_top_k_categorical_accuracy: 0.8996\n",
      "Epoch 26/30\n",
      "211/212 [============================>.] - ETA: 2s - loss: 1.2288 - acc: 0.7006 - top_k_categorical_accuracy: 0.8840Epoch 1/30\n",
      "212/212 [==============================] - 514s 2s/step - loss: 1.2302 - acc: 0.7007 - top_k_categorical_accuracy: 0.8835 - val_loss: 1.1614 - val_acc: 0.7104 - val_top_k_categorical_accuracy: 0.8900\n",
      "Epoch 27/30\n",
      "211/212 [============================>.] - ETA: 2s - loss: 1.2176 - acc: 0.7021 - top_k_categorical_accuracy: 0.8862Epoch 1/30\n",
      "212/212 [==============================] - 516s 2s/step - loss: 1.2180 - acc: 0.7019 - top_k_categorical_accuracy: 0.8863 - val_loss: 1.1632 - val_acc: 0.7138 - val_top_k_categorical_accuracy: 0.8941\n",
      "Epoch 28/30\n",
      "211/212 [============================>.] - ETA: 2s - loss: 1.2027 - acc: 0.7016 - top_k_categorical_accuracy: 0.8896Epoch 1/30\n",
      "212/212 [==============================] - 515s 2s/step - loss: 1.2021 - acc: 0.7019 - top_k_categorical_accuracy: 0.8896 - val_loss: 1.1441 - val_acc: 0.7131 - val_top_k_categorical_accuracy: 0.8955\n",
      "Epoch 29/30\n",
      "211/212 [============================>.] - ETA: 2s - loss: 1.1914 - acc: 0.7056 - top_k_categorical_accuracy: 0.8901Epoch 1/30\n",
      "212/212 [==============================] - 514s 2s/step - loss: 1.1901 - acc: 0.7061 - top_k_categorical_accuracy: 0.8904 - val_loss: 1.1461 - val_acc: 0.7063 - val_top_k_categorical_accuracy: 0.8955\n",
      "Epoch 30/30\n",
      "211/212 [============================>.] - ETA: 2s - loss: 1.1751 - acc: 0.7076 - top_k_categorical_accuracy: 0.8936Epoch 1/30\n",
      "212/212 [==============================] - 514s 2s/step - loss: 1.1748 - acc: 0.7081 - top_k_categorical_accuracy: 0.8935 - val_loss: 1.1310 - val_acc: 0.7090 - val_top_k_categorical_accuracy: 0.8934\n"
     ]
    }
   ],
   "source": [
    "modified_VGG16.compile(loss='categorical_crossentropy',\n",
    "                      optimizer=optimizers.RMSprop(lr=1e-4),\n",
    "                      metrics=['accuracy', 'top_k_categorical_accuracy'])\n",
    "\n",
    "history = modified_VGG16.fit(train_dataset,\n",
    "                  validation_data=val_dataset,\n",
    "                  epochs=30)"
   ]
  },
  {
   "cell_type": "markdown",
   "metadata": {},
   "source": [
    "## After the model is finished training we store the weights and the history of the model\n",
    "\n",
    "This info is stored such that we can evaluate to model without having to repeatedly train it. \n",
    "\n",
    "The weights are saved through model.save. Documentation for the save function: https://www.tensorflow.org/guide/keras/save_and_serialize\n",
    "\n",
    "The history is stored with numpy as this is convenient given the dictionary structure. Documentaion on numpy.save: https://numpy.org/devdocs/reference/generated/numpy.save.html"
   ]
  },
  {
   "cell_type": "code",
   "execution_count": 8,
   "metadata": {},
   "outputs": [],
   "source": [
    "modified_VGG16.save(\"./model_weights/Transfer_learning_VGG16_data_augmentation.h5\")"
   ]
  },
  {
   "cell_type": "code",
   "execution_count": 9,
   "metadata": {},
   "outputs": [],
   "source": [
    "import numpy as np\n",
    "data_history_training = history.history\n",
    "\n",
    "np.save('./model_histories/Transfer_learning_VGG16_data_augmentation.npy', data_history_training)"
   ]
  },
  {
   "cell_type": "markdown",
   "metadata": {},
   "source": [
    "## Now that the model is saved, we can retrieve the model and history to test the model and plot results\n",
    "\n",
    "The model is loaded with the in-built keras function. Documentation: https://www.tensorflow.org/guide/keras/save_and_serialize\n",
    "\n",
    "We evaluate the model with the evaluate function. This gives loss and the performance metrics specified in compile. Documentation: https://keras.io/api/models/model_training_apis/\n",
    "\n",
    "The history for training is retrieved with numpy.load. Documentation: https://numpy.org/doc/stable/reference/generated/numpy.load.html\n",
    "\n",
    "Finally, the history is visualized with matplotlib. Documentation: https://matplotlib.org/\n",
    "\n"
   ]
  },
  {
   "cell_type": "code",
   "execution_count": 11,
   "metadata": {},
   "outputs": [
    {
     "name": "stdout",
     "output_type": "stream",
     "text": [
      "29/29 [==============================] - 48s 2s/step - loss: 1.1025 - acc: 0.7238 - top_k_categorical_accuracy: 0.8886\n"
     ]
    },
    {
     "data": {
      "text/plain": [
       "[1.1024912266253397, 0.72383076, 0.8886414]"
      ]
     },
     "execution_count": 11,
     "metadata": {},
     "output_type": "execute_result"
    }
   ],
   "source": [
    "# Run model on test set from saved model\n",
    "\n",
    "from tensorflow import keras\n",
    "\n",
    "reconstructed_model_VGG16 = keras.models.load_model(\"./model_weights/Transfer_learning_VGG16_data_augmentation.h5\")\n",
    "reconstructed_model_VGG16.evaluate(test_dataset)"
   ]
  },
  {
   "cell_type": "code",
   "execution_count": 12,
   "metadata": {},
   "outputs": [
    {
     "data": {
      "image/png": "[encoded data removed]",
      "text/plain": [
       "<Figure size 432x288 with 1 Axes>"
      ]
     },
     "metadata": {
      "needs_background": "light"
     },
     "output_type": "display_data"
    },
    {
     "data": {
      "image/png": "[encoded data removed]",
      "text/plain": [
       "<Figure size 432x288 with 1 Axes>"
      ]
     },
     "metadata": {
      "needs_background": "light"
     },
     "output_type": "display_data"
    },
    {
     "data": {
      "image/png": "[encoded data removed]",
      "text/plain": [
       "<Figure size 432x288 with 1 Axes>"
      ]
     },
     "metadata": {
      "needs_background": "light"
     },
     "output_type": "display_data"
    }
   ],
   "source": [
    "import numpy as np\n",
    "reconstructed_history_VGG16 = np.load('./model_histories/Transfer_learning_VGG16_data_augmentation.npy',allow_pickle='TRUE').item()\n",
    "\n",
    "import matplotlib.pyplot as plt\n",
    "\n",
    "acc = reconstructed_history_VGG16['acc']\n",
    "val_acc = reconstructed_history_VGG16['val_acc']\n",
    "\n",
    "loss = reconstructed_history_VGG16['loss']\n",
    "val_loss = reconstructed_history_VGG16['val_loss']\n",
    "\n",
    "top_5_acc = reconstructed_history_VGG16['top_k_categorical_accuracy']\n",
    "top_5_val_acc = reconstructed_history_VGG16['val_top_k_categorical_accuracy']\n",
    "\n",
    "epochs = range(len(acc))\n",
    "\n",
    "plt.plot(epochs, acc, label='Training accuracy')\n",
    "plt.plot(epochs, val_acc, label='Validation accuracy')\n",
    "plt.title('Training and validation accuracy (top-1 accuracy)')\n",
    "plt.legend()\n",
    "plt.xlabel('Epochs')\n",
    "plt.ylabel('Accuracy')\n",
    "\n",
    "plt.figure()\n",
    "plt.plot(epochs, top_5_acc, label='Top-5 training accuracy')\n",
    "plt.plot(epochs, top_5_val_acc, label='Top-5 validation accuracy')\n",
    "plt.title('Top-5 training and validation accuracy')\n",
    "plt.legend()\n",
    "plt.xlabel('Epochs')\n",
    "plt.ylabel('Accuracy')\n",
    "\n",
    "plt.figure()\n",
    "\n",
    "plt.plot(epochs, loss, label='Training loss')\n",
    "plt.plot(epochs, val_loss, label='Validation loss')\n",
    "plt.title('Training and validation loss')\n",
    "plt.legend()\n",
    "plt.xlabel('Epochs')\n",
    "plt.ylabel('Loss')\n",
    "\n",
    "plt.show()\n"
   ]
  },
  {
   "cell_type": "markdown",
   "metadata": {},
   "source": [
    "## Lastly, we use the model to predict the output on the test data\n",
    "\n",
    "The predict function returns the softmax output defined in the model. Hence, the output from every image is a array of shape (102,). Using the numpy.argmax function gives the most probable class. Documentation on predict: https://keras.io/api/models/model_training_apis/\n",
    "\n",
    "Finally, we use the sklearn library to generate the classification report. Documentation: https://scikit-learn.org/stable/modules/generated/sklearn.metrics.classification_report.html"
   ]
  },
  {
   "cell_type": "code",
   "execution_count": 13,
   "metadata": {},
   "outputs": [],
   "source": [
    "import sklearn\n",
    "from sklearn.metrics import classification_report\n",
    "from tensorflow import keras\n",
    "import numpy as np\n",
    "\n",
    "reconstructed_model_VGG16 = keras.models.load_model(\"./model_weights/Transfer_learning_VGG16_data_augmentation.h5\")\n"
   ]
  },
  {
   "cell_type": "code",
   "execution_count": 19,
   "metadata": {},
   "outputs": [],
   "source": [
    "predicted = reconstructed_model_VGG16.predict(test_dataset)"
   ]
  },
  {
   "cell_type": "code",
   "execution_count": 20,
   "metadata": {
    "scrolled": false
   },
   "outputs": [
    {
     "name": "stdout",
     "output_type": "stream",
     "text": [
      "\n",
      "                   precision    recall  f1-score   support\n",
      "\n",
      "BACKGROUND_Google       0.40      0.38      0.39        42\n",
      "            Faces       0.96      0.96      0.96        45\n",
      "       Faces_easy       0.95      1.00      0.97        35\n",
      "         Leopards       0.85      0.92      0.88        25\n",
      "       Motorbikes       0.89      0.99      0.93        80\n",
      "        accordion       1.00      1.00      1.00         6\n",
      "        airplanes       0.86      0.95      0.90        87\n",
      "           anchor       1.00      0.20      0.33         5\n",
      "              ant       0.20      1.00      0.33         2\n",
      "           barrel       1.00      0.50      0.67         4\n",
      "             bass       1.00      0.12      0.22         8\n",
      "           beaver       1.00      0.20      0.33         5\n",
      "        binocular       1.00      0.33      0.50         3\n",
      "           bonsai       0.79      0.94      0.86        16\n",
      "            brain       0.80      0.89      0.84         9\n",
      "     brontosaurus       0.50      0.33      0.40         3\n",
      "           buddha       0.78      0.70      0.74        10\n",
      "        butterfly       0.75      0.50      0.60         6\n",
      "           camera       0.83      0.83      0.83         6\n",
      "           cannon       0.00      0.00      0.00         5\n",
      "         car_side       1.00      1.00      1.00        10\n",
      "      ceiling_fan       0.80      0.80      0.80         5\n",
      "        cellphone       0.80      0.80      0.80         5\n",
      "            chair       0.67      0.33      0.44         6\n",
      "       chandelier       0.80      0.62      0.70        13\n",
      "      cougar_body       1.00      0.50      0.67         4\n",
      "      cougar_face       0.62      1.00      0.77        10\n",
      "             crab       0.67      0.57      0.62         7\n",
      "         crayfish       1.00      0.12      0.22         8\n",
      "        crocodile       0.00      0.00      0.00         8\n",
      "   crocodile_head       0.25      0.80      0.38         5\n",
      "              cup       0.50      0.60      0.55         5\n",
      "        dalmatian       0.80      1.00      0.89         4\n",
      "      dollar_bill       1.00      0.60      0.75        10\n",
      "          dolphin       0.40      0.50      0.44         4\n",
      "        dragonfly       0.00      0.00      0.00         2\n",
      "  electric_guitar       0.80      0.36      0.50        11\n",
      "         elephant       0.50      0.62      0.56         8\n",
      "              emu       0.12      0.50      0.20         2\n",
      "        euphonium       0.75      0.60      0.67         5\n",
      "             ewer       0.88      1.00      0.93         7\n",
      "            ferry       0.69      0.90      0.78        10\n",
      "         flamingo       0.33      0.80      0.47         5\n",
      "    flamingo_head       1.00      0.60      0.75         5\n",
      "         garfield       0.83      0.83      0.83         6\n",
      "          gerenuk       0.00      0.00      0.00         6\n",
      "       gramophone       1.00      0.75      0.86         4\n",
      "      grand_piano       0.83      1.00      0.91        10\n",
      "        hawksbill       0.69      0.82      0.75        11\n",
      "        headphone       0.50      0.25      0.33         4\n",
      "         hedgehog       1.00      0.20      0.33         5\n",
      "       helicopter       0.70      0.88      0.78         8\n",
      "             ibis       0.33      0.09      0.14        11\n",
      "     inline_skate       0.67      1.00      0.80         2\n",
      "      joshua_tree       0.67      1.00      0.80         6\n",
      "         kangaroo       0.40      0.67      0.50         9\n",
      "            ketch       0.67      0.50      0.57         8\n",
      "             lamp       0.17      1.00      0.29         1\n",
      "           laptop       1.00      0.86      0.92         7\n",
      "            llama       0.17      0.11      0.13         9\n",
      "          lobster       1.00      0.33      0.50         3\n",
      "            lotus       0.75      0.38      0.50         8\n",
      "         mandolin       1.00      0.67      0.80         3\n",
      "           mayfly       0.00      0.00      0.00         1\n",
      "          menorah       0.78      0.78      0.78         9\n",
      "        metronome       1.00      1.00      1.00         1\n",
      "          minaret       1.00      1.00      1.00         3\n",
      "         nautilus       1.00      0.88      0.93         8\n",
      "          octopus       0.25      0.25      0.25         4\n",
      "            okapi       0.00      0.00      0.00         6\n",
      "           pagoda       0.80      0.80      0.80         5\n",
      "            panda       1.00      1.00      1.00         1\n",
      "           pigeon       1.00      0.40      0.57         5\n",
      "            pizza       0.80      1.00      0.89         4\n",
      "         platypus       0.00      0.00      0.00         2\n",
      "          pyramid       1.00      0.40      0.57         5\n",
      "         revolver       1.00      0.73      0.84        11\n",
      "            rhino       0.33      1.00      0.50         3\n",
      "          rooster       0.80      1.00      0.89         4\n",
      "        saxophone       0.50      0.25      0.33         4\n",
      "         schooner       0.29      0.50      0.36         4\n",
      "         scissors       0.67      1.00      0.80         4\n",
      "         scorpion       0.67      0.62      0.64        13\n",
      "        sea_horse       0.80      0.50      0.62         8\n",
      "           snoopy       0.50      1.00      0.67         1\n",
      "      soccer_ball       1.00      0.78      0.88         9\n",
      "          stapler       1.00      0.25      0.40         4\n",
      "         starfish       0.80      0.57      0.67         7\n",
      "      stegosaurus       0.44      0.80      0.57         5\n",
      "        stop_sign       0.75      1.00      0.86         3\n",
      "       strawberry       1.00      0.75      0.86         4\n",
      "        sunflower       1.00      1.00      1.00         8\n",
      "             tick       1.00      0.50      0.67         8\n",
      "        trilobite       0.83      0.83      0.83         6\n",
      "         umbrella       0.67      0.77      0.71        13\n",
      "            watch       0.83      0.95      0.89        21\n",
      "      water_lilly       0.67      0.67      0.67         3\n",
      "       wheelchair       0.09      1.00      0.17         2\n",
      "         wild_cat       0.00      0.00      0.00         1\n",
      "    windsor_chair       0.80      0.67      0.73         6\n",
      "           wrench       1.00      0.17      0.29         6\n",
      "         yin_yang       0.67      1.00      0.80         4\n",
      "\n",
      "         accuracy                           0.72       898\n",
      "        macro avg       0.69      0.63      0.61       898\n",
      "     weighted avg       0.76      0.72      0.71       898\n",
      "\n"
     ]
    }
   ],
   "source": [
    "true = test_dataset.classes\n",
    "predicted = [np.argmax(x) for x in predicted]\n",
    "predicted = np.array(predicted)\n",
    "labels = test_dataset.class_indices.keys()\n",
    "\n",
    "print('\\n', sklearn.metrics.classification_report(true, predicted, target_names=labels), sep='') "
   ]
  }
 ],
 "metadata": {
  "kernelspec": {
   "display_name": "Python 3",
   "language": "python",
   "name": "python3"
  },
  "language_info": {
   "codemirror_mode": {
    "name": "ipython",
    "version": 3
   },
   "file_extension": ".py",
   "mimetype": "text/x-python",
   "name": "python",
   "nbconvert_exporter": "python",
   "pygments_lexer": "ipython3",
   "version": "3.7.8"
  }
 },
 "nbformat": 4,
 "nbformat_minor": 4
}
