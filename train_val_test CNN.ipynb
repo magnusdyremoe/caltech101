{
 "cells": [
  {
   "cell_type": "code",
   "execution_count": null,
   "metadata": {},
   "outputs": [],
   "source": [
    "import zipfile as zf\n",
    "files = zf.ZipFile(\"101_ObjectCategories_test.zip\", 'r')\n",
    "files.extractall('101_ObjectCategories_test')"
   ]
  },
  {
   "cell_type": "markdown",
   "metadata": {},
   "source": [
    "## 5-layer CNN"
   ]
  },
  {
   "cell_type": "code",
   "execution_count": 17,
   "metadata": {
    "scrolled": true
   },
   "outputs": [
    {
     "name": "stdout",
     "output_type": "stream",
     "text": [
      "Found 6782 images belonging to 102 classes.\n",
      "Found 1464 images belonging to 102 classes.\n",
      "Found 898 images belonging to 102 classes.\n",
      "Train, in percentage (%) :  74.16885389326335\n",
      "Val, in percentage (%) :  16.010498687664043\n",
      "Test, in percentage (%) :  9.820647419072616\n"
     ]
    }
   ],
   "source": [
    "# Image processing from local files\n",
    "\n",
    "from keras.preprocessing.image import ImageDataGenerator\n",
    "image_size = 150\n",
    "\n",
    "\n",
    "# Define directory roots\n",
    "train_root = './101_ObjectCategories_test/101_ObjectCategories/train'\n",
    "val_root = './101_ObjectCategories_test/101_ObjectCategories/val'\n",
    "test_root = './101_ObjectCategories_test/101_ObjectCategories/test'\n",
    "\n",
    "# Generate training set\n",
    "train_datagen = ImageDataGenerator(rescale=1./255.)\n",
    "\n",
    "train_dataset = train_datagen.flow_from_directory(\n",
    "    train_root,\n",
    "    target_size=(image_size, image_size),\n",
    "    batch_size=32\n",
    ")\n",
    "                                \n",
    "\n",
    "# Generate validation set   \n",
    "val_datagen = ImageDataGenerator(rescale=1./255.)\n",
    "\n",
    "val_dataset = val_datagen.flow_from_directory(\n",
    "    val_root,\n",
    "    target_size=(image_size, image_size),\n",
    "    batch_size=32\n",
    ")\n",
    "\n",
    "# Generate test set\n",
    "test_datagen = ImageDataGenerator(rescale=1./255.)\n",
    "\n",
    "test_dataset = test_datagen.flow_from_directory(\n",
    "    test_root,\n",
    "    target_size=(image_size, image_size),\n",
    "    batch_size=32,\n",
    "    shuffle=False\n",
    ")\n",
    "\n",
    "total_length = len(train_dataset.filenames) + len(val_dataset.filenames) + len(test_dataset.filenames)\n",
    "print(\"Train, in percentage (%) : \", len(train_dataset.filenames)/total_length * 100)\n",
    "print(\"Val, in percentage (%) : \", len(val_dataset.filenames)/total_length * 100)\n",
    "print(\"Test, in percentage (%) : \", len(test_dataset.filenames)/total_length * 100)"
   ]
  },
  {
   "cell_type": "code",
   "execution_count": 6,
   "metadata": {
    "scrolled": false
   },
   "outputs": [
    {
     "name": "stdout",
     "output_type": "stream",
     "text": [
      "Model: \"sequential_4\"\n",
      "_________________________________________________________________\n",
      "Layer (type)                 Output Shape              Param #   \n",
      "=================================================================\n",
      "conv2d_12 (Conv2D)           (None, 148, 148, 32)      896       \n",
      "_________________________________________________________________\n",
      "max_pooling2d_12 (MaxPooling (None, 74, 74, 32)        0         \n",
      "_________________________________________________________________\n",
      "conv2d_13 (Conv2D)           (None, 72, 72, 64)        18496     \n",
      "_________________________________________________________________\n",
      "max_pooling2d_13 (MaxPooling (None, 36, 36, 64)        0         \n",
      "_________________________________________________________________\n",
      "conv2d_14 (Conv2D)           (None, 34, 34, 128)       73856     \n",
      "_________________________________________________________________\n",
      "max_pooling2d_14 (MaxPooling (None, 17, 17, 128)       0         \n",
      "_________________________________________________________________\n",
      "conv2d_15 (Conv2D)           (None, 15, 15, 256)       295168    \n",
      "_________________________________________________________________\n",
      "max_pooling2d_15 (MaxPooling (None, 7, 7, 256)         0         \n",
      "_________________________________________________________________\n",
      "flatten_4 (Flatten)          (None, 12544)             0         \n",
      "_________________________________________________________________\n",
      "dense_8 (Dense)              (None, 128)               1605760   \n",
      "_________________________________________________________________\n",
      "dense_9 (Dense)              (None, 102)               13158     \n",
      "=================================================================\n",
      "Total params: 2,007,334\n",
      "Trainable params: 2,007,334\n",
      "Non-trainable params: 0\n",
      "_________________________________________________________________\n"
     ]
    }
   ],
   "source": [
    "\n",
    "from tensorflow.keras import optimizers\n",
    "from tensorflow.keras.models import Sequential\n",
    "from tensorflow.keras.layers import Conv2D, MaxPooling2D, Dense, Flatten, BatchNormalization, Dropout\n",
    "\n",
    "cnn_model = Sequential([\n",
    "    Conv2D(32, (3, 3), activation='relu', input_shape=(150, 150, 3)),\n",
    "    MaxPooling2D((2, 2)),\n",
    "    Conv2D(64, (3, 3), activation='relu'),\n",
    "    MaxPooling2D((2, 2)),\n",
    "    Conv2D(128, (3, 3), activation='relu'),\n",
    "    MaxPooling2D((2, 2)),\n",
    "    Conv2D(256, (3, 3), activation='relu'),\n",
    "    MaxPooling2D((2, 2)),\n",
    "    Flatten(),\n",
    "    Dense(128, activation='relu'),\n",
    "    Dense(102, activation='softmax')\n",
    "])\n",
    "\n",
    "cnn_model.summary()"
   ]
  },
  {
   "cell_type": "code",
   "execution_count": 7,
   "metadata": {
    "scrolled": false
   },
   "outputs": [
    {
     "name": "stdout",
     "output_type": "stream",
     "text": [
      "Epoch 1/50\n",
      "211/212 [============================>.] - ETA: 0s - loss: 4.0506 - acc: 0.1747 - top_k_categorical_accuracy: 0.3228Epoch 1/50\n",
      "212/212 [==============================] - 82s 389ms/step - loss: 4.0472 - acc: 0.1753 - top_k_categorical_accuracy: 0.3232 - val_loss: 3.6583 - val_acc: 0.2336 - val_top_k_categorical_accuracy: 0.3921\n",
      "Epoch 2/50\n",
      "211/212 [============================>.] - ETA: 0s - loss: 3.3836 - acc: 0.3064 - top_k_categorical_accuracy: 0.4440Epoch 1/50\n",
      "212/212 [==============================] - 75s 356ms/step - loss: 3.3862 - acc: 0.3054 - top_k_categorical_accuracy: 0.4437 - val_loss: 3.1678 - val_acc: 0.3552 - val_top_k_categorical_accuracy: 0.4993\n",
      "Epoch 3/50\n",
      "211/212 [============================>.] - ETA: 0s - loss: 2.9635 - acc: 0.3799 - top_k_categorical_accuracy: 0.5353Epoch 1/50\n",
      "212/212 [==============================] - 74s 348ms/step - loss: 2.9656 - acc: 0.3795 - top_k_categorical_accuracy: 0.5348 - val_loss: 2.8543 - val_acc: 0.4010 - val_top_k_categorical_accuracy: 0.5642\n",
      "Epoch 4/50\n",
      "211/212 [============================>.] - ETA: 0s - loss: 2.5831 - acc: 0.4473 - top_k_categorical_accuracy: 0.6108Epoch 1/50\n",
      "212/212 [==============================] - 75s 352ms/step - loss: 2.5807 - acc: 0.4474 - top_k_categorical_accuracy: 0.6112 - val_loss: 2.6117 - val_acc: 0.4426 - val_top_k_categorical_accuracy: 0.6148\n",
      "Epoch 5/50\n",
      "211/212 [============================>.] - ETA: 0s - loss: 2.2635 - acc: 0.4953 - top_k_categorical_accuracy: 0.6732Epoch 1/50\n",
      "212/212 [==============================] - 77s 362ms/step - loss: 2.2616 - acc: 0.4956 - top_k_categorical_accuracy: 0.6737 - val_loss: 2.4265 - val_acc: 0.4761 - val_top_k_categorical_accuracy: 0.6250\n",
      "Epoch 6/50\n",
      "211/212 [============================>.] - ETA: 0s - loss: 1.9719 - acc: 0.5513 - top_k_categorical_accuracy: 0.7310Epoch 1/50\n",
      "212/212 [==============================] - 75s 352ms/step - loss: 1.9712 - acc: 0.5512 - top_k_categorical_accuracy: 0.7309 - val_loss: 2.2939 - val_acc: 0.4959 - val_top_k_categorical_accuracy: 0.6735\n",
      "Epoch 7/50\n",
      "211/212 [============================>.] - ETA: 0s - loss: 1.7066 - acc: 0.6046 - top_k_categorical_accuracy: 0.7841Epoch 1/50\n",
      "212/212 [==============================] - 72s 341ms/step - loss: 1.7080 - acc: 0.6041 - top_k_categorical_accuracy: 0.7843 - val_loss: 2.3025 - val_acc: 0.5014 - val_top_k_categorical_accuracy: 0.6824\n",
      "Epoch 8/50\n",
      "211/212 [============================>.] - ETA: 0s - loss: 1.4611 - acc: 0.6502 - top_k_categorical_accuracy: 0.8301Epoch 1/50\n",
      "212/212 [==============================] - 75s 355ms/step - loss: 1.4603 - acc: 0.6505 - top_k_categorical_accuracy: 0.8301 - val_loss: 2.2044 - val_acc: 0.5301 - val_top_k_categorical_accuracy: 0.7063\n",
      "Epoch 9/50\n",
      "211/212 [============================>.] - ETA: 0s - loss: 1.2356 - acc: 0.6996 - top_k_categorical_accuracy: 0.8610Epoch 1/50\n",
      "212/212 [==============================] - 74s 349ms/step - loss: 1.2351 - acc: 0.7001 - top_k_categorical_accuracy: 0.8611 - val_loss: 2.1619 - val_acc: 0.5403 - val_top_k_categorical_accuracy: 0.7336\n",
      "Epoch 10/50\n",
      "211/212 [============================>.] - ETA: 0s - loss: 1.0114 - acc: 0.7471 - top_k_categorical_accuracy: 0.8985Epoch 1/50\n",
      "212/212 [==============================] - 74s 351ms/step - loss: 1.0156 - acc: 0.7461 - top_k_categorical_accuracy: 0.8980 - val_loss: 2.1501 - val_acc: 0.5389 - val_top_k_categorical_accuracy: 0.7268\n",
      "Epoch 11/50\n",
      "211/212 [============================>.] - ETA: 0s - loss: 0.8235 - acc: 0.7868 - top_k_categorical_accuracy: 0.9261Epoch 1/50\n",
      "212/212 [==============================] - 75s 352ms/step - loss: 0.8244 - acc: 0.7866 - top_k_categorical_accuracy: 0.9258 - val_loss: 2.1357 - val_acc: 0.5758 - val_top_k_categorical_accuracy: 0.7384\n",
      "Epoch 12/50\n",
      "211/212 [============================>.] - ETA: 0s - loss: 0.6383 - acc: 0.8327 - top_k_categorical_accuracy: 0.9524Epoch 1/50\n",
      "212/212 [==============================] - 74s 349ms/step - loss: 0.6379 - acc: 0.8329 - top_k_categorical_accuracy: 0.9524 - val_loss: 2.2076 - val_acc: 0.5690 - val_top_k_categorical_accuracy: 0.7404\n",
      "Epoch 13/50\n",
      "211/212 [============================>.] - ETA: 0s - loss: 0.4835 - acc: 0.8686 - top_k_categorical_accuracy: 0.9689Epoch 1/50\n",
      "212/212 [==============================] - 74s 349ms/step - loss: 0.4848 - acc: 0.8680 - top_k_categorical_accuracy: 0.9689 - val_loss: 2.4085 - val_acc: 0.5642 - val_top_k_categorical_accuracy: 0.7329\n",
      "Epoch 14/50\n",
      "211/212 [============================>.] - ETA: 0s - loss: 0.3600 - acc: 0.9028 - top_k_categorical_accuracy: 0.9801Epoch 1/50\n",
      "212/212 [==============================] - 75s 354ms/step - loss: 0.3599 - acc: 0.9030 - top_k_categorical_accuracy: 0.9802 - val_loss: 2.5896 - val_acc: 0.5690 - val_top_k_categorical_accuracy: 0.7343\n",
      "Epoch 15/50\n",
      "211/212 [============================>.] - ETA: 0s - loss: 0.2520 - acc: 0.9329 - top_k_categorical_accuracy: 0.9910Epoch 1/50\n",
      "212/212 [==============================] - 73s 342ms/step - loss: 0.2518 - acc: 0.9331 - top_k_categorical_accuracy: 0.9909 - val_loss: 2.8494 - val_acc: 0.5608 - val_top_k_categorical_accuracy: 0.7493\n",
      "Epoch 16/50\n",
      "211/212 [============================>.] - ETA: 0s - loss: 0.1839 - acc: 0.9533 - top_k_categorical_accuracy: 0.9945Epoch 1/50\n",
      "212/212 [==============================] - 74s 350ms/step - loss: 0.1831 - acc: 0.9536 - top_k_categorical_accuracy: 0.9945 - val_loss: 3.0477 - val_acc: 0.5663 - val_top_k_categorical_accuracy: 0.7411\n",
      "Epoch 17/50\n",
      "211/212 [============================>.] - ETA: 0s - loss: 0.1409 - acc: 0.9633 - top_k_categorical_accuracy: 0.9975Epoch 1/50\n",
      "212/212 [==============================] - 74s 349ms/step - loss: 0.1408 - acc: 0.9633 - top_k_categorical_accuracy: 0.9975 - val_loss: 3.1372 - val_acc: 0.5820 - val_top_k_categorical_accuracy: 0.7240\n",
      "Epoch 18/50\n",
      "211/212 [============================>.] - ETA: 0s - loss: 0.0981 - acc: 0.9744 - top_k_categorical_accuracy: 0.9985Epoch 1/50\n",
      "212/212 [==============================] - 74s 347ms/step - loss: 0.0977 - acc: 0.9745 - top_k_categorical_accuracy: 0.9985 - val_loss: 3.3937 - val_acc: 0.5724 - val_top_k_categorical_accuracy: 0.7432\n",
      "Epoch 19/50\n",
      "211/212 [============================>.] - ETA: 0s - loss: 0.0799 - acc: 0.9796 - top_k_categorical_accuracy: 0.9994Epoch 1/50\n",
      "212/212 [==============================] - 76s 357ms/step - loss: 0.0800 - acc: 0.9795 - top_k_categorical_accuracy: 0.9994 - val_loss: 3.8324 - val_acc: 0.5663 - val_top_k_categorical_accuracy: 0.7336\n",
      "Epoch 20/50\n",
      "211/212 [============================>.] - ETA: 0s - loss: 0.0710 - acc: 0.9810 - top_k_categorical_accuracy: 1.0000Epoch 1/50\n",
      "212/212 [==============================] - 74s 349ms/step - loss: 0.0710 - acc: 0.9810 - top_k_categorical_accuracy: 1.0000 - val_loss: 3.9201 - val_acc: 0.5745 - val_top_k_categorical_accuracy: 0.7377\n",
      "Epoch 21/50\n",
      "211/212 [============================>.] - ETA: 0s - loss: 0.0525 - acc: 0.9856 - top_k_categorical_accuracy: 1.0000Epoch 1/50\n",
      "212/212 [==============================] - 74s 351ms/step - loss: 0.0523 - acc: 0.9857 - top_k_categorical_accuracy: 1.0000 - val_loss: 3.8692 - val_acc: 0.5799 - val_top_k_categorical_accuracy: 0.7439\n",
      "Epoch 22/50\n",
      "211/212 [============================>.] - ETA: 0s - loss: 0.0489 - acc: 0.9873 - top_k_categorical_accuracy: 0.9999Epoch 1/50\n",
      "212/212 [==============================] - 74s 348ms/step - loss: 0.0489 - acc: 0.9872 - top_k_categorical_accuracy: 0.9999 - val_loss: 3.8747 - val_acc: 0.5820 - val_top_k_categorical_accuracy: 0.7363\n",
      "Epoch 23/50\n",
      "211/212 [============================>.] - ETA: 0s - loss: 0.0479 - acc: 0.9871 - top_k_categorical_accuracy: 0.9996Epoch 1/50\n",
      "212/212 [==============================] - 74s 348ms/step - loss: 0.0478 - acc: 0.9872 - top_k_categorical_accuracy: 0.9996 - val_loss: 4.0193 - val_acc: 0.5765 - val_top_k_categorical_accuracy: 0.7445\n",
      "Epoch 24/50\n",
      "211/212 [============================>.] - ETA: 0s - loss: 0.0456 - acc: 0.9890 - top_k_categorical_accuracy: 0.9997Epoch 1/50\n",
      "212/212 [==============================] - 75s 352ms/step - loss: 0.0455 - acc: 0.9891 - top_k_categorical_accuracy: 0.9997 - val_loss: 4.1936 - val_acc: 0.5888 - val_top_k_categorical_accuracy: 0.7486\n",
      "Epoch 25/50\n",
      "211/212 [============================>.] - ETA: 0s - loss: 0.0359 - acc: 0.9907 - top_k_categorical_accuracy: 0.9996Epoch 1/50\n",
      "212/212 [==============================] - 74s 347ms/step - loss: 0.0358 - acc: 0.9907 - top_k_categorical_accuracy: 0.9996 - val_loss: 4.1484 - val_acc: 0.5806 - val_top_k_categorical_accuracy: 0.7432\n",
      "Epoch 26/50\n",
      "211/212 [============================>.] - ETA: 0s - loss: 0.0400 - acc: 0.9896 - top_k_categorical_accuracy: 0.9999Epoch 1/50\n",
      "212/212 [==============================] - 76s 356ms/step - loss: 0.0398 - acc: 0.9897 - top_k_categorical_accuracy: 0.9999 - val_loss: 4.2333 - val_acc: 0.5806 - val_top_k_categorical_accuracy: 0.7357\n",
      "Epoch 27/50\n",
      "211/212 [============================>.] - ETA: 0s - loss: 0.0346 - acc: 0.9910 - top_k_categorical_accuracy: 0.9997Epoch 1/50\n",
      "212/212 [==============================] - 74s 351ms/step - loss: 0.0344 - acc: 0.9910 - top_k_categorical_accuracy: 0.9997 - val_loss: 4.2621 - val_acc: 0.5745 - val_top_k_categorical_accuracy: 0.7500\n",
      "Epoch 28/50\n",
      "211/212 [============================>.] - ETA: 0s - loss: 0.0297 - acc: 0.9933 - top_k_categorical_accuracy: 0.9999Epoch 1/50\n",
      "212/212 [==============================] - 73s 343ms/step - loss: 0.0297 - acc: 0.9934 - top_k_categorical_accuracy: 0.9999 - val_loss: 4.4400 - val_acc: 0.5697 - val_top_k_categorical_accuracy: 0.7391\n",
      "Epoch 29/50\n",
      "211/212 [============================>.] - ETA: 0s - loss: 0.0222 - acc: 0.9944 - top_k_categorical_accuracy: 0.9999Epoch 1/50\n",
      "212/212 [==============================] - 75s 352ms/step - loss: 0.0222 - acc: 0.9944 - top_k_categorical_accuracy: 0.9999 - val_loss: 4.4310 - val_acc: 0.5751 - val_top_k_categorical_accuracy: 0.7480\n",
      "Epoch 30/50\n",
      "211/212 [============================>.] - ETA: 0s - loss: 0.0291 - acc: 0.9938 - top_k_categorical_accuracy: 0.9999Epoch 1/50\n",
      "212/212 [==============================] - 74s 351ms/step - loss: 0.0290 - acc: 0.9938 - top_k_categorical_accuracy: 0.9999 - val_loss: 4.4963 - val_acc: 0.5792 - val_top_k_categorical_accuracy: 0.7480\n",
      "Epoch 31/50\n",
      "211/212 [============================>.] - ETA: 0s - loss: 0.0288 - acc: 0.9938 - top_k_categorical_accuracy: 0.9999Epoch 1/50\n",
      "212/212 [==============================] - 75s 352ms/step - loss: 0.0287 - acc: 0.9938 - top_k_categorical_accuracy: 0.9999 - val_loss: 4.6742 - val_acc: 0.5751 - val_top_k_categorical_accuracy: 0.7425\n",
      "Epoch 32/50\n",
      "211/212 [============================>.] - ETA: 0s - loss: 0.0226 - acc: 0.9953 - top_k_categorical_accuracy: 0.9997Epoch 1/50\n",
      "212/212 [==============================] - 74s 349ms/step - loss: 0.0226 - acc: 0.9953 - top_k_categorical_accuracy: 0.9997 - val_loss: 4.7719 - val_acc: 0.5751 - val_top_k_categorical_accuracy: 0.7452\n",
      "Epoch 33/50\n",
      "211/212 [============================>.] - ETA: 0s - loss: 0.0224 - acc: 0.9954 - top_k_categorical_accuracy: 0.9997Epoch 1/50\n",
      "212/212 [==============================] - 74s 351ms/step - loss: 0.0227 - acc: 0.9953 - top_k_categorical_accuracy: 0.9997 - val_loss: 4.7319 - val_acc: 0.5683 - val_top_k_categorical_accuracy: 0.7357\n",
      "Epoch 34/50\n",
      "211/212 [============================>.] - ETA: 0s - loss: 0.0233 - acc: 0.9947 - top_k_categorical_accuracy: 1.0000Epoch 1/50\n",
      "212/212 [==============================] - 75s 353ms/step - loss: 0.0232 - acc: 0.9947 - top_k_categorical_accuracy: 1.0000 - val_loss: 4.7220 - val_acc: 0.5833 - val_top_k_categorical_accuracy: 0.7350\n",
      "Epoch 35/50\n",
      "211/212 [============================>.] - ETA: 0s - loss: 0.0189 - acc: 0.9961 - top_k_categorical_accuracy: 0.9999Epoch 1/50\n",
      "212/212 [==============================] - 75s 353ms/step - loss: 0.0188 - acc: 0.9962 - top_k_categorical_accuracy: 0.9999 - val_loss: 4.7953 - val_acc: 0.5956 - val_top_k_categorical_accuracy: 0.7548\n",
      "Epoch 36/50\n",
      "211/212 [============================>.] - ETA: 0s - loss: 0.0167 - acc: 0.9960 - top_k_categorical_accuracy: 0.9999Epoch 1/50\n",
      "212/212 [==============================] - 74s 351ms/step - loss: 0.0167 - acc: 0.9960 - top_k_categorical_accuracy: 0.9999 - val_loss: 4.8586 - val_acc: 0.5792 - val_top_k_categorical_accuracy: 0.7480\n",
      "Epoch 37/50\n",
      "211/212 [============================>.] - ETA: 0s - loss: 0.0193 - acc: 0.9966 - top_k_categorical_accuracy: 1.0000Epoch 1/50\n",
      "212/212 [==============================] - 73s 344ms/step - loss: 0.0192 - acc: 0.9966 - top_k_categorical_accuracy: 1.0000 - val_loss: 4.9483 - val_acc: 0.5827 - val_top_k_categorical_accuracy: 0.7534\n",
      "Epoch 38/50\n",
      "211/212 [============================>.] - ETA: 0s - loss: 0.0271 - acc: 0.9950 - top_k_categorical_accuracy: 0.9997Epoch 1/50\n",
      "212/212 [==============================] - 74s 349ms/step - loss: 0.0270 - acc: 0.9950 - top_k_categorical_accuracy: 0.9997 - val_loss: 4.9860 - val_acc: 0.5710 - val_top_k_categorical_accuracy: 0.7527\n",
      "Epoch 39/50\n",
      "211/212 [============================>.] - ETA: 0s - loss: 0.0196 - acc: 0.9954 - top_k_categorical_accuracy: 0.9999Epoch 1/50\n",
      "212/212 [==============================] - 73s 343ms/step - loss: 0.0195 - acc: 0.9954 - top_k_categorical_accuracy: 0.9999 - val_loss: 4.9966 - val_acc: 0.5963 - val_top_k_categorical_accuracy: 0.7548\n",
      "Epoch 40/50\n",
      "211/212 [============================>.] - ETA: 0s - loss: 0.0188 - acc: 0.9961 - top_k_categorical_accuracy: 1.0000Epoch 1/50\n",
      "212/212 [==============================] - 74s 350ms/step - loss: 0.0187 - acc: 0.9962 - top_k_categorical_accuracy: 1.0000 - val_loss: 4.9083 - val_acc: 0.5854 - val_top_k_categorical_accuracy: 0.7507\n",
      "Epoch 41/50\n",
      "211/212 [============================>.] - ETA: 0s - loss: 0.0171 - acc: 0.9954 - top_k_categorical_accuracy: 1.0000Epoch 1/50\n",
      "212/212 [==============================] - 75s 353ms/step - loss: 0.0171 - acc: 0.9954 - top_k_categorical_accuracy: 1.0000 - val_loss: 5.0767 - val_acc: 0.5929 - val_top_k_categorical_accuracy: 0.7486\n",
      "Epoch 42/50\n",
      "211/212 [============================>.] - ETA: 0s - loss: 0.0176 - acc: 0.9973 - top_k_categorical_accuracy: 1.0000Epoch 1/50\n",
      "212/212 [==============================] - 73s 346ms/step - loss: 0.0175 - acc: 0.9973 - top_k_categorical_accuracy: 1.0000 - val_loss: 5.1610 - val_acc: 0.5813 - val_top_k_categorical_accuracy: 0.7452\n",
      "Epoch 43/50\n",
      "211/212 [============================>.] - ETA: 0s - loss: 0.0181 - acc: 0.9969 - top_k_categorical_accuracy: 1.0000Epoch 1/50\n",
      "212/212 [==============================] - 73s 343ms/step - loss: 0.0180 - acc: 0.9969 - top_k_categorical_accuracy: 1.0000 - val_loss: 5.0847 - val_acc: 0.5751 - val_top_k_categorical_accuracy: 0.7418\n",
      "Epoch 44/50\n",
      "211/212 [============================>.] - ETA: 0s - loss: 0.0195 - acc: 0.9960 - top_k_categorical_accuracy: 1.0000Epoch 1/50\n",
      "212/212 [==============================] - 74s 348ms/step - loss: 0.0194 - acc: 0.9960 - top_k_categorical_accuracy: 1.0000 - val_loss: 4.9014 - val_acc: 0.5956 - val_top_k_categorical_accuracy: 0.7493\n",
      "Epoch 45/50\n",
      "211/212 [============================>.] - ETA: 0s - loss: 0.0170 - acc: 0.9957 - top_k_categorical_accuracy: 1.0000Epoch 1/50\n",
      "212/212 [==============================] - 76s 357ms/step - loss: 0.0169 - acc: 0.9957 - top_k_categorical_accuracy: 1.0000 - val_loss: 4.8709 - val_acc: 0.5881 - val_top_k_categorical_accuracy: 0.7507\n",
      "Epoch 46/50\n",
      "211/212 [============================>.] - ETA: 0s - loss: 0.0102 - acc: 0.9984 - top_k_categorical_accuracy: 0.9997Epoch 1/50\n",
      "212/212 [==============================] - 75s 352ms/step - loss: 0.0101 - acc: 0.9984 - top_k_categorical_accuracy: 0.9997 - val_loss: 5.4619 - val_acc: 0.5929 - val_top_k_categorical_accuracy: 0.7452\n",
      "Epoch 47/50\n",
      "211/212 [============================>.] - ETA: 0s - loss: 0.0110 - acc: 0.9972 - top_k_categorical_accuracy: 1.0000Epoch 1/50\n",
      "212/212 [==============================] - 75s 356ms/step - loss: 0.0111 - acc: 0.9971 - top_k_categorical_accuracy: 1.0000 - val_loss: 5.7378 - val_acc: 0.5594 - val_top_k_categorical_accuracy: 0.7336\n",
      "Epoch 48/50\n",
      "211/212 [============================>.] - ETA: 0s - loss: 0.0185 - acc: 0.9967 - top_k_categorical_accuracy: 1.0000Epoch 1/50\n",
      "212/212 [==============================] - 73s 344ms/step - loss: 0.0185 - acc: 0.9968 - top_k_categorical_accuracy: 1.0000 - val_loss: 5.0165 - val_acc: 0.5806 - val_top_k_categorical_accuracy: 0.7432\n",
      "Epoch 49/50\n",
      "211/212 [============================>.] - ETA: 0s - loss: 0.0151 - acc: 0.9981 - top_k_categorical_accuracy: 1.0000Epoch 1/50\n",
      "212/212 [==============================] - 71s 336ms/step - loss: 0.0150 - acc: 0.9981 - top_k_categorical_accuracy: 1.0000 - val_loss: 5.3449 - val_acc: 0.5724 - val_top_k_categorical_accuracy: 0.7466\n",
      "Epoch 50/50\n",
      "211/212 [============================>.] - ETA: 0s - loss: 0.0152 - acc: 0.9976 - top_k_categorical_accuracy: 0.9999Epoch 1/50\n",
      "212/212 [==============================] - 75s 351ms/step - loss: 0.0152 - acc: 0.9976 - top_k_categorical_accuracy: 0.9999 - val_loss: 5.1400 - val_acc: 0.5902 - val_top_k_categorical_accuracy: 0.7500\n"
     ]
    }
   ],
   "source": [
    "# Compile and fit model\n",
    "cnn_model.compile(loss='categorical_crossentropy',\n",
    "              optimizer=optimizers.RMSprop(lr=1e-4),\n",
    "              metrics=['accuracy', 'top_k_categorical_accuracy'])\n",
    "\n",
    "history = cnn_model.fit(train_dataset,\n",
    "             validation_data=val_dataset,\n",
    "             epochs=50)"
   ]
  },
  {
   "cell_type": "code",
   "execution_count": 9,
   "metadata": {},
   "outputs": [],
   "source": [
    "# Store model\n",
    "\n",
    "cnn_model.save(\"clean_data.h5\")"
   ]
  },
  {
   "cell_type": "code",
   "execution_count": 10,
   "metadata": {},
   "outputs": [],
   "source": [
    "# Save history of model\n",
    "\n",
    "import numpy as np\n",
    "data_history_training = history.history\n",
    "\n",
    "np.save('history_clean_data.npy', data_history_training)"
   ]
  },
  {
   "cell_type": "code",
   "execution_count": 3,
   "metadata": {},
   "outputs": [
    {
     "name": "stdout",
     "output_type": "stream",
     "text": [
      "29/29 [==============================] - 4s 131ms/step - loss: 4.9029 - acc: 0.5802 - top_k_categorical_accuracy: 0.7361\n"
     ]
    },
    {
     "data": {
      "text/plain": [
       "[4.9028880747420525, 0.5801782, 0.73608017]"
      ]
     },
     "execution_count": 3,
     "metadata": {},
     "output_type": "execute_result"
    }
   ],
   "source": [
    "# Evaluate model\n",
    "\n",
    "from tensorflow import keras\n",
    "\n",
    "reconstructed_model = keras.models.load_model(\"clean_data.h5\")\n",
    "reconstructed_model.evaluate(test_dataset)"
   ]
  },
  {
   "cell_type": "code",
   "execution_count": 4,
   "metadata": {},
   "outputs": [
    {
     "data": {
      "image/png": "[encoded data removed]",
      "text/plain": [
       "<Figure size 432x288 with 1 Axes>"
      ]
     },
     "metadata": {
      "needs_background": "light"
     },
     "output_type": "display_data"
    },
    {
     "data": {
      "image/png": "[encoded data removed]",
      "text/plain": [
       "<Figure size 432x288 with 1 Axes>"
      ]
     },
     "metadata": {
      "needs_background": "light"
     },
     "output_type": "display_data"
    },
    {
     "data": {
      "image/png": "[encoded data removed]",
      "text/plain": [
       "<Figure size 432x288 with 1 Axes>"
      ]
     },
     "metadata": {
      "needs_background": "light"
     },
     "output_type": "display_data"
    }
   ],
   "source": [
    "import numpy as np\n",
    "reconstructed_history = np.load('history_clean_data.npy',allow_pickle='TRUE').item()\n",
    "\n",
    "import matplotlib.pyplot as plt\n",
    "\n",
    "acc = reconstructed_history['acc']\n",
    "val_acc = reconstructed_history['val_acc']\n",
    "loss = reconstructed_history['loss']\n",
    "val_loss = reconstructed_history['val_loss']\n",
    "top_5_acc = reconstructed_history['top_k_categorical_accuracy']\n",
    "top_5_val_acc = reconstructed_history['val_top_k_categorical_accuracy']\n",
    "\n",
    "epochs = range(len(acc))\n",
    "\n",
    "plt.plot(epochs, acc, label='Training acc')\n",
    "plt.plot(epochs, val_acc, label='Validation acc')\n",
    "plt.title('Training and validation accuracy')\n",
    "plt.legend()\n",
    "plt.xlabel('Epochs')\n",
    "plt.ylabel('Accuracy')\n",
    "\n",
    "plt.figure()\n",
    "\n",
    "plt.plot(epochs, top_5_acc, label='Top-5 accuracy')\n",
    "plt.plot(epochs, top_5_val_acc, label='Top-5 validation accuracy')\n",
    "plt.legend()\n",
    "plt.xlabel('Epochs')\n",
    "plt.ylabel('Accuracy')\n",
    "\n",
    "plt.figure()\n",
    "\n",
    "plt.plot(epochs, loss, label='Training loss')\n",
    "plt.plot(epochs, val_loss, label='Validation loss')\n",
    "plt.title('Training and validation loss')\n",
    "plt.legend()\n",
    "plt.xlabel('Epochs')\n",
    "plt.ylabel('Loss')\n",
    "\n",
    "plt.show()\n"
   ]
  },
  {
   "cell_type": "code",
   "execution_count": 18,
   "metadata": {},
   "outputs": [],
   "source": [
    "from tensorflow import keras\n",
    "\n",
    "reconstructed_model = keras.models.load_model(\"clean_data.h5\")\n",
    "predicted = reconstructed_model.predict(test_dataset)"
   ]
  },
  {
   "cell_type": "code",
   "execution_count": 19,
   "metadata": {
    "scrolled": false
   },
   "outputs": [
    {
     "name": "stdout",
     "output_type": "stream",
     "text": [
      "\n",
      "                   precision    recall  f1-score   support\n",
      "\n",
      "BACKGROUND_Google       0.20      0.12      0.15        42\n",
      "            Faces       0.86      0.93      0.89        45\n",
      "       Faces_easy       0.95      1.00      0.97        35\n",
      "         Leopards       0.72      0.72      0.72        25\n",
      "       Motorbikes       0.97      0.97      0.97        80\n",
      "        accordion       0.71      0.83      0.77         6\n",
      "        airplanes       0.96      0.98      0.97        87\n",
      "           anchor       0.00      0.00      0.00         5\n",
      "              ant       0.00      0.00      0.00         2\n",
      "           barrel       0.00      0.00      0.00         4\n",
      "             bass       0.33      0.12      0.18         8\n",
      "           beaver       0.50      0.20      0.29         5\n",
      "        binocular       0.25      0.33      0.29         3\n",
      "           bonsai       0.64      0.44      0.52        16\n",
      "            brain       0.50      0.56      0.53         9\n",
      "     brontosaurus       0.17      0.33      0.22         3\n",
      "           buddha       0.45      0.50      0.48        10\n",
      "        butterfly       1.00      0.17      0.29         6\n",
      "           camera       0.50      0.33      0.40         6\n",
      "           cannon       0.50      0.20      0.29         5\n",
      "         car_side       0.71      1.00      0.83        10\n",
      "      ceiling_fan       0.00      0.00      0.00         5\n",
      "        cellphone       0.67      0.40      0.50         5\n",
      "            chair       0.50      0.17      0.25         6\n",
      "       chandelier       0.36      0.69      0.47        13\n",
      "      cougar_body       0.00      0.00      0.00         4\n",
      "      cougar_face       0.86      0.60      0.71        10\n",
      "             crab       0.38      0.43      0.40         7\n",
      "         crayfish       0.60      0.38      0.46         8\n",
      "        crocodile       0.00      0.00      0.00         8\n",
      "   crocodile_head       0.00      0.00      0.00         5\n",
      "              cup       0.20      0.20      0.20         5\n",
      "        dalmatian       0.27      0.75      0.40         4\n",
      "      dollar_bill       0.67      0.60      0.63        10\n",
      "          dolphin       0.40      1.00      0.57         4\n",
      "        dragonfly       0.17      0.50      0.25         2\n",
      "  electric_guitar       0.42      0.45      0.43        11\n",
      "         elephant       0.67      0.50      0.57         8\n",
      "              emu       0.00      0.00      0.00         2\n",
      "        euphonium       0.43      0.60      0.50         5\n",
      "             ewer       0.83      0.71      0.77         7\n",
      "            ferry       0.33      0.20      0.25        10\n",
      "         flamingo       0.20      0.40      0.27         5\n",
      "    flamingo_head       0.67      0.40      0.50         5\n",
      "         garfield       0.83      0.83      0.83         6\n",
      "          gerenuk       0.00      0.00      0.00         6\n",
      "       gramophone       0.00      0.00      0.00         4\n",
      "      grand_piano       0.75      0.60      0.67        10\n",
      "        hawksbill       0.53      0.73      0.62        11\n",
      "        headphone       0.67      0.50      0.57         4\n",
      "         hedgehog       0.40      0.40      0.40         5\n",
      "       helicopter       0.43      0.38      0.40         8\n",
      "             ibis       0.57      0.36      0.44        11\n",
      "     inline_skate       1.00      1.00      1.00         2\n",
      "      joshua_tree       0.50      0.67      0.57         6\n",
      "         kangaroo       0.14      0.22      0.17         9\n",
      "            ketch       0.50      0.62      0.56         8\n",
      "             lamp       0.00      0.00      0.00         1\n",
      "           laptop       0.83      0.71      0.77         7\n",
      "            llama       0.25      0.33      0.29         9\n",
      "          lobster       0.25      0.33      0.29         3\n",
      "            lotus       0.25      0.25      0.25         8\n",
      "         mandolin       0.50      0.33      0.40         3\n",
      "           mayfly       0.00      0.00      0.00         1\n",
      "          menorah       0.75      0.67      0.71         9\n",
      "        metronome       1.00      1.00      1.00         1\n",
      "          minaret       0.40      0.67      0.50         3\n",
      "         nautilus       0.40      0.25      0.31         8\n",
      "          octopus       0.67      0.50      0.57         4\n",
      "            okapi       1.00      0.50      0.67         6\n",
      "           pagoda       1.00      0.60      0.75         5\n",
      "            panda       0.11      1.00      0.20         1\n",
      "           pigeon       0.25      0.20      0.22         5\n",
      "            pizza       0.67      1.00      0.80         4\n",
      "         platypus       0.33      0.50      0.40         2\n",
      "          pyramid       1.00      0.20      0.33         5\n",
      "         revolver       0.70      0.64      0.67        11\n",
      "            rhino       0.10      0.33      0.15         3\n",
      "          rooster       0.50      0.25      0.33         4\n",
      "        saxophone       0.29      0.50      0.36         4\n",
      "         schooner       1.00      1.00      1.00         4\n",
      "         scissors       1.00      0.25      0.40         4\n",
      "         scorpion       0.40      0.31      0.35        13\n",
      "        sea_horse       0.12      0.12      0.12         8\n",
      "           snoopy       0.00      0.00      0.00         1\n",
      "      soccer_ball       0.44      0.44      0.44         9\n",
      "          stapler       0.00      0.00      0.00         4\n",
      "         starfish       0.50      0.57      0.53         7\n",
      "      stegosaurus       0.50      0.80      0.62         5\n",
      "        stop_sign       0.25      0.33      0.29         3\n",
      "       strawberry       0.40      0.50      0.44         4\n",
      "        sunflower       0.50      0.50      0.50         8\n",
      "             tick       0.60      0.38      0.46         8\n",
      "        trilobite       0.50      1.00      0.67         6\n",
      "         umbrella       0.44      0.31      0.36        13\n",
      "            watch       0.67      0.57      0.62        21\n",
      "      water_lilly       0.50      0.67      0.57         3\n",
      "       wheelchair       0.00      0.00      0.00         2\n",
      "         wild_cat       0.00      0.00      0.00         1\n",
      "    windsor_chair       0.67      0.33      0.44         6\n",
      "           wrench       0.50      0.33      0.40         6\n",
      "         yin_yang       0.60      0.75      0.67         4\n",
      "\n",
      "         accuracy                           0.58       898\n",
      "        macro avg       0.46      0.44      0.42       898\n",
      "     weighted avg       0.60      0.58      0.58       898\n",
      "\n"
     ]
    },
    {
     "name": "stderr",
     "output_type": "stream",
     "text": [
      "/opt/conda/lib/python3.7/site-packages/sklearn/metrics/_classification.py:1221: UndefinedMetricWarning: Precision and F-score are ill-defined and being set to 0.0 in labels with no predicted samples. Use `zero_division` parameter to control this behavior.\n",
      "  _warn_prf(average, modifier, msg_start, len(result))\n"
     ]
    }
   ],
   "source": [
    "import sklearn\n",
    "\n",
    "true = test_dataset.classes\n",
    "predicted = [np.argmax(x) for x in predicted]\n",
    "predicted = np.array(predicted)\n",
    "\n",
    "print('\\n', sklearn.metrics.classification_report(true, predicted, target_names=labels), sep='') "
   ]
  },
  {
   "cell_type": "markdown",
   "metadata": {},
   "source": [
    "\n"
   ]
  },
  {
   "cell_type": "markdown",
   "metadata": {},
   "source": [
    "## 5-layer CNN with augmented inputs"
   ]
  },
  {
   "cell_type": "code",
   "execution_count": 20,
   "metadata": {},
   "outputs": [
    {
     "name": "stdout",
     "output_type": "stream",
     "text": [
      "Found 6782 images belonging to 102 classes.\n",
      "<class 'keras.preprocessing.image.DirectoryIterator'>\n",
      "Found 1464 images belonging to 102 classes.\n",
      "Found 898 images belonging to 102 classes.\n",
      "Train, in percentage (%) :  74.16885389326335\n",
      "Val, in percentage (%) :  16.010498687664043\n",
      "Test, in percentage (%) :  9.820647419072616\n"
     ]
    }
   ],
   "source": [
    "# Image processing from local files\n",
    "\n",
    "from keras.preprocessing.image import ImageDataGenerator\n",
    "image_size = 150\n",
    "\n",
    "\n",
    "# Define directory roots\n",
    "train_root = './101_ObjectCategories_test/101_ObjectCategories/train'\n",
    "val_root = './101_ObjectCategories_test/101_ObjectCategories/val'\n",
    "test_root = './101_ObjectCategories_test/101_ObjectCategories/test'\n",
    "\n",
    "# Generate training set\n",
    "train_datagen = ImageDataGenerator(rescale=1./255.,\n",
    "                                   rotation_range=40,\n",
    "                                   width_shift_range=0.2,\n",
    "                                   height_shift_range=0.2,\n",
    "                                   horizontal_flip=True,\n",
    "                                   zoom_range=0.1,\n",
    "                                   shear_range=0.2,\n",
    "                                  )\n",
    "\n",
    "train_dataset = train_datagen.flow_from_directory(\n",
    "    train_root,\n",
    "    target_size=(image_size, image_size),\n",
    "    batch_size=32\n",
    ")\n",
    "\n",
    "print(type(train_dataset))\n",
    "\n",
    "# Generate validation set   \n",
    "val_datagen = ImageDataGenerator(rescale=1./255.)\n",
    "\n",
    "val_dataset = val_datagen.flow_from_directory(\n",
    "    val_root,\n",
    "    target_size=(image_size, image_size),\n",
    "    batch_size=32\n",
    ")\n",
    "\n",
    "# Generate test set\n",
    "test_datagen = ImageDataGenerator(rescale=1./255.)\n",
    "\n",
    "test_dataset = test_datagen.flow_from_directory(\n",
    "    test_root,\n",
    "    target_size=(image_size, image_size),\n",
    "    batch_size=32,\n",
    "    shuffle=False\n",
    ")\n",
    "\n",
    "total_length = len(train_dataset.filenames) + len(val_dataset.filenames) + len(test_dataset.filenames)\n",
    "print(\"Train, in percentage (%) : \", len(train_dataset.filenames)/total_length * 100)\n",
    "print(\"Val, in percentage (%) : \", len(val_dataset.filenames)/total_length * 100)\n",
    "print(\"Test, in percentage (%) : \", len(test_dataset.filenames)/total_length * 100)"
   ]
  },
  {
   "cell_type": "code",
   "execution_count": 4,
   "metadata": {
    "scrolled": false
   },
   "outputs": [
    {
     "name": "stdout",
     "output_type": "stream",
     "text": [
      "Model: \"sequential_1\"\n",
      "_________________________________________________________________\n",
      "Layer (type)                 Output Shape              Param #   \n",
      "=================================================================\n",
      "conv2d_4 (Conv2D)            (None, 148, 148, 32)      896       \n",
      "_________________________________________________________________\n",
      "max_pooling2d_4 (MaxPooling2 (None, 74, 74, 32)        0         \n",
      "_________________________________________________________________\n",
      "conv2d_5 (Conv2D)            (None, 72, 72, 64)        18496     \n",
      "_________________________________________________________________\n",
      "max_pooling2d_5 (MaxPooling2 (None, 36, 36, 64)        0         \n",
      "_________________________________________________________________\n",
      "conv2d_6 (Conv2D)            (None, 34, 34, 128)       73856     \n",
      "_________________________________________________________________\n",
      "max_pooling2d_6 (MaxPooling2 (None, 17, 17, 128)       0         \n",
      "_________________________________________________________________\n",
      "conv2d_7 (Conv2D)            (None, 15, 15, 256)       295168    \n",
      "_________________________________________________________________\n",
      "max_pooling2d_7 (MaxPooling2 (None, 7, 7, 256)         0         \n",
      "_________________________________________________________________\n",
      "flatten_1 (Flatten)          (None, 12544)             0         \n",
      "_________________________________________________________________\n",
      "dense_2 (Dense)              (None, 128)               1605760   \n",
      "_________________________________________________________________\n",
      "dense_3 (Dense)              (None, 102)               13158     \n",
      "=================================================================\n",
      "Total params: 2,007,334\n",
      "Trainable params: 2,007,334\n",
      "Non-trainable params: 0\n",
      "_________________________________________________________________\n"
     ]
    }
   ],
   "source": [
    "from tensorflow.keras import optimizers\n",
    "from tensorflow.keras.models import Sequential\n",
    "from tensorflow.keras.layers import Conv2D, MaxPooling2D, Dense, Flatten\n",
    "\n",
    "\n",
    "model = Sequential([\n",
    "    Conv2D(32, (3, 3), activation='relu', input_shape=(150, 150, 3)),\n",
    "    MaxPooling2D((2, 2)),\n",
    "    Conv2D(64, (3, 3), activation='relu'),\n",
    "    MaxPooling2D((2, 2)),\n",
    "    Conv2D(128, (3, 3), activation='relu'),\n",
    "    MaxPooling2D((2, 2)),\n",
    "    Conv2D(256, (3, 3), activation='relu'),\n",
    "    MaxPooling2D((2, 2)),\n",
    "    Flatten(),\n",
    "    Dense(128, activation='relu'),\n",
    "    Dense(102, activation='softmax')\n",
    "])\n",
    "\n",
    "model.summary()\n"
   ]
  },
  {
   "cell_type": "code",
   "execution_count": 75,
   "metadata": {
    "scrolled": false
   },
   "outputs": [
    {
     "name": "stdout",
     "output_type": "stream",
     "text": [
      " 46/212 [=====>........................] - ETA: 25s - loss: 2.2657 - acc: 0.5519 - top_k_categorical_accuracy: 0.7753{'loss': 0.9935846844101964, 'acc': 0.72766143, 'top_k_categorical_accuracy': 0.91256267, 'val_loss': 2.2657273411750793, 'val_acc': 0.55191255, 'val_top_k_categorical_accuracy': 0.7752732}\n",
      "212/212 [==============================] - 114s 540ms/step - loss: 0.9937 - acc: 0.7277 - top_k_categorical_accuracy: 0.9126 - val_loss: 2.2657 - val_acc: 0.5519 - val_top_k_categorical_accuracy: 0.7753\n"
     ]
    }
   ],
   "source": [
    "# Compile and fit model\n",
    "import keras\n",
    "\n",
    "from tensorflow.keras.metrics import Precision, Recall\n",
    "\n",
    "model.compile(loss='categorical_crossentropy',\n",
    "              optimizer=optimizers.RMSprop(lr=1e-4),\n",
    "              metrics=['accuracy', \n",
    "                       'top_k_categorical_accuracy',\n",
    "                        #Precision,\n",
    "                        #Recall,\n",
    "                        #f1\n",
    "                      ])\n",
    "\n",
    "history = model.fit(train_dataset,\n",
    "                    validation_data=val_dataset,\n",
    "                    epochs=1,\n",
    "                    callbacks = [MetricsCheckpoint('logs')]\n",
    "                    )"
   ]
  },
  {
   "cell_type": "code",
   "execution_count": 4,
   "metadata": {},
   "outputs": [],
   "source": [
    "# Store model\n",
    "\n",
    "model.save(\"data_aug_no_shuffle.h5\")"
   ]
  },
  {
   "cell_type": "code",
   "execution_count": 73,
   "metadata": {},
   "outputs": [
    {
     "name": "stdout",
     "output_type": "stream",
     "text": [
      "29/29 [==============================] - 3s 107ms/step - loss: 2.5685 - acc: 0.5969\n"
     ]
    },
    {
     "data": {
      "text/plain": [
       "[2.568480372428894, 0.596882]"
      ]
     },
     "execution_count": 73,
     "metadata": {},
     "output_type": "execute_result"
    }
   ],
   "source": [
    "# Evaluate model\n",
    "\n",
    "from tensorflow import keras\n",
    "\n",
    "reconstructed_model = keras.models.load_model(\"data_aug_no_shuffle.h5\")\n",
    "reconstructed_model.evaluate(test_dataset)"
   ]
  },
  {
   "cell_type": "code",
   "execution_count": 12,
   "metadata": {},
   "outputs": [],
   "source": [
    "# Save history of model\n",
    "\n",
    "import numpy as np\n",
    "data_history_training = history.history\n",
    "\n",
    "np.save('history_augmenter.npy', data_history_training)\n",
    "    "
   ]
  },
  {
   "cell_type": "code",
   "execution_count": 3,
   "metadata": {},
   "outputs": [
    {
     "data": {
      "image/png": "[encoded data removed]",
      "text/plain": [
       "<Figure size 432x288 with 1 Axes>"
      ]
     },
     "metadata": {
      "needs_background": "light"
     },
     "output_type": "display_data"
    },
    {
     "data": {
      "image/png": "[encoded data removed]",
      "text/plain": [
       "<Figure size 432x288 with 1 Axes>"
      ]
     },
     "metadata": {
      "needs_background": "light"
     },
     "output_type": "display_data"
    }
   ],
   "source": [
    "# Plot from stored history\n",
    "\n",
    "import numpy as np\n",
    "reconstructed_history = np.load('history_augmenter.npy',allow_pickle='TRUE').item()\n",
    "\n",
    "import matplotlib.pyplot as plt\n",
    "\n",
    "acc = reconstructed_history['acc']\n",
    "val_acc = reconstructed_history['val_acc']\n",
    "loss = reconstructed_history['loss']\n",
    "val_loss = reconstructed_history['val_loss']\n",
    "\n",
    "epochs = range(len(acc))\n",
    "\n",
    "plt.plot(epochs, acc, label='Training acc')\n",
    "plt.plot(epochs, val_acc, label='Validation acc')\n",
    "plt.title('Training and validation accuracy')\n",
    "plt.legend()\n",
    "plt.xlabel('Epochs')\n",
    "plt.ylabel('Accuracy')\n",
    "\n",
    "plt.figure()\n",
    "plt.savefig(\"test.eps\", format='eps')\n",
    "\n",
    "plt.plot(epochs, loss, label='Training loss')\n",
    "plt.plot(epochs, val_loss, label='Validation loss')\n",
    "plt.title('Training and validation loss')\n",
    "plt.legend()\n",
    "plt.xlabel('Epochs')\n",
    "plt.ylabel('Loss')\n",
    "\n",
    "plt.show()\n",
    "\n"
   ]
  },
  {
   "cell_type": "code",
   "execution_count": 21,
   "metadata": {},
   "outputs": [],
   "source": [
    "from tensorflow import keras\n",
    "\n",
    "reconstructed_model = keras.models.load_model(\"data_aug_no_shuffle.h5\")\n",
    "predicted = reconstructed_model.predict(test_dataset)"
   ]
  },
  {
   "cell_type": "code",
   "execution_count": 22,
   "metadata": {
    "scrolled": false
   },
   "outputs": [
    {
     "name": "stdout",
     "output_type": "stream",
     "text": [
      "\n",
      "                   precision    recall  f1-score   support\n",
      "\n",
      "BACKGROUND_Google       0.29      0.36      0.32        42\n",
      "            Faces       1.00      0.98      0.99        45\n",
      "       Faces_easy       0.97      1.00      0.99        35\n",
      "         Leopards       0.94      0.64      0.76        25\n",
      "       Motorbikes       0.87      0.97      0.92        80\n",
      "        accordion       0.67      1.00      0.80         6\n",
      "        airplanes       0.94      1.00      0.97        87\n",
      "           anchor       0.00      0.00      0.00         5\n",
      "              ant       0.00      0.00      0.00         2\n",
      "           barrel       0.00      0.00      0.00         4\n",
      "             bass       1.00      0.38      0.55         8\n",
      "           beaver       1.00      0.20      0.33         5\n",
      "        binocular       1.00      0.33      0.50         3\n",
      "           bonsai       0.68      0.94      0.79        16\n",
      "            brain       0.40      0.67      0.50         9\n",
      "     brontosaurus       0.00      0.00      0.00         3\n",
      "           buddha       0.50      0.30      0.37        10\n",
      "        butterfly       0.20      0.33      0.25         6\n",
      "           camera       0.67      0.33      0.44         6\n",
      "           cannon       0.00      0.00      0.00         5\n",
      "         car_side       1.00      1.00      1.00        10\n",
      "      ceiling_fan       0.00      0.00      0.00         5\n",
      "        cellphone       0.80      0.80      0.80         5\n",
      "            chair       0.00      0.00      0.00         6\n",
      "       chandelier       0.40      0.62      0.48        13\n",
      "      cougar_body       0.00      0.00      0.00         4\n",
      "      cougar_face       0.80      0.40      0.53        10\n",
      "             crab       0.20      0.14      0.17         7\n",
      "         crayfish       0.00      0.00      0.00         8\n",
      "        crocodile       0.00      0.00      0.00         8\n",
      "   crocodile_head       0.25      0.20      0.22         5\n",
      "              cup       0.00      0.00      0.00         5\n",
      "        dalmatian       0.43      0.75      0.55         4\n",
      "      dollar_bill       0.60      0.60      0.60        10\n",
      "          dolphin       0.33      0.50      0.40         4\n",
      "        dragonfly       0.12      0.50      0.20         2\n",
      "  electric_guitar       0.83      0.45      0.59        11\n",
      "         elephant       0.50      0.38      0.43         8\n",
      "              emu       0.00      0.00      0.00         2\n",
      "        euphonium       0.67      0.80      0.73         5\n",
      "             ewer       0.38      0.43      0.40         7\n",
      "            ferry       0.50      0.60      0.55        10\n",
      "         flamingo       0.50      0.20      0.29         5\n",
      "    flamingo_head       0.50      0.20      0.29         5\n",
      "         garfield       0.71      0.83      0.77         6\n",
      "          gerenuk       1.00      0.17      0.29         6\n",
      "       gramophone       0.00      0.00      0.00         4\n",
      "      grand_piano       0.83      0.50      0.62        10\n",
      "        hawksbill       0.47      0.73      0.57        11\n",
      "        headphone       0.50      0.25      0.33         4\n",
      "         hedgehog       0.38      0.60      0.46         5\n",
      "       helicopter       0.67      0.25      0.36         8\n",
      "             ibis       1.00      0.09      0.17        11\n",
      "     inline_skate       0.67      1.00      0.80         2\n",
      "      joshua_tree       0.50      0.67      0.57         6\n",
      "         kangaroo       0.25      0.78      0.38         9\n",
      "            ketch       0.50      1.00      0.67         8\n",
      "             lamp       0.00      0.00      0.00         1\n",
      "           laptop       0.40      0.29      0.33         7\n",
      "            llama       0.14      0.11      0.12         9\n",
      "          lobster       0.00      0.00      0.00         3\n",
      "            lotus       1.00      0.38      0.55         8\n",
      "         mandolin       0.33      0.33      0.33         3\n",
      "           mayfly       0.00      0.00      0.00         1\n",
      "          menorah       0.58      0.78      0.67         9\n",
      "        metronome       1.00      1.00      1.00         1\n",
      "          minaret       0.50      0.67      0.57         3\n",
      "         nautilus       1.00      0.12      0.22         8\n",
      "          octopus       0.00      0.00      0.00         4\n",
      "            okapi       0.60      0.50      0.55         6\n",
      "           pagoda       0.80      0.80      0.80         5\n",
      "            panda       0.00      0.00      0.00         1\n",
      "           pigeon       0.00      0.00      0.00         5\n",
      "            pizza       0.57      1.00      0.73         4\n",
      "         platypus       0.50      1.00      0.67         2\n",
      "          pyramid       0.00      0.00      0.00         5\n",
      "         revolver       0.67      0.36      0.47        11\n",
      "            rhino       0.00      0.00      0.00         3\n",
      "          rooster       1.00      0.25      0.40         4\n",
      "        saxophone       0.50      0.25      0.33         4\n",
      "         schooner       0.33      0.25      0.29         4\n",
      "         scissors       0.50      0.25      0.33         4\n",
      "         scorpion       0.42      0.38      0.40        13\n",
      "        sea_horse       0.00      0.00      0.00         8\n",
      "           snoopy       0.50      1.00      0.67         1\n",
      "      soccer_ball       0.71      0.56      0.63         9\n",
      "          stapler       0.00      0.00      0.00         4\n",
      "         starfish       0.56      0.71      0.63         7\n",
      "      stegosaurus       0.30      0.60      0.40         5\n",
      "        stop_sign       1.00      0.67      0.80         3\n",
      "       strawberry       0.75      0.75      0.75         4\n",
      "        sunflower       0.73      1.00      0.84         8\n",
      "             tick       0.46      0.75      0.57         8\n",
      "        trilobite       0.40      0.67      0.50         6\n",
      "         umbrella       0.57      0.31      0.40        13\n",
      "            watch       0.40      0.81      0.54        21\n",
      "      water_lilly       0.50      0.67      0.57         3\n",
      "       wheelchair       0.20      0.50      0.29         2\n",
      "         wild_cat       0.00      0.00      0.00         1\n",
      "    windsor_chair       1.00      0.33      0.50         6\n",
      "           wrench       0.25      0.17      0.20         6\n",
      "         yin_yang       0.40      1.00      0.57         4\n",
      "\n",
      "         accuracy                           0.60       898\n",
      "        macro avg       0.46      0.43      0.40       898\n",
      "     weighted avg       0.61      0.60      0.57       898\n",
      "\n"
     ]
    },
    {
     "name": "stderr",
     "output_type": "stream",
     "text": [
      "/opt/conda/lib/python3.7/site-packages/sklearn/metrics/_classification.py:1221: UndefinedMetricWarning: Precision and F-score are ill-defined and being set to 0.0 in labels with no predicted samples. Use `zero_division` parameter to control this behavior.\n",
      "  _warn_prf(average, modifier, msg_start, len(result))\n"
     ]
    }
   ],
   "source": [
    "import sklearn\n",
    "\n",
    "true = test_dataset.classes\n",
    "predicted = [np.argmax(x) for x in predicted]\n",
    "predicted = np.array(predicted)\n",
    "\n",
    "print('\\n', sklearn.metrics.classification_report(true, predicted, target_names=labels), sep='') "
   ]
  }
 ],
 "metadata": {
  "kernelspec": {
   "display_name": "Python 3",
   "language": "python",
   "name": "python3"
  },
  "language_info": {
   "codemirror_mode": {
    "name": "ipython",
    "version": 3
   },
   "file_extension": ".py",
   "mimetype": "text/x-python",
   "name": "python",
   "nbconvert_exporter": "python",
   "pygments_lexer": "ipython3",
   "version": "3.7.8"
  }
 },
 "nbformat": 4,
 "nbformat_minor": 4
}
