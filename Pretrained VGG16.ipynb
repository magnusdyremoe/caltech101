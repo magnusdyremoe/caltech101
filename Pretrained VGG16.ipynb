{
 "cells": [
  {
   "cell_type": "markdown",
   "metadata": {},
   "source": [
    "# Transfer learning\n",
    "\n",
    "### Using VGG16 pre-trained on ImageNet to classify on Clatech101"
   ]
  },
  {
   "cell_type": "code",
   "execution_count": 10,
   "metadata": {},
   "outputs": [
    {
     "name": "stdout",
     "output_type": "stream",
     "text": [
      "Found 6782 images belonging to 102 classes.\n",
      "Found 1464 images belonging to 102 classes.\n",
      "Found 898 images belonging to 102 classes.\n",
      "Train, in percentage (%) :  74.16885389326335\n",
      "Val, in percentage (%) :  16.010498687664043\n",
      "Test, in percentage (%) :  9.820647419072616\n"
     ]
    }
   ],
   "source": [
    "# Image processing from local files\n",
    "from keras.preprocessing.image import ImageDataGenerator\n",
    "image_size = 224\n",
    "\n",
    "\n",
    "# Define directory roots\n",
    "train_root = './101_ObjectCategories_test/101_ObjectCategories/train'\n",
    "val_root = './101_ObjectCategories_test/101_ObjectCategories/val'\n",
    "test_root = './101_ObjectCategories_test/101_ObjectCategories/test'\n",
    "\n",
    "# Generate training set\n",
    "train_datagen = ImageDataGenerator(rescale=1./255.)\n",
    "\n",
    "train_dataset = train_datagen.flow_from_directory(\n",
    "    train_root,\n",
    "    target_size=(image_size, image_size),\n",
    "    batch_size=32\n",
    ")\n",
    "                                \n",
    "\n",
    "# Generate validation set   \n",
    "val_datagen = ImageDataGenerator(rescale=1./255.)\n",
    "\n",
    "val_dataset = val_datagen.flow_from_directory(\n",
    "    val_root,\n",
    "    target_size=(image_size, image_size),\n",
    "    batch_size=32\n",
    ")\n",
    "\n",
    "# Generate test set\n",
    "test_datagen = ImageDataGenerator(rescale=1./255.)\n",
    "\n",
    "test_dataset = test_datagen.flow_from_directory(\n",
    "    test_root,\n",
    "    target_size=(image_size, image_size),\n",
    "    batch_size=32\n",
    ")\n",
    "\n",
    "total_length = len(train_dataset.filenames) + len(val_dataset.filenames) + len(test_dataset.filenames)\n",
    "print(\"Train, in percentage (%) : \", len(train_dataset.filenames)/total_length * 100)\n",
    "print(\"Val, in percentage (%) : \", len(val_dataset.filenames)/total_length * 100)\n",
    "print(\"Test, in percentage (%) : \", len(test_dataset.filenames)/total_length * 100)"
   ]
  },
  {
   "cell_type": "code",
   "execution_count": 2,
   "metadata": {},
   "outputs": [],
   "source": [
    "# Include all packages\n",
    "from tensorflow.keras.applications import VGG16\n",
    "from tensorflow.keras.models import Sequential\n",
    "from tensorflow.keras.layers import Dense\n",
    "from tensorflow.keras import Model\n",
    "from tensorflow.keras import optimizers\n"
   ]
  },
  {
   "cell_type": "code",
   "execution_count": 3,
   "metadata": {
    "scrolled": false
   },
   "outputs": [
    {
     "name": "stdout",
     "output_type": "stream",
     "text": [
      "WARNING:tensorflow:From /opt/conda/lib/python3.7/site-packages/tensorflow_core/python/ops/resource_variable_ops.py:1630: calling BaseResourceVariable.__init__ (from tensorflow.python.ops.resource_variable_ops) with constraint is deprecated and will be removed in a future version.\n",
      "Instructions for updating:\n",
      "If using Keras pass *_constraint arguments to layers.\n",
      "Model: \"vgg16\"\n",
      "_________________________________________________________________\n",
      "Layer (type)                 Output Shape              Param #   \n",
      "=================================================================\n",
      "input_1 (InputLayer)         [(None, 224, 224, 3)]     0         \n",
      "_________________________________________________________________\n",
      "block1_conv1 (Conv2D)        (None, 224, 224, 64)      1792      \n",
      "_________________________________________________________________\n",
      "block1_conv2 (Conv2D)        (None, 224, 224, 64)      36928     \n",
      "_________________________________________________________________\n",
      "block1_pool (MaxPooling2D)   (None, 112, 112, 64)      0         \n",
      "_________________________________________________________________\n",
      "block2_conv1 (Conv2D)        (None, 112, 112, 128)     73856     \n",
      "_________________________________________________________________\n",
      "block2_conv2 (Conv2D)        (None, 112, 112, 128)     147584    \n",
      "_________________________________________________________________\n",
      "block2_pool (MaxPooling2D)   (None, 56, 56, 128)       0         \n",
      "_________________________________________________________________\n",
      "block3_conv1 (Conv2D)        (None, 56, 56, 256)       295168    \n",
      "_________________________________________________________________\n",
      "block3_conv2 (Conv2D)        (None, 56, 56, 256)       590080    \n",
      "_________________________________________________________________\n",
      "block3_conv3 (Conv2D)        (None, 56, 56, 256)       590080    \n",
      "_________________________________________________________________\n",
      "block3_pool (MaxPooling2D)   (None, 28, 28, 256)       0         \n",
      "_________________________________________________________________\n",
      "block4_conv1 (Conv2D)        (None, 28, 28, 512)       1180160   \n",
      "_________________________________________________________________\n",
      "block4_conv2 (Conv2D)        (None, 28, 28, 512)       2359808   \n",
      "_________________________________________________________________\n",
      "block4_conv3 (Conv2D)        (None, 28, 28, 512)       2359808   \n",
      "_________________________________________________________________\n",
      "block4_pool (MaxPooling2D)   (None, 14, 14, 512)       0         \n",
      "_________________________________________________________________\n",
      "block5_conv1 (Conv2D)        (None, 14, 14, 512)       2359808   \n",
      "_________________________________________________________________\n",
      "block5_conv2 (Conv2D)        (None, 14, 14, 512)       2359808   \n",
      "_________________________________________________________________\n",
      "block5_conv3 (Conv2D)        (None, 14, 14, 512)       2359808   \n",
      "_________________________________________________________________\n",
      "block5_pool (MaxPooling2D)   (None, 7, 7, 512)         0         \n",
      "_________________________________________________________________\n",
      "flatten (Flatten)            (None, 25088)             0         \n",
      "_________________________________________________________________\n",
      "fc1 (Dense)                  (None, 4096)              102764544 \n",
      "_________________________________________________________________\n",
      "fc2 (Dense)                  (None, 4096)              16781312  \n",
      "_________________________________________________________________\n",
      "predictions (Dense)          (None, 1000)              4097000   \n",
      "=================================================================\n",
      "Total params: 138,357,544\n",
      "Trainable params: 138,357,544\n",
      "Non-trainable params: 0\n",
      "_________________________________________________________________\n"
     ]
    }
   ],
   "source": [
    "\n",
    "\n",
    "base_model = VGG16(weights='imagenet',\n",
    "                  include_top=True,\n",
    "                  )\n",
    "\n",
    "base_model.summary()\n"
   ]
  },
  {
   "cell_type": "code",
   "execution_count": 4,
   "metadata": {},
   "outputs": [
    {
     "name": "stdout",
     "output_type": "stream",
     "text": [
      "Model: \"model\"\n",
      "_________________________________________________________________\n",
      "Layer (type)                 Output Shape              Param #   \n",
      "=================================================================\n",
      "input_1 (InputLayer)         [(None, 224, 224, 3)]     0         \n",
      "_________________________________________________________________\n",
      "block1_conv1 (Conv2D)        (None, 224, 224, 64)      1792      \n",
      "_________________________________________________________________\n",
      "block1_conv2 (Conv2D)        (None, 224, 224, 64)      36928     \n",
      "_________________________________________________________________\n",
      "block1_pool (MaxPooling2D)   (None, 112, 112, 64)      0         \n",
      "_________________________________________________________________\n",
      "block2_conv1 (Conv2D)        (None, 112, 112, 128)     73856     \n",
      "_________________________________________________________________\n",
      "block2_conv2 (Conv2D)        (None, 112, 112, 128)     147584    \n",
      "_________________________________________________________________\n",
      "block2_pool (MaxPooling2D)   (None, 56, 56, 128)       0         \n",
      "_________________________________________________________________\n",
      "block3_conv1 (Conv2D)        (None, 56, 56, 256)       295168    \n",
      "_________________________________________________________________\n",
      "block3_conv2 (Conv2D)        (None, 56, 56, 256)       590080    \n",
      "_________________________________________________________________\n",
      "block3_conv3 (Conv2D)        (None, 56, 56, 256)       590080    \n",
      "_________________________________________________________________\n",
      "block3_pool (MaxPooling2D)   (None, 28, 28, 256)       0         \n",
      "_________________________________________________________________\n",
      "block4_conv1 (Conv2D)        (None, 28, 28, 512)       1180160   \n",
      "_________________________________________________________________\n",
      "block4_conv2 (Conv2D)        (None, 28, 28, 512)       2359808   \n",
      "_________________________________________________________________\n",
      "block4_conv3 (Conv2D)        (None, 28, 28, 512)       2359808   \n",
      "_________________________________________________________________\n",
      "block4_pool (MaxPooling2D)   (None, 14, 14, 512)       0         \n",
      "_________________________________________________________________\n",
      "block5_conv1 (Conv2D)        (None, 14, 14, 512)       2359808   \n",
      "_________________________________________________________________\n",
      "block5_conv2 (Conv2D)        (None, 14, 14, 512)       2359808   \n",
      "_________________________________________________________________\n",
      "block5_conv3 (Conv2D)        (None, 14, 14, 512)       2359808   \n",
      "_________________________________________________________________\n",
      "block5_pool (MaxPooling2D)   (None, 7, 7, 512)         0         \n",
      "_________________________________________________________________\n",
      "flatten (Flatten)            (None, 25088)             0         \n",
      "_________________________________________________________________\n",
      "fc1 (Dense)                  (None, 4096)              102764544 \n",
      "_________________________________________________________________\n",
      "fc2 (Dense)                  (None, 4096)              16781312  \n",
      "_________________________________________________________________\n",
      "dense (Dense)                (None, 102)               417894    \n",
      "=================================================================\n",
      "Total params: 134,678,438\n",
      "Trainable params: 134,678,438\n",
      "Non-trainable params: 0\n",
      "_________________________________________________________________\n"
     ]
    }
   ],
   "source": [
    "# Modify VGG16 model to fit Caltech101.\n",
    "\n",
    "input_layer = base_model.input\n",
    "\n",
    "new_classification_layer = Dense(102, activation='softmax')\n",
    "\n",
    "output_layer = new_classification_layer(base_model.layers[-2].output)\n",
    "\n",
    "\n",
    "modified_VGG16 = Model(input_layer, output_layer)\n",
    "\n",
    "modified_VGG16.summary()"
   ]
  },
  {
   "cell_type": "code",
   "execution_count": 5,
   "metadata": {},
   "outputs": [
    {
     "name": "stdout",
     "output_type": "stream",
     "text": [
      "Model: \"model\"\n",
      "_________________________________________________________________\n",
      "Layer (type)                 Output Shape              Param #   \n",
      "=================================================================\n",
      "input_1 (InputLayer)         [(None, 224, 224, 3)]     0         \n",
      "_________________________________________________________________\n",
      "block1_conv1 (Conv2D)        (None, 224, 224, 64)      1792      \n",
      "_________________________________________________________________\n",
      "block1_conv2 (Conv2D)        (None, 224, 224, 64)      36928     \n",
      "_________________________________________________________________\n",
      "block1_pool (MaxPooling2D)   (None, 112, 112, 64)      0         \n",
      "_________________________________________________________________\n",
      "block2_conv1 (Conv2D)        (None, 112, 112, 128)     73856     \n",
      "_________________________________________________________________\n",
      "block2_conv2 (Conv2D)        (None, 112, 112, 128)     147584    \n",
      "_________________________________________________________________\n",
      "block2_pool (MaxPooling2D)   (None, 56, 56, 128)       0         \n",
      "_________________________________________________________________\n",
      "block3_conv1 (Conv2D)        (None, 56, 56, 256)       295168    \n",
      "_________________________________________________________________\n",
      "block3_conv2 (Conv2D)        (None, 56, 56, 256)       590080    \n",
      "_________________________________________________________________\n",
      "block3_conv3 (Conv2D)        (None, 56, 56, 256)       590080    \n",
      "_________________________________________________________________\n",
      "block3_pool (MaxPooling2D)   (None, 28, 28, 256)       0         \n",
      "_________________________________________________________________\n",
      "block4_conv1 (Conv2D)        (None, 28, 28, 512)       1180160   \n",
      "_________________________________________________________________\n",
      "block4_conv2 (Conv2D)        (None, 28, 28, 512)       2359808   \n",
      "_________________________________________________________________\n",
      "block4_conv3 (Conv2D)        (None, 28, 28, 512)       2359808   \n",
      "_________________________________________________________________\n",
      "block4_pool (MaxPooling2D)   (None, 14, 14, 512)       0         \n",
      "_________________________________________________________________\n",
      "block5_conv1 (Conv2D)        (None, 14, 14, 512)       2359808   \n",
      "_________________________________________________________________\n",
      "block5_conv2 (Conv2D)        (None, 14, 14, 512)       2359808   \n",
      "_________________________________________________________________\n",
      "block5_conv3 (Conv2D)        (None, 14, 14, 512)       2359808   \n",
      "_________________________________________________________________\n",
      "block5_pool (MaxPooling2D)   (None, 7, 7, 512)         0         \n",
      "_________________________________________________________________\n",
      "flatten (Flatten)            (None, 25088)             0         \n",
      "_________________________________________________________________\n",
      "fc1 (Dense)                  (None, 4096)              102764544 \n",
      "_________________________________________________________________\n",
      "fc2 (Dense)                  (None, 4096)              16781312  \n",
      "_________________________________________________________________\n",
      "dense (Dense)                (None, 102)               417894    \n",
      "=================================================================\n",
      "Total params: 134,678,438\n",
      "Trainable params: 417,894\n",
      "Non-trainable params: 134,260,544\n",
      "_________________________________________________________________\n"
     ]
    }
   ],
   "source": [
    "# Make output layer trainabel. All other layers remains with same weights as for the pretrained VGG16 model.\n",
    "\n",
    "for i, layer in enumerate(modified_VGG16.layers[:-1]):\n",
    "    layer.trainable = False\n",
    "    \n",
    "for i, layer in enumerate(modified_VGG16.layers[-1:]):\n",
    "    layer.trainable = True\n",
    "    \n",
    "modified_VGG16.summary()"
   ]
  },
  {
   "cell_type": "code",
   "execution_count": 6,
   "metadata": {},
   "outputs": [
    {
     "name": "stdout",
     "output_type": "stream",
     "text": [
      "Epoch 1/20\n",
      "211/212 [============================>.] - ETA: 1s - loss: 3.7268 - acc: 0.2233Epoch 1/20\n",
      "212/212 [==============================] - 506s 2s/step - loss: 3.7245 - acc: 0.2237 - val_loss: 3.2206 - val_acc: 0.2746\n",
      "Epoch 2/20\n",
      "211/212 [============================>.] - ETA: 1s - loss: 2.8656 - acc: 0.3739Epoch 1/20\n",
      "212/212 [==============================] - 494s 2s/step - loss: 2.8653 - acc: 0.3735 - val_loss: 2.6045 - val_acc: 0.4126\n",
      "Epoch 3/20\n",
      "211/212 [============================>.] - ETA: 1s - loss: 2.3560 - acc: 0.4822Epoch 1/20\n",
      "212/212 [==============================] - 492s 2s/step - loss: 2.3550 - acc: 0.4822 - val_loss: 2.2279 - val_acc: 0.5280\n",
      "Epoch 4/20\n",
      "211/212 [============================>.] - ETA: 1s - loss: 2.0211 - acc: 0.5604Epoch 1/20\n",
      "212/212 [==============================] - 494s 2s/step - loss: 2.0221 - acc: 0.5600 - val_loss: 1.9706 - val_acc: 0.5526\n",
      "Epoch 5/20\n",
      "211/212 [============================>.] - ETA: 1s - loss: 1.7948 - acc: 0.6105Epoch 1/20\n",
      "212/212 [==============================] - 497s 2s/step - loss: 1.7937 - acc: 0.6109 - val_loss: 1.7791 - val_acc: 0.6072\n",
      "Epoch 6/20\n",
      "211/212 [============================>.] - ETA: 1s - loss: 1.6218 - acc: 0.6464Epoch 1/20\n",
      "212/212 [==============================] - 498s 2s/step - loss: 1.6206 - acc: 0.6466 - val_loss: 1.6470 - val_acc: 0.6236\n",
      "Epoch 7/20\n",
      "211/212 [============================>.] - ETA: 1s - loss: 1.4891 - acc: 0.6677Epoch 1/20\n",
      "212/212 [==============================] - 496s 2s/step - loss: 1.4890 - acc: 0.6676 - val_loss: 1.5468 - val_acc: 0.6318\n",
      "Epoch 8/20\n",
      "211/212 [============================>.] - ETA: 1s - loss: 1.3829 - acc: 0.6981Epoch 1/20\n",
      "212/212 [==============================] - 497s 2s/step - loss: 1.3824 - acc: 0.6980 - val_loss: 1.4724 - val_acc: 0.6482\n",
      "Epoch 9/20\n",
      "211/212 [============================>.] - ETA: 1s - loss: 1.2942 - acc: 0.7090Epoch 1/20\n",
      "212/212 [==============================] - 495s 2s/step - loss: 1.2945 - acc: 0.7091 - val_loss: 1.3819 - val_acc: 0.6667\n",
      "Epoch 10/20\n",
      "211/212 [============================>.] - ETA: 1s - loss: 1.2218 - acc: 0.7259Epoch 1/20\n",
      "212/212 [==============================] - 495s 2s/step - loss: 1.2218 - acc: 0.7257 - val_loss: 1.3540 - val_acc: 0.6660\n",
      "Epoch 11/20\n",
      "211/212 [============================>.] - ETA: 1s - loss: 1.1652 - acc: 0.7367Epoch 1/20\n",
      "212/212 [==============================] - 494s 2s/step - loss: 1.1635 - acc: 0.7372 - val_loss: 1.2796 - val_acc: 0.6974\n",
      "Epoch 12/20\n",
      "211/212 [============================>.] - ETA: 1s - loss: 1.1092 - acc: 0.7476Epoch 1/20\n",
      "212/212 [==============================] - 495s 2s/step - loss: 1.1082 - acc: 0.7477 - val_loss: 1.2304 - val_acc: 0.7090\n",
      "Epoch 13/20\n",
      "211/212 [============================>.] - ETA: 1s - loss: 1.0649 - acc: 0.7569Epoch 1/20\n",
      "212/212 [==============================] - 495s 2s/step - loss: 1.0645 - acc: 0.7569 - val_loss: 1.2106 - val_acc: 0.6981\n",
      "Epoch 14/20\n",
      "211/212 [============================>.] - ETA: 1s - loss: 1.0195 - acc: 0.7689Epoch 1/20\n",
      "212/212 [==============================] - 495s 2s/step - loss: 1.0203 - acc: 0.7688 - val_loss: 1.1459 - val_acc: 0.7186\n",
      "Epoch 15/20\n",
      "211/212 [============================>.] - ETA: 1s - loss: 0.9854 - acc: 0.7724Epoch 1/20\n",
      "212/212 [==============================] - 497s 2s/step - loss: 0.9847 - acc: 0.7726 - val_loss: 1.1165 - val_acc: 0.7275\n",
      "Epoch 16/20\n",
      "211/212 [============================>.] - ETA: 1s - loss: 0.9537 - acc: 0.7779Epoch 1/20\n",
      "212/212 [==============================] - 502s 2s/step - loss: 0.9531 - acc: 0.7781 - val_loss: 1.0970 - val_acc: 0.7261\n",
      "Epoch 17/20\n",
      "211/212 [============================>.] - ETA: 1s - loss: 0.9229 - acc: 0.7843Epoch 1/20\n",
      "212/212 [==============================] - 505s 2s/step - loss: 0.9219 - acc: 0.7847 - val_loss: 1.0709 - val_acc: 0.7398\n",
      "Epoch 18/20\n",
      "211/212 [============================>.] - ETA: 1s - loss: 0.8948 - acc: 0.7939Epoch 1/20\n",
      "212/212 [==============================] - 500s 2s/step - loss: 0.8935 - acc: 0.7940 - val_loss: 1.0558 - val_acc: 0.7439\n",
      "Epoch 19/20\n",
      "211/212 [============================>.] - ETA: 1s - loss: 0.8703 - acc: 0.7954Epoch 1/20\n",
      "212/212 [==============================] - 500s 2s/step - loss: 0.8699 - acc: 0.7955 - val_loss: 1.0269 - val_acc: 0.7507\n",
      "Epoch 20/20\n",
      "211/212 [============================>.] - ETA: 1s - loss: 0.8448 - acc: 0.8027Epoch 1/20\n",
      "212/212 [==============================] - 501s 2s/step - loss: 0.8452 - acc: 0.8024 - val_loss: 1.0211 - val_acc: 0.7541\n"
     ]
    }
   ],
   "source": [
    "modified_VGG16.compile(loss='categorical_crossentropy',\n",
    "                      optimizer=optimizers.RMSprop(lr=1e-4),\n",
    "                      metrics=['accuracy'])\n",
    "\n",
    "history = modified_VGG16.fit(train_dataset,\n",
    "                  validation_data=val_dataset,\n",
    "                  epochs=20)"
   ]
  },
  {
   "cell_type": "code",
   "execution_count": 7,
   "metadata": {},
   "outputs": [],
   "source": [
    "modified_VGG16.save(\"VGG16.h5\")"
   ]
  },
  {
   "cell_type": "code",
   "execution_count": 8,
   "metadata": {},
   "outputs": [],
   "source": [
    "import numpy as np\n",
    "data_history_training = history.history\n",
    "\n",
    "np.save('VGG16_history.npy', data_history_training)"
   ]
  },
  {
   "cell_type": "code",
   "execution_count": 3,
   "metadata": {},
   "outputs": [
    {
     "name": "stdout",
     "output_type": "stream",
     "text": [
      "29/29 [==============================] - 71s 2s/step - loss: 1.0628 - acc: 0.7639\n"
     ]
    },
    {
     "data": {
      "text/plain": [
       "[1.0628241300582886, 0.76391983]"
      ]
     },
     "execution_count": 3,
     "metadata": {},
     "output_type": "execute_result"
    }
   ],
   "source": [
    "# Run model on test set from saved model\n",
    "\n",
    "from tensorflow import keras\n",
    "\n",
    "reconstructed_model_VGG16 = keras.models.load_model(\"VGG16.h5\")\n",
    "reconstructed_model_VGG16.evaluate(test_dataset)"
   ]
  },
  {
   "cell_type": "code",
   "execution_count": 2,
   "metadata": {},
   "outputs": [
    {
     "data": {
      "image/png": "[encoded data removed]",
      "text/plain": [
       "<Figure size 432x288 with 1 Axes>"
      ]
     },
     "metadata": {
      "needs_background": "light"
     },
     "output_type": "display_data"
    },
    {
     "data": {
      "image/png": "[encoded data removed]",
      "text/plain": [
       "<Figure size 432x288 with 1 Axes>"
      ]
     },
     "metadata": {
      "needs_background": "light"
     },
     "output_type": "display_data"
    }
   ],
   "source": [
    "import numpy as np\n",
    "reconstructed_history_VGG16 = np.load('VGG16_history.npy',allow_pickle='TRUE').item()\n",
    "\n",
    "import matplotlib.pyplot as plt\n",
    "\n",
    "acc = reconstructed_history_VGG16['acc']\n",
    "val_acc = reconstructed_history_VGG16['val_acc']\n",
    "loss = reconstructed_history_VGG16['loss']\n",
    "val_loss = reconstructed_history_VGG16['val_loss']\n",
    "\n",
    "epochs = range(len(acc))\n",
    "\n",
    "plt.plot(epochs, acc, label='Training acc')\n",
    "plt.plot(epochs, val_acc, label='Validation acc')\n",
    "plt.title('Training and validation accuracy')\n",
    "plt.legend()\n",
    "plt.xlabel('Epochs')\n",
    "plt.ylabel('Accuracy')\n",
    "\n",
    "plt.figure()\n",
    "\n",
    "plt.plot(epochs, loss, label='Training loss')\n",
    "plt.plot(epochs, val_loss, label='Validation loss')\n",
    "plt.title('Training and validation loss')\n",
    "plt.legend()\n",
    "plt.xlabel('Epochs')\n",
    "plt.ylabel('Loss')\n",
    "\n",
    "plt.show()\n"
   ]
  }
 ],
 "metadata": {
  "kernelspec": {
   "display_name": "Python 3",
   "language": "python",
   "name": "python3"
  },
  "language_info": {
   "codemirror_mode": {
    "name": "ipython",
    "version": 3
   },
   "file_extension": ".py",
   "mimetype": "text/x-python",
   "name": "python",
   "nbconvert_exporter": "python",
   "pygments_lexer": "ipython3",
   "version": "3.7.8"
  }
 },
 "nbformat": 4,
 "nbformat_minor": 4
}
