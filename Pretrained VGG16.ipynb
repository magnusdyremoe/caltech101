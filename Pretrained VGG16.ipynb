{
 "cells": [
  {
   "cell_type": "markdown",
   "metadata": {},
   "source": [
    "# Transfer learning\n",
    "\n",
    "### Using VGG16 pre-trained on ImageNet to classify on Clatech101"
   ]
  },
  {
   "cell_type": "code",
   "execution_count": 106,
   "metadata": {},
   "outputs": [
    {
     "name": "stdout",
     "output_type": "stream",
     "text": [
      "Found 6782 images belonging to 102 classes.\n",
      "Found 1464 images belonging to 102 classes.\n",
      "Found 898 images belonging to 102 classes.\n",
      "Train, in percentage (%) :  74.16885389326335\n",
      "Val, in percentage (%) :  16.010498687664043\n",
      "Test, in percentage (%) :  9.820647419072616\n"
     ]
    }
   ],
   "source": [
    "# Image processing from local files\n",
    "from keras.preprocessing.image import ImageDataGenerator\n",
    "image_size = 224\n",
    "\n",
    "\n",
    "# Define directory roots\n",
    "train_root = './101_ObjectCategories_test/101_ObjectCategories/train'\n",
    "val_root = './101_ObjectCategories_test/101_ObjectCategories/val'\n",
    "test_root = './101_ObjectCategories_test/101_ObjectCategories/test'\n",
    "\n",
    "# Generate training set\n",
    "train_datagen = ImageDataGenerator(rescale=1./255.)\n",
    "\n",
    "train_dataset = train_datagen.flow_from_directory(\n",
    "    train_root,\n",
    "    target_size=(image_size, image_size),\n",
    "    batch_size=32\n",
    ")\n",
    "                                \n",
    "\n",
    "# Generate validation set   \n",
    "val_datagen = ImageDataGenerator(rescale=1./255.)\n",
    "\n",
    "val_dataset = val_datagen.flow_from_directory(\n",
    "    val_root,\n",
    "    target_size=(image_size, image_size),\n",
    "    batch_size=32\n",
    ")\n",
    "\n",
    "# Generate test set\n",
    "test_datagen = ImageDataGenerator(rescale=1./255.)\n",
    "\n",
    "test_dataset = test_datagen.flow_from_directory(\n",
    "    test_root,\n",
    "    target_size=(image_size, image_size),\n",
    "    batch_size=32,\n",
    "    shuffle=False\n",
    ")\n",
    "\n",
    "total_length = len(train_dataset.filenames) + len(val_dataset.filenames) + len(test_dataset.filenames)\n",
    "print(\"Train, in percentage (%) : \", len(train_dataset.filenames)/total_length * 100)\n",
    "print(\"Val, in percentage (%) : \", len(val_dataset.filenames)/total_length * 100)\n",
    "print(\"Test, in percentage (%) : \", len(test_dataset.filenames)/total_length * 100)"
   ]
  },
  {
   "cell_type": "code",
   "execution_count": 38,
   "metadata": {},
   "outputs": [],
   "source": [
    "# Include all packages\n",
    "from tensorflow.keras.applications import VGG16\n",
    "from tensorflow.keras.models import Sequential\n",
    "from tensorflow.keras.layers import Dense\n",
    "from tensorflow.keras import Model\n",
    "from tensorflow.keras import optimizers\n"
   ]
  },
  {
   "cell_type": "code",
   "execution_count": 39,
   "metadata": {
    "scrolled": false
   },
   "outputs": [
    {
     "name": "stdout",
     "output_type": "stream",
     "text": [
      "Model: \"vgg16\"\n",
      "_________________________________________________________________\n",
      "Layer (type)                 Output Shape              Param #   \n",
      "=================================================================\n",
      "input_1 (InputLayer)         [(None, 224, 224, 3)]     0         \n",
      "_________________________________________________________________\n",
      "block1_conv1 (Conv2D)        (None, 224, 224, 64)      1792      \n",
      "_________________________________________________________________\n",
      "block1_conv2 (Conv2D)        (None, 224, 224, 64)      36928     \n",
      "_________________________________________________________________\n",
      "block1_pool (MaxPooling2D)   (None, 112, 112, 64)      0         \n",
      "_________________________________________________________________\n",
      "block2_conv1 (Conv2D)        (None, 112, 112, 128)     73856     \n",
      "_________________________________________________________________\n",
      "block2_conv2 (Conv2D)        (None, 112, 112, 128)     147584    \n",
      "_________________________________________________________________\n",
      "block2_pool (MaxPooling2D)   (None, 56, 56, 128)       0         \n",
      "_________________________________________________________________\n",
      "block3_conv1 (Conv2D)        (None, 56, 56, 256)       295168    \n",
      "_________________________________________________________________\n",
      "block3_conv2 (Conv2D)        (None, 56, 56, 256)       590080    \n",
      "_________________________________________________________________\n",
      "block3_conv3 (Conv2D)        (None, 56, 56, 256)       590080    \n",
      "_________________________________________________________________\n",
      "block3_pool (MaxPooling2D)   (None, 28, 28, 256)       0         \n",
      "_________________________________________________________________\n",
      "block4_conv1 (Conv2D)        (None, 28, 28, 512)       1180160   \n",
      "_________________________________________________________________\n",
      "block4_conv2 (Conv2D)        (None, 28, 28, 512)       2359808   \n",
      "_________________________________________________________________\n",
      "block4_conv3 (Conv2D)        (None, 28, 28, 512)       2359808   \n",
      "_________________________________________________________________\n",
      "block4_pool (MaxPooling2D)   (None, 14, 14, 512)       0         \n",
      "_________________________________________________________________\n",
      "block5_conv1 (Conv2D)        (None, 14, 14, 512)       2359808   \n",
      "_________________________________________________________________\n",
      "block5_conv2 (Conv2D)        (None, 14, 14, 512)       2359808   \n",
      "_________________________________________________________________\n",
      "block5_conv3 (Conv2D)        (None, 14, 14, 512)       2359808   \n",
      "_________________________________________________________________\n",
      "block5_pool (MaxPooling2D)   (None, 7, 7, 512)         0         \n",
      "_________________________________________________________________\n",
      "flatten (Flatten)            (None, 25088)             0         \n",
      "_________________________________________________________________\n",
      "fc1 (Dense)                  (None, 4096)              102764544 \n",
      "_________________________________________________________________\n",
      "fc2 (Dense)                  (None, 4096)              16781312  \n",
      "_________________________________________________________________\n",
      "predictions (Dense)          (None, 1000)              4097000   \n",
      "=================================================================\n",
      "Total params: 138,357,544\n",
      "Trainable params: 138,357,544\n",
      "Non-trainable params: 0\n",
      "_________________________________________________________________\n"
     ]
    }
   ],
   "source": [
    "\n",
    "\n",
    "base_model = VGG16(weights='imagenet',\n",
    "                  include_top=True,\n",
    "                  )\n",
    "\n",
    "base_model.summary()\n"
   ]
  },
  {
   "cell_type": "code",
   "execution_count": 40,
   "metadata": {},
   "outputs": [
    {
     "name": "stdout",
     "output_type": "stream",
     "text": [
      "Model: \"model\"\n",
      "_________________________________________________________________\n",
      "Layer (type)                 Output Shape              Param #   \n",
      "=================================================================\n",
      "input_1 (InputLayer)         [(None, 224, 224, 3)]     0         \n",
      "_________________________________________________________________\n",
      "block1_conv1 (Conv2D)        (None, 224, 224, 64)      1792      \n",
      "_________________________________________________________________\n",
      "block1_conv2 (Conv2D)        (None, 224, 224, 64)      36928     \n",
      "_________________________________________________________________\n",
      "block1_pool (MaxPooling2D)   (None, 112, 112, 64)      0         \n",
      "_________________________________________________________________\n",
      "block2_conv1 (Conv2D)        (None, 112, 112, 128)     73856     \n",
      "_________________________________________________________________\n",
      "block2_conv2 (Conv2D)        (None, 112, 112, 128)     147584    \n",
      "_________________________________________________________________\n",
      "block2_pool (MaxPooling2D)   (None, 56, 56, 128)       0         \n",
      "_________________________________________________________________\n",
      "block3_conv1 (Conv2D)        (None, 56, 56, 256)       295168    \n",
      "_________________________________________________________________\n",
      "block3_conv2 (Conv2D)        (None, 56, 56, 256)       590080    \n",
      "_________________________________________________________________\n",
      "block3_conv3 (Conv2D)        (None, 56, 56, 256)       590080    \n",
      "_________________________________________________________________\n",
      "block3_pool (MaxPooling2D)   (None, 28, 28, 256)       0         \n",
      "_________________________________________________________________\n",
      "block4_conv1 (Conv2D)        (None, 28, 28, 512)       1180160   \n",
      "_________________________________________________________________\n",
      "block4_conv2 (Conv2D)        (None, 28, 28, 512)       2359808   \n",
      "_________________________________________________________________\n",
      "block4_conv3 (Conv2D)        (None, 28, 28, 512)       2359808   \n",
      "_________________________________________________________________\n",
      "block4_pool (MaxPooling2D)   (None, 14, 14, 512)       0         \n",
      "_________________________________________________________________\n",
      "block5_conv1 (Conv2D)        (None, 14, 14, 512)       2359808   \n",
      "_________________________________________________________________\n",
      "block5_conv2 (Conv2D)        (None, 14, 14, 512)       2359808   \n",
      "_________________________________________________________________\n",
      "block5_conv3 (Conv2D)        (None, 14, 14, 512)       2359808   \n",
      "_________________________________________________________________\n",
      "block5_pool (MaxPooling2D)   (None, 7, 7, 512)         0         \n",
      "_________________________________________________________________\n",
      "flatten (Flatten)            (None, 25088)             0         \n",
      "_________________________________________________________________\n",
      "fc1 (Dense)                  (None, 4096)              102764544 \n",
      "_________________________________________________________________\n",
      "fc2 (Dense)                  (None, 4096)              16781312  \n",
      "_________________________________________________________________\n",
      "dense (Dense)                (None, 102)               417894    \n",
      "=================================================================\n",
      "Total params: 134,678,438\n",
      "Trainable params: 134,678,438\n",
      "Non-trainable params: 0\n",
      "_________________________________________________________________\n"
     ]
    }
   ],
   "source": [
    "# Modify VGG16 model to fit Caltech101.\n",
    "\n",
    "input_layer = base_model.input\n",
    "\n",
    "new_classification_layer = Dense(102, activation='softmax')\n",
    "\n",
    "output_layer = new_classification_layer(base_model.layers[-2].output)\n",
    "\n",
    "\n",
    "modified_VGG16 = Model(input_layer, output_layer)\n",
    "\n",
    "modified_VGG16.summary()"
   ]
  },
  {
   "cell_type": "code",
   "execution_count": 41,
   "metadata": {},
   "outputs": [
    {
     "name": "stdout",
     "output_type": "stream",
     "text": [
      "Model: \"model\"\n",
      "_________________________________________________________________\n",
      "Layer (type)                 Output Shape              Param #   \n",
      "=================================================================\n",
      "input_1 (InputLayer)         [(None, 224, 224, 3)]     0         \n",
      "_________________________________________________________________\n",
      "block1_conv1 (Conv2D)        (None, 224, 224, 64)      1792      \n",
      "_________________________________________________________________\n",
      "block1_conv2 (Conv2D)        (None, 224, 224, 64)      36928     \n",
      "_________________________________________________________________\n",
      "block1_pool (MaxPooling2D)   (None, 112, 112, 64)      0         \n",
      "_________________________________________________________________\n",
      "block2_conv1 (Conv2D)        (None, 112, 112, 128)     73856     \n",
      "_________________________________________________________________\n",
      "block2_conv2 (Conv2D)        (None, 112, 112, 128)     147584    \n",
      "_________________________________________________________________\n",
      "block2_pool (MaxPooling2D)   (None, 56, 56, 128)       0         \n",
      "_________________________________________________________________\n",
      "block3_conv1 (Conv2D)        (None, 56, 56, 256)       295168    \n",
      "_________________________________________________________________\n",
      "block3_conv2 (Conv2D)        (None, 56, 56, 256)       590080    \n",
      "_________________________________________________________________\n",
      "block3_conv3 (Conv2D)        (None, 56, 56, 256)       590080    \n",
      "_________________________________________________________________\n",
      "block3_pool (MaxPooling2D)   (None, 28, 28, 256)       0         \n",
      "_________________________________________________________________\n",
      "block4_conv1 (Conv2D)        (None, 28, 28, 512)       1180160   \n",
      "_________________________________________________________________\n",
      "block4_conv2 (Conv2D)        (None, 28, 28, 512)       2359808   \n",
      "_________________________________________________________________\n",
      "block4_conv3 (Conv2D)        (None, 28, 28, 512)       2359808   \n",
      "_________________________________________________________________\n",
      "block4_pool (MaxPooling2D)   (None, 14, 14, 512)       0         \n",
      "_________________________________________________________________\n",
      "block5_conv1 (Conv2D)        (None, 14, 14, 512)       2359808   \n",
      "_________________________________________________________________\n",
      "block5_conv2 (Conv2D)        (None, 14, 14, 512)       2359808   \n",
      "_________________________________________________________________\n",
      "block5_conv3 (Conv2D)        (None, 14, 14, 512)       2359808   \n",
      "_________________________________________________________________\n",
      "block5_pool (MaxPooling2D)   (None, 7, 7, 512)         0         \n",
      "_________________________________________________________________\n",
      "flatten (Flatten)            (None, 25088)             0         \n",
      "_________________________________________________________________\n",
      "fc1 (Dense)                  (None, 4096)              102764544 \n",
      "_________________________________________________________________\n",
      "fc2 (Dense)                  (None, 4096)              16781312  \n",
      "_________________________________________________________________\n",
      "dense (Dense)                (None, 102)               417894    \n",
      "=================================================================\n",
      "Total params: 134,678,438\n",
      "Trainable params: 417,894\n",
      "Non-trainable params: 134,260,544\n",
      "_________________________________________________________________\n"
     ]
    }
   ],
   "source": [
    "# Make output layer trainabel. All other layers remains with same weights as for the pretrained VGG16 model.\n",
    "\n",
    "for i, layer in enumerate(modified_VGG16.layers[:-1]):\n",
    "    layer.trainable = False\n",
    "    \n",
    "for i, layer in enumerate(modified_VGG16.layers[-1:]):\n",
    "    layer.trainable = True\n",
    "    \n",
    "modified_VGG16.summary()"
   ]
  },
  {
   "cell_type": "code",
   "execution_count": 6,
   "metadata": {},
   "outputs": [
    {
     "name": "stdout",
     "output_type": "stream",
     "text": [
      "Epoch 1/20\n",
      "211/212 [============================>.] - ETA: 1s - loss: 3.7268 - acc: 0.2233Epoch 1/20\n",
      "212/212 [==============================] - 506s 2s/step - loss: 3.7245 - acc: 0.2237 - val_loss: 3.2206 - val_acc: 0.2746\n",
      "Epoch 2/20\n",
      "211/212 [============================>.] - ETA: 1s - loss: 2.8656 - acc: 0.3739Epoch 1/20\n",
      "212/212 [==============================] - 494s 2s/step - loss: 2.8653 - acc: 0.3735 - val_loss: 2.6045 - val_acc: 0.4126\n",
      "Epoch 3/20\n",
      "211/212 [============================>.] - ETA: 1s - loss: 2.3560 - acc: 0.4822Epoch 1/20\n",
      "212/212 [==============================] - 492s 2s/step - loss: 2.3550 - acc: 0.4822 - val_loss: 2.2279 - val_acc: 0.5280\n",
      "Epoch 4/20\n",
      "211/212 [============================>.] - ETA: 1s - loss: 2.0211 - acc: 0.5604Epoch 1/20\n",
      "212/212 [==============================] - 494s 2s/step - loss: 2.0221 - acc: 0.5600 - val_loss: 1.9706 - val_acc: 0.5526\n",
      "Epoch 5/20\n",
      "211/212 [============================>.] - ETA: 1s - loss: 1.7948 - acc: 0.6105Epoch 1/20\n",
      "212/212 [==============================] - 497s 2s/step - loss: 1.7937 - acc: 0.6109 - val_loss: 1.7791 - val_acc: 0.6072\n",
      "Epoch 6/20\n",
      "211/212 [============================>.] - ETA: 1s - loss: 1.6218 - acc: 0.6464Epoch 1/20\n",
      "212/212 [==============================] - 498s 2s/step - loss: 1.6206 - acc: 0.6466 - val_loss: 1.6470 - val_acc: 0.6236\n",
      "Epoch 7/20\n",
      "211/212 [============================>.] - ETA: 1s - loss: 1.4891 - acc: 0.6677Epoch 1/20\n",
      "212/212 [==============================] - 496s 2s/step - loss: 1.4890 - acc: 0.6676 - val_loss: 1.5468 - val_acc: 0.6318\n",
      "Epoch 8/20\n",
      "211/212 [============================>.] - ETA: 1s - loss: 1.3829 - acc: 0.6981Epoch 1/20\n",
      "212/212 [==============================] - 497s 2s/step - loss: 1.3824 - acc: 0.6980 - val_loss: 1.4724 - val_acc: 0.6482\n",
      "Epoch 9/20\n",
      "211/212 [============================>.] - ETA: 1s - loss: 1.2942 - acc: 0.7090Epoch 1/20\n",
      "212/212 [==============================] - 495s 2s/step - loss: 1.2945 - acc: 0.7091 - val_loss: 1.3819 - val_acc: 0.6667\n",
      "Epoch 10/20\n",
      "211/212 [============================>.] - ETA: 1s - loss: 1.2218 - acc: 0.7259Epoch 1/20\n",
      "212/212 [==============================] - 495s 2s/step - loss: 1.2218 - acc: 0.7257 - val_loss: 1.3540 - val_acc: 0.6660\n",
      "Epoch 11/20\n",
      "211/212 [============================>.] - ETA: 1s - loss: 1.1652 - acc: 0.7367Epoch 1/20\n",
      "212/212 [==============================] - 494s 2s/step - loss: 1.1635 - acc: 0.7372 - val_loss: 1.2796 - val_acc: 0.6974\n",
      "Epoch 12/20\n",
      "211/212 [============================>.] - ETA: 1s - loss: 1.1092 - acc: 0.7476Epoch 1/20\n",
      "212/212 [==============================] - 495s 2s/step - loss: 1.1082 - acc: 0.7477 - val_loss: 1.2304 - val_acc: 0.7090\n",
      "Epoch 13/20\n",
      "211/212 [============================>.] - ETA: 1s - loss: 1.0649 - acc: 0.7569Epoch 1/20\n",
      "212/212 [==============================] - 495s 2s/step - loss: 1.0645 - acc: 0.7569 - val_loss: 1.2106 - val_acc: 0.6981\n",
      "Epoch 14/20\n",
      "211/212 [============================>.] - ETA: 1s - loss: 1.0195 - acc: 0.7689Epoch 1/20\n",
      "212/212 [==============================] - 495s 2s/step - loss: 1.0203 - acc: 0.7688 - val_loss: 1.1459 - val_acc: 0.7186\n",
      "Epoch 15/20\n",
      "211/212 [============================>.] - ETA: 1s - loss: 0.9854 - acc: 0.7724Epoch 1/20\n",
      "212/212 [==============================] - 497s 2s/step - loss: 0.9847 - acc: 0.7726 - val_loss: 1.1165 - val_acc: 0.7275\n",
      "Epoch 16/20\n",
      "211/212 [============================>.] - ETA: 1s - loss: 0.9537 - acc: 0.7779Epoch 1/20\n",
      "212/212 [==============================] - 502s 2s/step - loss: 0.9531 - acc: 0.7781 - val_loss: 1.0970 - val_acc: 0.7261\n",
      "Epoch 17/20\n",
      "211/212 [============================>.] - ETA: 1s - loss: 0.9229 - acc: 0.7843Epoch 1/20\n",
      "212/212 [==============================] - 505s 2s/step - loss: 0.9219 - acc: 0.7847 - val_loss: 1.0709 - val_acc: 0.7398\n",
      "Epoch 18/20\n",
      "211/212 [============================>.] - ETA: 1s - loss: 0.8948 - acc: 0.7939Epoch 1/20\n",
      "212/212 [==============================] - 500s 2s/step - loss: 0.8935 - acc: 0.7940 - val_loss: 1.0558 - val_acc: 0.7439\n",
      "Epoch 19/20\n",
      "211/212 [============================>.] - ETA: 1s - loss: 0.8703 - acc: 0.7954Epoch 1/20\n",
      "212/212 [==============================] - 500s 2s/step - loss: 0.8699 - acc: 0.7955 - val_loss: 1.0269 - val_acc: 0.7507\n",
      "Epoch 20/20\n",
      "211/212 [============================>.] - ETA: 1s - loss: 0.8448 - acc: 0.8027Epoch 1/20\n",
      "212/212 [==============================] - 501s 2s/step - loss: 0.8452 - acc: 0.8024 - val_loss: 1.0211 - val_acc: 0.7541\n"
     ]
    }
   ],
   "source": [
    "modified_VGG16.compile(loss='categorical_crossentropy',\n",
    "                      optimizer=optimizers.RMSprop(lr=1e-4),\n",
    "                      metrics=['accuracy'])\n",
    "\n",
    "history = modified_VGG16.fit(train_dataset,\n",
    "                  validation_data=val_dataset,\n",
    "                  epochs=20)"
   ]
  },
  {
   "cell_type": "code",
   "execution_count": 7,
   "metadata": {},
   "outputs": [],
   "source": [
    "modified_VGG16.save(\"VGG16.h5\")"
   ]
  },
  {
   "cell_type": "code",
   "execution_count": 8,
   "metadata": {},
   "outputs": [],
   "source": [
    "import numpy as np\n",
    "data_history_training = history.history\n",
    "\n",
    "np.save('VGG16_history.npy', data_history_training)"
   ]
  },
  {
   "cell_type": "code",
   "execution_count": 107,
   "metadata": {},
   "outputs": [
    {
     "name": "stdout",
     "output_type": "stream",
     "text": [
      "29/29 [==============================] - 45s 2s/step - loss: 0.9954 - acc: 0.7639\n"
     ]
    },
    {
     "data": {
      "text/plain": [
       "[0.9953912869738094, 0.76391983]"
      ]
     },
     "execution_count": 107,
     "metadata": {},
     "output_type": "execute_result"
    }
   ],
   "source": [
    "# Run model on test set from saved model\n",
    "\n",
    "from tensorflow import keras\n",
    "\n",
    "reconstructed_model_VGG16 = keras.models.load_model(\"VGG16.h5\")\n",
    "reconstructed_model_VGG16.evaluate(test_dataset)"
   ]
  },
  {
   "cell_type": "code",
   "execution_count": 108,
   "metadata": {},
   "outputs": [
    {
     "data": {
      "image/png": "[encoded data removed]",
      "text/plain": [
       "<Figure size 432x288 with 1 Axes>"
      ]
     },
     "metadata": {
      "needs_background": "light"
     },
     "output_type": "display_data"
    },
    {
     "data": {
      "image/png": "[encoded data removed]",
      "text/plain": [
       "<Figure size 432x288 with 1 Axes>"
      ]
     },
     "metadata": {
      "needs_background": "light"
     },
     "output_type": "display_data"
    }
   ],
   "source": [
    "import numpy as np\n",
    "reconstructed_history_VGG16 = np.load('VGG16_history.npy',allow_pickle='TRUE').item()\n",
    "\n",
    "import matplotlib.pyplot as plt\n",
    "\n",
    "acc = reconstructed_history_VGG16['acc']\n",
    "val_acc = reconstructed_history_VGG16['val_acc']\n",
    "loss = reconstructed_history_VGG16['loss']\n",
    "val_loss = reconstructed_history_VGG16['val_loss']\n",
    "\n",
    "epochs = range(len(acc))\n",
    "\n",
    "plt.plot(epochs, acc, label='Training acc')\n",
    "plt.plot(epochs, val_acc, label='Validation acc')\n",
    "plt.title('Training and validation accuracy')\n",
    "plt.legend()\n",
    "plt.xlabel('Epochs')\n",
    "plt.ylabel('Accuracy')\n",
    "\n",
    "plt.figure()\n",
    "\n",
    "plt.plot(epochs, loss, label='Training loss')\n",
    "plt.plot(epochs, val_loss, label='Validation loss')\n",
    "plt.title('Training and validation loss')\n",
    "plt.legend()\n",
    "plt.xlabel('Epochs')\n",
    "plt.ylabel('Loss')\n",
    "\n",
    "plt.show()\n"
   ]
  },
  {
   "cell_type": "code",
   "execution_count": 109,
   "metadata": {
    "scrolled": true
   },
   "outputs": [],
   "source": [
    "import sklearn\n",
    "from sklearn.metrics import classification_report\n",
    "from tensorflow import keras\n",
    "import numpy as np\n",
    "\n",
    "reconstructed_model_VGG16 = keras.models.load_model(\"VGG16.h5\")\n"
   ]
  },
  {
   "cell_type": "code",
   "execution_count": 110,
   "metadata": {},
   "outputs": [],
   "source": [
    "predicted = reconstructed_model_VGG16.predict(test_dataset)"
   ]
  },
  {
   "cell_type": "code",
   "execution_count": 111,
   "metadata": {
    "scrolled": false
   },
   "outputs": [
    {
     "name": "stdout",
     "output_type": "stream",
     "text": [
      "\n",
      "                   precision    recall  f1-score   support\n",
      "\n",
      "BACKGROUND_Google       0.40      0.69      0.51        42\n",
      "            Faces       0.98      0.98      0.98        45\n",
      "       Faces_easy       0.97      1.00      0.99        35\n",
      "         Leopards       0.68      1.00      0.81        25\n",
      "       Motorbikes       0.95      0.99      0.97        80\n",
      "        accordion       0.86      1.00      0.92         6\n",
      "        airplanes       0.92      0.98      0.95        87\n",
      "           anchor       1.00      0.20      0.33         5\n",
      "              ant       0.25      0.50      0.33         2\n",
      "           barrel       1.00      0.50      0.67         4\n",
      "             bass       1.00      0.25      0.40         8\n",
      "           beaver       0.33      0.20      0.25         5\n",
      "        binocular       0.50      0.67      0.57         3\n",
      "           bonsai       0.82      0.88      0.85        16\n",
      "            brain       0.73      0.89      0.80         9\n",
      "     brontosaurus       0.33      0.33      0.33         3\n",
      "           buddha       0.88      0.70      0.78        10\n",
      "        butterfly       0.43      0.50      0.46         6\n",
      "           camera       0.86      1.00      0.92         6\n",
      "           cannon       0.67      0.40      0.50         5\n",
      "         car_side       0.91      1.00      0.95        10\n",
      "      ceiling_fan       0.80      0.80      0.80         5\n",
      "        cellphone       1.00      0.60      0.75         5\n",
      "            chair       0.67      0.67      0.67         6\n",
      "       chandelier       1.00      0.46      0.63        13\n",
      "      cougar_body       1.00      0.50      0.67         4\n",
      "      cougar_face       1.00      0.80      0.89        10\n",
      "             crab       0.50      0.57      0.53         7\n",
      "         crayfish       1.00      0.25      0.40         8\n",
      "        crocodile       0.40      0.25      0.31         8\n",
      "   crocodile_head       0.33      0.40      0.36         5\n",
      "              cup       1.00      0.20      0.33         5\n",
      "        dalmatian       0.67      1.00      0.80         4\n",
      "      dollar_bill       1.00      0.70      0.82        10\n",
      "          dolphin       0.60      0.75      0.67         4\n",
      "        dragonfly       0.11      0.50      0.18         2\n",
      "  electric_guitar       1.00      0.55      0.71        11\n",
      "         elephant       0.50      0.50      0.50         8\n",
      "              emu       0.00      0.00      0.00         2\n",
      "        euphonium       0.75      0.60      0.67         5\n",
      "             ewer       0.70      1.00      0.82         7\n",
      "            ferry       0.89      0.80      0.84        10\n",
      "         flamingo       1.00      0.60      0.75         5\n",
      "    flamingo_head       0.80      0.80      0.80         5\n",
      "         garfield       1.00      0.83      0.91         6\n",
      "          gerenuk       1.00      0.17      0.29         6\n",
      "       gramophone       1.00      0.75      0.86         4\n",
      "      grand_piano       1.00      1.00      1.00        10\n",
      "        hawksbill       0.57      0.73      0.64        11\n",
      "        headphone       1.00      0.25      0.40         4\n",
      "         hedgehog       0.57      0.80      0.67         5\n",
      "       helicopter       0.75      0.75      0.75         8\n",
      "             ibis       0.50      0.36      0.42        11\n",
      "     inline_skate       1.00      1.00      1.00         2\n",
      "      joshua_tree       0.86      1.00      0.92         6\n",
      "         kangaroo       0.50      0.67      0.57         9\n",
      "            ketch       0.75      0.75      0.75         8\n",
      "             lamp       1.00      1.00      1.00         1\n",
      "           laptop       0.88      1.00      0.93         7\n",
      "            llama       0.36      0.56      0.43         9\n",
      "          lobster       0.50      0.33      0.40         3\n",
      "            lotus       0.67      0.50      0.57         8\n",
      "         mandolin       1.00      0.67      0.80         3\n",
      "           mayfly       0.00      0.00      0.00         1\n",
      "          menorah       0.67      0.89      0.76         9\n",
      "        metronome       1.00      1.00      1.00         1\n",
      "          minaret       1.00      1.00      1.00         3\n",
      "         nautilus       1.00      0.88      0.93         8\n",
      "          octopus       1.00      0.25      0.40         4\n",
      "            okapi       1.00      0.33      0.50         6\n",
      "           pagoda       0.83      1.00      0.91         5\n",
      "            panda       1.00      1.00      1.00         1\n",
      "           pigeon       1.00      0.60      0.75         5\n",
      "            pizza       0.80      1.00      0.89         4\n",
      "         platypus       0.20      0.50      0.29         2\n",
      "          pyramid       0.50      0.20      0.29         5\n",
      "         revolver       1.00      0.73      0.84        11\n",
      "            rhino       0.33      1.00      0.50         3\n",
      "          rooster       1.00      0.50      0.67         4\n",
      "        saxophone       0.50      0.50      0.50         4\n",
      "         schooner       0.67      0.50      0.57         4\n",
      "         scissors       1.00      1.00      1.00         4\n",
      "         scorpion       0.80      0.31      0.44        13\n",
      "        sea_horse       0.56      0.62      0.59         8\n",
      "           snoopy       0.25      1.00      0.40         1\n",
      "      soccer_ball       1.00      0.78      0.88         9\n",
      "          stapler       1.00      0.25      0.40         4\n",
      "         starfish       0.62      0.71      0.67         7\n",
      "      stegosaurus       1.00      1.00      1.00         5\n",
      "        stop_sign       0.75      1.00      0.86         3\n",
      "       strawberry       1.00      0.75      0.86         4\n",
      "        sunflower       1.00      0.75      0.86         8\n",
      "             tick       0.86      0.75      0.80         8\n",
      "        trilobite       0.86      1.00      0.92         6\n",
      "         umbrella       0.90      0.69      0.78        13\n",
      "            watch       0.78      1.00      0.88        21\n",
      "      water_lilly       0.50      0.33      0.40         3\n",
      "       wheelchair       0.67      1.00      0.80         2\n",
      "         wild_cat       0.00      0.00      0.00         1\n",
      "    windsor_chair       0.75      0.50      0.60         6\n",
      "           wrench       0.75      0.50      0.60         6\n",
      "         yin_yang       0.80      1.00      0.89         4\n",
      "\n",
      "         accuracy                           0.76       898\n",
      "        macro avg       0.75      0.67      0.67       898\n",
      "     weighted avg       0.81      0.76      0.76       898\n",
      "\n"
     ]
    },
    {
     "name": "stderr",
     "output_type": "stream",
     "text": [
      "/opt/conda/lib/python3.7/site-packages/sklearn/metrics/_classification.py:1221: UndefinedMetricWarning: Precision and F-score are ill-defined and being set to 0.0 in labels with no predicted samples. Use `zero_division` parameter to control this behavior.\n",
      "  _warn_prf(average, modifier, msg_start, len(result))\n"
     ]
    }
   ],
   "source": [
    "true = test_dataset.classes\n",
    "predicted = [np.argmax(x) for x in predicted]\n",
    "predicted = np.array(predicted)\n",
    "\n",
    "print('\\n', sklearn.metrics.classification_report(true, predicted, target_names=labels), sep='') "
   ]
  },
  {
   "cell_type": "markdown",
   "metadata": {},
   "source": []
  },
  {
   "cell_type": "markdown",
   "metadata": {},
   "source": [
    "# Next, how does the modified VGG16 net perform with augmented data\n",
    "\n",
    "### As the model is already made we just need agumented inputs."
   ]
  },
  {
   "cell_type": "code",
   "execution_count": 99,
   "metadata": {},
   "outputs": [
    {
     "name": "stdout",
     "output_type": "stream",
     "text": [
      "Found 6782 images belonging to 102 classes.\n",
      "Found 1464 images belonging to 102 classes.\n",
      "Found 898 images belonging to 102 classes.\n",
      "Train, in percentage (%) :  74.16885389326335\n",
      "Val, in percentage (%) :  16.010498687664043\n",
      "Test, in percentage (%) :  9.820647419072616\n"
     ]
    }
   ],
   "source": [
    "# Image processing from local files\n",
    "\n",
    "from keras.preprocessing.image import ImageDataGenerator\n",
    "image_size = 224\n",
    "\n",
    "\n",
    "# Define directory roots\n",
    "train_root = './101_ObjectCategories_test/101_ObjectCategories/train'\n",
    "val_root = './101_ObjectCategories_test/101_ObjectCategories/val'\n",
    "test_root = './101_ObjectCategories_test/101_ObjectCategories/test'\n",
    "\n",
    "# Generate training set\n",
    "train_datagen = ImageDataGenerator(rescale=1./255.)\n",
    "\n",
    "train_dataset = train_datagen.flow_from_directory(\n",
    "    train_root,\n",
    "    target_size=(image_size, image_size),\n",
    "    batch_size=32\n",
    ")\n",
    "                                \n",
    "\n",
    "# Generate validation set   \n",
    "val_datagen = ImageDataGenerator(rescale=1./255.)\n",
    "\n",
    "val_dataset = val_datagen.flow_from_directory(\n",
    "    val_root,\n",
    "    target_size=(image_size, image_size),\n",
    "    batch_size=32\n",
    ")\n",
    "\n",
    "# Generate test set\n",
    "test_datagen = ImageDataGenerator(rescale=1./255.)\n",
    "\n",
    "test_dataset = test_datagen.flow_from_directory(\n",
    "    test_root,\n",
    "    target_size=(image_size, image_size),\n",
    "    batch_size=32,\n",
    "    shuffle=False\n",
    ")\n",
    "\n",
    "total_length = len(train_dataset.filenames) + len(val_dataset.filenames) + len(test_dataset.filenames)\n",
    "print(\"Train, in percentage (%) : \", len(train_dataset.filenames)/total_length * 100)\n",
    "print(\"Val, in percentage (%) : \", len(val_dataset.filenames)/total_length * 100)\n",
    "print(\"Test, in percentage (%) : \", len(test_dataset.filenames)/total_length * 100)"
   ]
  },
  {
   "cell_type": "code",
   "execution_count": 46,
   "metadata": {},
   "outputs": [
    {
     "name": "stdout",
     "output_type": "stream",
     "text": [
      "Epoch 1/20\n",
      "211/212 [============================>.] - ETA: 1s - loss: 3.7225 - acc: 0.2126Epoch 1/20\n",
      "212/212 [==============================] - 440s 2s/step - loss: 3.7192 - acc: 0.2134 - val_loss: 3.2129 - val_acc: 0.2725\n",
      "Epoch 2/20\n",
      "211/212 [============================>.] - ETA: 1s - loss: 2.8496 - acc: 0.3794Epoch 1/20\n",
      "212/212 [==============================] - 432s 2s/step - loss: 2.8465 - acc: 0.3801 - val_loss: 2.6111 - val_acc: 0.4187\n",
      "Epoch 3/20\n",
      "211/212 [============================>.] - ETA: 1s - loss: 2.3441 - acc: 0.4920Epoch 1/20\n",
      "212/212 [==============================] - 449s 2s/step - loss: 2.3420 - acc: 0.4925 - val_loss: 2.2408 - val_acc: 0.4898\n",
      "Epoch 4/20\n",
      "211/212 [============================>.] - ETA: 1s - loss: 2.0207 - acc: 0.5563Epoch 1/20\n",
      "212/212 [==============================] - 448s 2s/step - loss: 2.0176 - acc: 0.5569 - val_loss: 1.9818 - val_acc: 0.5458\n",
      "Epoch 5/20\n",
      "211/212 [============================>.] - ETA: 1s - loss: 1.7862 - acc: 0.6101Epoch 1/20\n",
      "212/212 [==============================] - 449s 2s/step - loss: 1.7861 - acc: 0.6098 - val_loss: 1.7920 - val_acc: 0.5915\n",
      "Epoch 6/20\n",
      "211/212 [============================>.] - ETA: 1s - loss: 1.6188 - acc: 0.6453Epoch 1/20\n",
      "212/212 [==============================] - 429s 2s/step - loss: 1.6185 - acc: 0.6451 - val_loss: 1.6328 - val_acc: 0.6236\n",
      "Epoch 7/20\n",
      "211/212 [============================>.] - ETA: 1s - loss: 1.4888 - acc: 0.6713Epoch 1/20\n",
      "212/212 [==============================] - 428s 2s/step - loss: 1.4865 - acc: 0.6719 - val_loss: 1.5465 - val_acc: 0.6366\n",
      "Epoch 8/20\n",
      "211/212 [============================>.] - ETA: 1s - loss: 1.3773 - acc: 0.6936Epoch 1/20\n",
      "212/212 [==============================] - 429s 2s/step - loss: 1.3786 - acc: 0.6935 - val_loss: 1.4712 - val_acc: 0.6544\n",
      "Epoch 9/20\n",
      "211/212 [============================>.] - ETA: 1s - loss: 1.2981 - acc: 0.7098Epoch 1/20\n",
      "212/212 [==============================] - 428s 2s/step - loss: 1.2979 - acc: 0.7097 - val_loss: 1.3993 - val_acc: 0.6762\n",
      "Epoch 10/20\n",
      "211/212 [============================>.] - ETA: 1s - loss: 1.2261 - acc: 0.7276Epoch 1/20\n",
      "212/212 [==============================] - 429s 2s/step - loss: 1.2257 - acc: 0.7278 - val_loss: 1.3222 - val_acc: 0.6837\n",
      "Epoch 11/20\n",
      "211/212 [============================>.] - ETA: 1s - loss: 1.1628 - acc: 0.7329Epoch 1/20\n",
      "212/212 [==============================] - 430s 2s/step - loss: 1.1633 - acc: 0.7328 - val_loss: 1.2646 - val_acc: 0.6974\n",
      "Epoch 12/20\n",
      "211/212 [============================>.] - ETA: 1s - loss: 1.1107 - acc: 0.7467Epoch 1/20\n",
      "212/212 [==============================] - 429s 2s/step - loss: 1.1101 - acc: 0.7467 - val_loss: 1.2226 - val_acc: 0.7049\n",
      "Epoch 13/20\n",
      "211/212 [============================>.] - ETA: 1s - loss: 1.0658 - acc: 0.7567Epoch 1/20\n",
      "212/212 [==============================] - 426s 2s/step - loss: 1.0642 - acc: 0.7572 - val_loss: 1.1866 - val_acc: 0.7111\n",
      "Epoch 14/20\n",
      "211/212 [============================>.] - ETA: 1s - loss: 1.0209 - acc: 0.7649Epoch 1/20\n",
      "212/212 [==============================] - 426s 2s/step - loss: 1.0195 - acc: 0.7653 - val_loss: 1.1765 - val_acc: 0.7152\n",
      "Epoch 15/20\n",
      "211/212 [============================>.] - ETA: 1s - loss: 0.9884 - acc: 0.7723Epoch 1/20\n",
      "212/212 [==============================] - 427s 2s/step - loss: 0.9888 - acc: 0.7725 - val_loss: 1.1262 - val_acc: 0.7247\n",
      "Epoch 16/20\n",
      "211/212 [============================>.] - ETA: 1s - loss: 0.9538 - acc: 0.7796Epoch 1/20\n",
      "212/212 [==============================] - 424s 2s/step - loss: 0.9534 - acc: 0.7797 - val_loss: 1.1030 - val_acc: 0.7302\n",
      "Epoch 17/20\n",
      "211/212 [============================>.] - ETA: 1s - loss: 0.9227 - acc: 0.7859Epoch 1/20\n",
      "212/212 [==============================] - 423s 2s/step - loss: 0.9229 - acc: 0.7859 - val_loss: 1.0591 - val_acc: 0.7473\n",
      "Epoch 18/20\n",
      "211/212 [============================>.] - ETA: 1s - loss: 0.8967 - acc: 0.7899Epoch 1/20\n",
      "212/212 [==============================] - 426s 2s/step - loss: 0.8949 - acc: 0.7903 - val_loss: 1.0602 - val_acc: 0.7452\n",
      "Epoch 19/20\n",
      "211/212 [============================>.] - ETA: 1s - loss: 0.8691 - acc: 0.7917Epoch 1/20\n",
      "212/212 [==============================] - 425s 2s/step - loss: 0.8701 - acc: 0.7915 - val_loss: 1.0235 - val_acc: 0.7486\n",
      "Epoch 20/20\n",
      "211/212 [============================>.] - ETA: 1s - loss: 0.8446 - acc: 0.8024Epoch 1/20\n",
      "212/212 [==============================] - 425s 2s/step - loss: 0.8448 - acc: 0.8026 - val_loss: 1.0182 - val_acc: 0.7473\n"
     ]
    }
   ],
   "source": [
    "modified_VGG16.compile(loss='categorical_crossentropy',\n",
    "                      optimizer=optimizers.RMSprop(lr=1e-4),\n",
    "                      metrics=['accuracy'])\n",
    "\n",
    "history = modified_VGG16.fit(train_dataset,\n",
    "                  validation_data=val_dataset,\n",
    "                  epochs=20)"
   ]
  },
  {
   "cell_type": "code",
   "execution_count": 47,
   "metadata": {},
   "outputs": [],
   "source": [
    "modified_VGG16.save(\"VGG16_augmented_data.h5\")"
   ]
  },
  {
   "cell_type": "code",
   "execution_count": 48,
   "metadata": {},
   "outputs": [],
   "source": [
    "import numpy as np\n",
    "data_history_training = history.history\n",
    "\n",
    "np.save('VGG16_history_augmented_data.npy', data_history_training)"
   ]
  },
  {
   "cell_type": "markdown",
   "metadata": {},
   "source": [
    "### Evaluate model on test data and plot history of training"
   ]
  },
  {
   "cell_type": "code",
   "execution_count": 50,
   "metadata": {},
   "outputs": [
    {
     "name": "stdout",
     "output_type": "stream",
     "text": [
      "29/29 [==============================] - 45s 2s/step - loss: 1.0093 - acc: 0.7517\n"
     ]
    },
    {
     "data": {
      "text/plain": [
       "[1.009326057187442, 0.75167036]"
      ]
     },
     "execution_count": 50,
     "metadata": {},
     "output_type": "execute_result"
    }
   ],
   "source": [
    "# Run model on test set from saved model\n",
    "\n",
    "from tensorflow import keras\n",
    "\n",
    "reconstructed_model_VGG16 = keras.models.load_model(\"VGG16_augmented_data.h5\")\n",
    "reconstructed_model_VGG16.evaluate(test_dataset)"
   ]
  },
  {
   "cell_type": "code",
   "execution_count": 51,
   "metadata": {},
   "outputs": [
    {
     "data": {
      "image/png": "[encoded data removed]",
      "text/plain": [
       "<Figure size 432x288 with 1 Axes>"
      ]
     },
     "metadata": {
      "needs_background": "light"
     },
     "output_type": "display_data"
    },
    {
     "data": {
      "image/png": "[encoded data removed]",
      "text/plain": [
       "<Figure size 432x288 with 1 Axes>"
      ]
     },
     "metadata": {
      "needs_background": "light"
     },
     "output_type": "display_data"
    }
   ],
   "source": [
    "import numpy as np\n",
    "reconstructed_history_VGG16 = np.load('VGG16_history_augmented_data.npy',allow_pickle='TRUE').item()\n",
    "\n",
    "import matplotlib.pyplot as plt\n",
    "\n",
    "acc = reconstructed_history_VGG16['acc']\n",
    "val_acc = reconstructed_history_VGG16['val_acc']\n",
    "loss = reconstructed_history_VGG16['loss']\n",
    "val_loss = reconstructed_history_VGG16['val_loss']\n",
    "\n",
    "epochs = range(len(acc))\n",
    "\n",
    "plt.plot(epochs, acc, label='Training acc')\n",
    "plt.plot(epochs, val_acc, label='Validation acc')\n",
    "plt.title('Training and validation accuracy')\n",
    "plt.legend()\n",
    "plt.xlabel('Epochs')\n",
    "plt.ylabel('Accuracy')\n",
    "\n",
    "plt.figure()\n",
    "\n",
    "plt.plot(epochs, loss, label='Training loss')\n",
    "plt.plot(epochs, val_loss, label='Validation loss')\n",
    "plt.title('Training and validation loss')\n",
    "plt.legend()\n",
    "plt.xlabel('Epochs')\n",
    "plt.ylabel('Loss')\n",
    "\n",
    "plt.show()\n"
   ]
  },
  {
   "cell_type": "markdown",
   "metadata": {},
   "source": [
    "### Predict on test data. Make a classification report on test set"
   ]
  },
  {
   "cell_type": "code",
   "execution_count": 101,
   "metadata": {},
   "outputs": [],
   "source": [
    "# Predict from model\n",
    "\n",
    "load_model = keras.models.load_model(\"VGG16_augmented_data.h5\")\n",
    "y_preds = load_model.predict(test_dataset)\n"
   ]
  },
  {
   "cell_type": "code",
   "execution_count": 102,
   "metadata": {
    "scrolled": false
   },
   "outputs": [
    {
     "name": "stdout",
     "output_type": "stream",
     "text": [
      "(898,)\n",
      "(898,)\n",
      "\n",
      "                   precision    recall  f1-score   support\n",
      "\n",
      "BACKGROUND_Google       0.38      0.69      0.49        42\n",
      "            Faces       0.98      0.96      0.97        45\n",
      "       Faces_easy       0.95      1.00      0.97        35\n",
      "         Leopards       0.76      1.00      0.86        25\n",
      "       Motorbikes       0.99      0.97      0.98        80\n",
      "        accordion       0.75      1.00      0.86         6\n",
      "        airplanes       0.79      0.98      0.87        87\n",
      "           anchor       1.00      0.20      0.33         5\n",
      "              ant       0.25      1.00      0.40         2\n",
      "           barrel       1.00      0.50      0.67         4\n",
      "             bass       0.67      0.25      0.36         8\n",
      "           beaver       0.50      0.20      0.29         5\n",
      "        binocular       0.40      0.67      0.50         3\n",
      "           bonsai       0.82      0.88      0.85        16\n",
      "            brain       0.89      0.89      0.89         9\n",
      "     brontosaurus       0.20      0.33      0.25         3\n",
      "           buddha       0.78      0.70      0.74        10\n",
      "        butterfly       0.60      0.50      0.55         6\n",
      "           camera       0.86      1.00      0.92         6\n",
      "           cannon       0.00      0.00      0.00         5\n",
      "         car_side       0.91      1.00      0.95        10\n",
      "      ceiling_fan       1.00      0.20      0.33         5\n",
      "        cellphone       1.00      0.60      0.75         5\n",
      "            chair       0.75      0.50      0.60         6\n",
      "       chandelier       1.00      0.62      0.76        13\n",
      "      cougar_body       1.00      0.25      0.40         4\n",
      "      cougar_face       0.82      0.90      0.86        10\n",
      "             crab       0.80      0.57      0.67         7\n",
      "         crayfish       1.00      0.12      0.22         8\n",
      "        crocodile       0.25      0.12      0.17         8\n",
      "   crocodile_head       0.29      0.80      0.42         5\n",
      "              cup       1.00      0.40      0.57         5\n",
      "        dalmatian       1.00      1.00      1.00         4\n",
      "      dollar_bill       0.88      0.70      0.78        10\n",
      "          dolphin       0.67      0.50      0.57         4\n",
      "        dragonfly       0.00      0.00      0.00         2\n",
      "  electric_guitar       0.64      0.64      0.64        11\n",
      "         elephant       0.50      0.62      0.56         8\n",
      "              emu       0.50      0.50      0.50         2\n",
      "        euphonium       0.75      0.60      0.67         5\n",
      "             ewer       0.78      1.00      0.88         7\n",
      "            ferry       0.88      0.70      0.78        10\n",
      "         flamingo       0.40      0.80      0.53         5\n",
      "    flamingo_head       1.00      0.80      0.89         5\n",
      "         garfield       1.00      0.83      0.91         6\n",
      "          gerenuk       0.33      0.17      0.22         6\n",
      "       gramophone       0.75      0.75      0.75         4\n",
      "      grand_piano       1.00      1.00      1.00        10\n",
      "        hawksbill       0.67      0.73      0.70        11\n",
      "        headphone       1.00      0.50      0.67         4\n",
      "         hedgehog       0.67      0.40      0.50         5\n",
      "       helicopter       0.80      0.50      0.62         8\n",
      "             ibis       0.50      0.55      0.52        11\n",
      "     inline_skate       1.00      1.00      1.00         2\n",
      "      joshua_tree       0.86      1.00      0.92         6\n",
      "         kangaroo       0.33      0.67      0.44         9\n",
      "            ketch       0.67      0.75      0.71         8\n",
      "             lamp       0.33      1.00      0.50         1\n",
      "           laptop       1.00      1.00      1.00         7\n",
      "            llama       0.60      0.33      0.43         9\n",
      "          lobster       0.00      0.00      0.00         3\n",
      "            lotus       0.71      0.62      0.67         8\n",
      "         mandolin       1.00      0.67      0.80         3\n",
      "           mayfly       0.00      0.00      0.00         1\n",
      "          menorah       0.89      0.89      0.89         9\n",
      "        metronome       1.00      1.00      1.00         1\n",
      "          minaret       1.00      0.67      0.80         3\n",
      "         nautilus       1.00      0.88      0.93         8\n",
      "          octopus       1.00      0.25      0.40         4\n",
      "            okapi       1.00      0.17      0.29         6\n",
      "           pagoda       0.71      1.00      0.83         5\n",
      "            panda       1.00      1.00      1.00         1\n",
      "           pigeon       1.00      0.40      0.57         5\n",
      "            pizza       0.80      1.00      0.89         4\n",
      "         platypus       0.33      0.50      0.40         2\n",
      "          pyramid       0.40      0.40      0.40         5\n",
      "         revolver       0.89      0.73      0.80        11\n",
      "            rhino       0.43      1.00      0.60         3\n",
      "          rooster       1.00      1.00      1.00         4\n",
      "        saxophone       0.67      0.50      0.57         4\n",
      "         schooner       0.50      0.25      0.33         4\n",
      "         scissors       1.00      0.75      0.86         4\n",
      "         scorpion       0.71      0.38      0.50        13\n",
      "        sea_horse       0.80      0.50      0.62         8\n",
      "           snoopy       0.33      1.00      0.50         1\n",
      "      soccer_ball       1.00      0.89      0.94         9\n",
      "          stapler       1.00      0.25      0.40         4\n",
      "         starfish       1.00      0.43      0.60         7\n",
      "      stegosaurus       0.71      1.00      0.83         5\n",
      "        stop_sign       1.00      1.00      1.00         3\n",
      "       strawberry       1.00      0.75      0.86         4\n",
      "        sunflower       1.00      1.00      1.00         8\n",
      "             tick       1.00      0.50      0.67         8\n",
      "        trilobite       0.86      1.00      0.92         6\n",
      "         umbrella       0.91      0.77      0.83        13\n",
      "            watch       0.91      0.95      0.93        21\n",
      "      water_lilly       0.50      0.33      0.40         3\n",
      "       wheelchair       0.67      1.00      0.80         2\n",
      "         wild_cat       0.00      0.00      0.00         1\n",
      "    windsor_chair       0.75      0.50      0.60         6\n",
      "           wrench       1.00      0.17      0.29         6\n",
      "         yin_yang       0.80      1.00      0.89         4\n",
      "\n",
      "         accuracy                           0.75       898\n",
      "        macro avg       0.74      0.65      0.64       898\n",
      "     weighted avg       0.79      0.75      0.74       898\n",
      "\n"
     ]
    },
    {
     "name": "stderr",
     "output_type": "stream",
     "text": [
      "/opt/conda/lib/python3.7/site-packages/sklearn/metrics/_classification.py:1221: UndefinedMetricWarning: Precision and F-score are ill-defined and being set to 0.0 in labels with no predicted samples. Use `zero_division` parameter to control this behavior.\n",
      "  _warn_prf(average, modifier, msg_start, len(result))\n"
     ]
    }
   ],
   "source": [
    "y_trues = test_dataset.classes\n",
    "y_preds = [np.argmax(x) for x in y_preds]\n",
    "y_preds = np.array(y_preds)\n",
    "print(y_trues.shape)\n",
    "print(y_preds.shape)\n",
    "print('\\n', sklearn.metrics.classification_report(y_trues, y_preds,target_names=labels), sep='') "
   ]
  }
 ],
 "metadata": {
  "kernelspec": {
   "display_name": "Python 3",
   "language": "python",
   "name": "python3"
  },
  "language_info": {
   "codemirror_mode": {
    "name": "ipython",
    "version": 3
   },
   "file_extension": ".py",
   "mimetype": "text/x-python",
   "name": "python",
   "nbconvert_exporter": "python",
   "pygments_lexer": "ipython3",
   "version": "3.7.8"
  }
 },
 "nbformat": 4,
 "nbformat_minor": 4
}
