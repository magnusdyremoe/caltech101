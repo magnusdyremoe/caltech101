{
 "cells": [
  {
   "cell_type": "markdown",
   "metadata": {},
   "source": [
    "# Transfer learning\n",
    "\n",
    "### Using VGG16 pre-trained on ImageNet to classify on Clatech101"
   ]
  },
  {
   "cell_type": "markdown",
   "metadata": {},
   "source": [
    "### Data processing with keras.\n",
    " Documentaiton for *ImageDataGenerator* and *flow_from_directory*: https://keras.io/api/preprocessing/image/"
   ]
  },
  {
   "cell_type": "code",
   "execution_count": 18,
   "metadata": {},
   "outputs": [
    {
     "name": "stdout",
     "output_type": "stream",
     "text": [
      "Found 6782 images belonging to 102 classes.\n",
      "Found 1464 images belonging to 102 classes.\n",
      "Found 898 images belonging to 102 classes.\n",
      "Train, in percentage (%) :  74.16885389326335\n",
      "Val, in percentage (%) :  16.010498687664043\n",
      "Test, in percentage (%) :  9.820647419072616\n"
     ]
    }
   ],
   "source": [
    "# Image processing from local files\n",
    "from keras.preprocessing.image import ImageDataGenerator\n",
    "image_size = 224\n",
    "\n",
    "\n",
    "# Define directory roots\n",
    "train_root = './101_ObjectCategories_test/101_ObjectCategories/train'\n",
    "val_root = './101_ObjectCategories_test/101_ObjectCategories/val'\n",
    "test_root = './101_ObjectCategories_test/101_ObjectCategories/test'\n",
    "\n",
    "# Generate training set\n",
    "train_datagen = ImageDataGenerator(rescale=1./255.)\n",
    "\n",
    "train_dataset = train_datagen.flow_from_directory(\n",
    "    train_root,\n",
    "    target_size=(image_size, image_size),\n",
    "    batch_size=32\n",
    ")\n",
    "                                \n",
    "\n",
    "# Generate validation set   \n",
    "val_datagen = ImageDataGenerator(rescale=1./255.)\n",
    "\n",
    "val_dataset = val_datagen.flow_from_directory(\n",
    "    val_root,\n",
    "    target_size=(image_size, image_size),\n",
    "    batch_size=32\n",
    ")\n",
    "\n",
    "# Generate test set\n",
    "test_datagen = ImageDataGenerator(rescale=1./255.)\n",
    "\n",
    "test_dataset = test_datagen.flow_from_directory(\n",
    "    test_root,\n",
    "    target_size=(image_size, image_size),\n",
    "    batch_size=32,\n",
    "    shuffle=False\n",
    ")\n",
    "\n",
    "total_length = len(train_dataset.filenames) + len(val_dataset.filenames) + len(test_dataset.filenames)\n",
    "print(\"Train, in percentage (%) : \", len(train_dataset.filenames)/total_length * 100)\n",
    "print(\"Val, in percentage (%) : \", len(val_dataset.filenames)/total_length * 100)\n",
    "print(\"Test, in percentage (%) : \", len(test_dataset.filenames)/total_length * 100)"
   ]
  },
  {
   "cell_type": "markdown",
   "metadata": {},
   "source": [
    "## Building the model\n",
    "\n",
    "We define the necessary packages needed. Next we define the base model to be the VGG16 model pre-trained on ImageNet.\n",
    "Documentation for the VGG16 model: https://keras.io/api/applications/vgg/#vgg16-function\n",
    "Documentation for ImageNet: http://www.image-net.org/\n",
    "\n",
    "Following this, we modify the output layer of VGG16 to fit the Caltech101 dataset. Next, we set the already pre-trained weights of VGG16 to untrainable, while only having the softmax output layer trainable. This saves a lot of time when training the network. Documentation for trainable/untrainable layers: https://keras.io/guides/transfer_learning/"
   ]
  },
  {
   "cell_type": "code",
   "execution_count": 2,
   "metadata": {},
   "outputs": [],
   "source": [
    "# Include all packages\n",
    "from tensorflow.keras.applications import VGG16\n",
    "from tensorflow.keras.models import Sequential\n",
    "from tensorflow.keras.layers import Dense\n",
    "from tensorflow.keras import Model\n",
    "from tensorflow.keras import optimizers\n"
   ]
  },
  {
   "cell_type": "code",
   "execution_count": 4,
   "metadata": {
    "scrolled": false
   },
   "outputs": [
    {
     "name": "stdout",
     "output_type": "stream",
     "text": [
      "Model: \"vgg16\"\n",
      "_________________________________________________________________\n",
      "Layer (type)                 Output Shape              Param #   \n",
      "=================================================================\n",
      "input_2 (InputLayer)         [(None, 224, 224, 3)]     0         \n",
      "_________________________________________________________________\n",
      "block1_conv1 (Conv2D)        (None, 224, 224, 64)      1792      \n",
      "_________________________________________________________________\n",
      "block1_conv2 (Conv2D)        (None, 224, 224, 64)      36928     \n",
      "_________________________________________________________________\n",
      "block1_pool (MaxPooling2D)   (None, 112, 112, 64)      0         \n",
      "_________________________________________________________________\n",
      "block2_conv1 (Conv2D)        (None, 112, 112, 128)     73856     \n",
      "_________________________________________________________________\n",
      "block2_conv2 (Conv2D)        (None, 112, 112, 128)     147584    \n",
      "_________________________________________________________________\n",
      "block2_pool (MaxPooling2D)   (None, 56, 56, 128)       0         \n",
      "_________________________________________________________________\n",
      "block3_conv1 (Conv2D)        (None, 56, 56, 256)       295168    \n",
      "_________________________________________________________________\n",
      "block3_conv2 (Conv2D)        (None, 56, 56, 256)       590080    \n",
      "_________________________________________________________________\n",
      "block3_conv3 (Conv2D)        (None, 56, 56, 256)       590080    \n",
      "_________________________________________________________________\n",
      "block3_pool (MaxPooling2D)   (None, 28, 28, 256)       0         \n",
      "_________________________________________________________________\n",
      "block4_conv1 (Conv2D)        (None, 28, 28, 512)       1180160   \n",
      "_________________________________________________________________\n",
      "block4_conv2 (Conv2D)        (None, 28, 28, 512)       2359808   \n",
      "_________________________________________________________________\n",
      "block4_conv3 (Conv2D)        (None, 28, 28, 512)       2359808   \n",
      "_________________________________________________________________\n",
      "block4_pool (MaxPooling2D)   (None, 14, 14, 512)       0         \n",
      "_________________________________________________________________\n",
      "block5_conv1 (Conv2D)        (None, 14, 14, 512)       2359808   \n",
      "_________________________________________________________________\n",
      "block5_conv2 (Conv2D)        (None, 14, 14, 512)       2359808   \n",
      "_________________________________________________________________\n",
      "block5_conv3 (Conv2D)        (None, 14, 14, 512)       2359808   \n",
      "_________________________________________________________________\n",
      "block5_pool (MaxPooling2D)   (None, 7, 7, 512)         0         \n",
      "_________________________________________________________________\n",
      "flatten (Flatten)            (None, 25088)             0         \n",
      "_________________________________________________________________\n",
      "fc1 (Dense)                  (None, 4096)              102764544 \n",
      "_________________________________________________________________\n",
      "fc2 (Dense)                  (None, 4096)              16781312  \n",
      "_________________________________________________________________\n",
      "predictions (Dense)          (None, 1000)              4097000   \n",
      "=================================================================\n",
      "Total params: 138,357,544\n",
      "Trainable params: 138,357,544\n",
      "Non-trainable params: 0\n",
      "_________________________________________________________________\n"
     ]
    }
   ],
   "source": [
    "# Base model = VGG16\n",
    "\n",
    "base_model = VGG16(weights='imagenet',\n",
    "                  include_top=True,\n",
    "                  )\n",
    "\n",
    "base_model.summary()\n"
   ]
  },
  {
   "cell_type": "code",
   "execution_count": 5,
   "metadata": {},
   "outputs": [
    {
     "name": "stdout",
     "output_type": "stream",
     "text": [
      "Model: \"model\"\n",
      "_________________________________________________________________\n",
      "Layer (type)                 Output Shape              Param #   \n",
      "=================================================================\n",
      "input_2 (InputLayer)         [(None, 224, 224, 3)]     0         \n",
      "_________________________________________________________________\n",
      "block1_conv1 (Conv2D)        (None, 224, 224, 64)      1792      \n",
      "_________________________________________________________________\n",
      "block1_conv2 (Conv2D)        (None, 224, 224, 64)      36928     \n",
      "_________________________________________________________________\n",
      "block1_pool (MaxPooling2D)   (None, 112, 112, 64)      0         \n",
      "_________________________________________________________________\n",
      "block2_conv1 (Conv2D)        (None, 112, 112, 128)     73856     \n",
      "_________________________________________________________________\n",
      "block2_conv2 (Conv2D)        (None, 112, 112, 128)     147584    \n",
      "_________________________________________________________________\n",
      "block2_pool (MaxPooling2D)   (None, 56, 56, 128)       0         \n",
      "_________________________________________________________________\n",
      "block3_conv1 (Conv2D)        (None, 56, 56, 256)       295168    \n",
      "_________________________________________________________________\n",
      "block3_conv2 (Conv2D)        (None, 56, 56, 256)       590080    \n",
      "_________________________________________________________________\n",
      "block3_conv3 (Conv2D)        (None, 56, 56, 256)       590080    \n",
      "_________________________________________________________________\n",
      "block3_pool (MaxPooling2D)   (None, 28, 28, 256)       0         \n",
      "_________________________________________________________________\n",
      "block4_conv1 (Conv2D)        (None, 28, 28, 512)       1180160   \n",
      "_________________________________________________________________\n",
      "block4_conv2 (Conv2D)        (None, 28, 28, 512)       2359808   \n",
      "_________________________________________________________________\n",
      "block4_conv3 (Conv2D)        (None, 28, 28, 512)       2359808   \n",
      "_________________________________________________________________\n",
      "block4_pool (MaxPooling2D)   (None, 14, 14, 512)       0         \n",
      "_________________________________________________________________\n",
      "block5_conv1 (Conv2D)        (None, 14, 14, 512)       2359808   \n",
      "_________________________________________________________________\n",
      "block5_conv2 (Conv2D)        (None, 14, 14, 512)       2359808   \n",
      "_________________________________________________________________\n",
      "block5_conv3 (Conv2D)        (None, 14, 14, 512)       2359808   \n",
      "_________________________________________________________________\n",
      "block5_pool (MaxPooling2D)   (None, 7, 7, 512)         0         \n",
      "_________________________________________________________________\n",
      "flatten (Flatten)            (None, 25088)             0         \n",
      "_________________________________________________________________\n",
      "fc1 (Dense)                  (None, 4096)              102764544 \n",
      "_________________________________________________________________\n",
      "fc2 (Dense)                  (None, 4096)              16781312  \n",
      "_________________________________________________________________\n",
      "dense (Dense)                (None, 102)               417894    \n",
      "=================================================================\n",
      "Total params: 134,678,438\n",
      "Trainable params: 134,678,438\n",
      "Non-trainable params: 0\n",
      "_________________________________________________________________\n"
     ]
    }
   ],
   "source": [
    "# Modify VGG16 model to fit Caltech101.\n",
    "\n",
    "input_layer = base_model.input\n",
    "\n",
    "new_classification_layer = Dense(102, activation='softmax')\n",
    "\n",
    "output_layer = new_classification_layer(base_model.layers[-2].output)\n",
    "\n",
    "\n",
    "modified_VGG16 = Model(input_layer, output_layer)\n",
    "\n",
    "modified_VGG16.summary()"
   ]
  },
  {
   "cell_type": "code",
   "execution_count": 6,
   "metadata": {},
   "outputs": [
    {
     "name": "stdout",
     "output_type": "stream",
     "text": [
      "Model: \"model\"\n",
      "_________________________________________________________________\n",
      "Layer (type)                 Output Shape              Param #   \n",
      "=================================================================\n",
      "input_2 (InputLayer)         [(None, 224, 224, 3)]     0         \n",
      "_________________________________________________________________\n",
      "block1_conv1 (Conv2D)        (None, 224, 224, 64)      1792      \n",
      "_________________________________________________________________\n",
      "block1_conv2 (Conv2D)        (None, 224, 224, 64)      36928     \n",
      "_________________________________________________________________\n",
      "block1_pool (MaxPooling2D)   (None, 112, 112, 64)      0         \n",
      "_________________________________________________________________\n",
      "block2_conv1 (Conv2D)        (None, 112, 112, 128)     73856     \n",
      "_________________________________________________________________\n",
      "block2_conv2 (Conv2D)        (None, 112, 112, 128)     147584    \n",
      "_________________________________________________________________\n",
      "block2_pool (MaxPooling2D)   (None, 56, 56, 128)       0         \n",
      "_________________________________________________________________\n",
      "block3_conv1 (Conv2D)        (None, 56, 56, 256)       295168    \n",
      "_________________________________________________________________\n",
      "block3_conv2 (Conv2D)        (None, 56, 56, 256)       590080    \n",
      "_________________________________________________________________\n",
      "block3_conv3 (Conv2D)        (None, 56, 56, 256)       590080    \n",
      "_________________________________________________________________\n",
      "block3_pool (MaxPooling2D)   (None, 28, 28, 256)       0         \n",
      "_________________________________________________________________\n",
      "block4_conv1 (Conv2D)        (None, 28, 28, 512)       1180160   \n",
      "_________________________________________________________________\n",
      "block4_conv2 (Conv2D)        (None, 28, 28, 512)       2359808   \n",
      "_________________________________________________________________\n",
      "block4_conv3 (Conv2D)        (None, 28, 28, 512)       2359808   \n",
      "_________________________________________________________________\n",
      "block4_pool (MaxPooling2D)   (None, 14, 14, 512)       0         \n",
      "_________________________________________________________________\n",
      "block5_conv1 (Conv2D)        (None, 14, 14, 512)       2359808   \n",
      "_________________________________________________________________\n",
      "block5_conv2 (Conv2D)        (None, 14, 14, 512)       2359808   \n",
      "_________________________________________________________________\n",
      "block5_conv3 (Conv2D)        (None, 14, 14, 512)       2359808   \n",
      "_________________________________________________________________\n",
      "block5_pool (MaxPooling2D)   (None, 7, 7, 512)         0         \n",
      "_________________________________________________________________\n",
      "flatten (Flatten)            (None, 25088)             0         \n",
      "_________________________________________________________________\n",
      "fc1 (Dense)                  (None, 4096)              102764544 \n",
      "_________________________________________________________________\n",
      "fc2 (Dense)                  (None, 4096)              16781312  \n",
      "_________________________________________________________________\n",
      "dense (Dense)                (None, 102)               417894    \n",
      "=================================================================\n",
      "Total params: 134,678,438\n",
      "Trainable params: 417,894\n",
      "Non-trainable params: 134,260,544\n",
      "_________________________________________________________________\n"
     ]
    }
   ],
   "source": [
    "# Make output layer trainabel. All other layers remains with same weights as for the pretrained VGG16 model.\n",
    "\n",
    "for i, layer in enumerate(modified_VGG16.layers[:-1]):\n",
    "    layer.trainable = False\n",
    "    \n",
    "for i, layer in enumerate(modified_VGG16.layers[-1:]):\n",
    "    layer.trainable = True\n",
    "    \n",
    "modified_VGG16.summary()"
   ]
  },
  {
   "cell_type": "markdown",
   "metadata": {},
   "source": [
    "## Training the model\n",
    "\n",
    "Now we want to train the model. Here we need to compile the model with a loss function, optimizer and performance metrics. Then the model is trained on the training dataset and validated on the validation dataset with model.fit(). Documentaiton on compile and fit: https://keras.io/api/models/model_training_apis/"
   ]
  },
  {
   "cell_type": "code",
   "execution_count": 7,
   "metadata": {
    "scrolled": false
   },
   "outputs": [
    {
     "name": "stdout",
     "output_type": "stream",
     "text": [
      "Epoch 1/30\n",
      "211/212 [============================>.] - ETA: 1s - loss: 3.7171 - acc: 0.2250 - top_k_categorical_accuracy: 0.3924Epoch 1/30\n",
      "212/212 [==============================] - 471s 2s/step - loss: 3.7148 - acc: 0.2252 - top_k_categorical_accuracy: 0.3931 - val_loss: 3.2092 - val_acc: 0.3053 - val_top_k_categorical_accuracy: 0.4775\n",
      "Epoch 2/30\n",
      "211/212 [============================>.] - ETA: 1s - loss: 2.8535 - acc: 0.3756 - top_k_categorical_accuracy: 0.6053Epoch 1/30\n",
      "212/212 [==============================] - 433s 2s/step - loss: 2.8507 - acc: 0.3761 - top_k_categorical_accuracy: 0.6062 - val_loss: 2.6369 - val_acc: 0.4358 - val_top_k_categorical_accuracy: 0.6633\n",
      "Epoch 3/30\n",
      "211/212 [============================>.] - ETA: 1s - loss: 2.3528 - acc: 0.4839 - top_k_categorical_accuracy: 0.7169Epoch 1/30\n",
      "212/212 [==============================] - 435s 2s/step - loss: 2.3514 - acc: 0.4841 - top_k_categorical_accuracy: 0.7170 - val_loss: 2.2074 - val_acc: 0.5096 - val_top_k_categorical_accuracy: 0.7514\n",
      "Epoch 4/30\n",
      "211/212 [============================>.] - ETA: 1s - loss: 2.0250 - acc: 0.5640 - top_k_categorical_accuracy: 0.7836Epoch 1/30\n",
      "212/212 [==============================] - 433s 2s/step - loss: 2.0216 - acc: 0.5647 - top_k_categorical_accuracy: 0.7840 - val_loss: 1.9634 - val_acc: 0.5731 - val_top_k_categorical_accuracy: 0.7719\n",
      "Epoch 5/30\n",
      "211/212 [============================>.] - ETA: 1s - loss: 1.7910 - acc: 0.6098 - top_k_categorical_accuracy: 0.8191Epoch 1/30\n",
      "212/212 [==============================] - 434s 2s/step - loss: 1.7892 - acc: 0.6101 - top_k_categorical_accuracy: 0.8195 - val_loss: 1.7754 - val_acc: 0.6059 - val_top_k_categorical_accuracy: 0.8142\n",
      "Epoch 6/30\n",
      "211/212 [============================>.] - ETA: 1s - loss: 1.6181 - acc: 0.6476 - top_k_categorical_accuracy: 0.8473Epoch 1/30\n",
      "212/212 [==============================] - 435s 2s/step - loss: 1.6177 - acc: 0.6477 - top_k_categorical_accuracy: 0.8472 - val_loss: 1.6354 - val_acc: 0.6168 - val_top_k_categorical_accuracy: 0.8477\n",
      "Epoch 7/30\n",
      "211/212 [============================>.] - ETA: 1s - loss: 1.4872 - acc: 0.6754 - top_k_categorical_accuracy: 0.8607Epoch 1/30\n",
      "212/212 [==============================] - 433s 2s/step - loss: 1.4886 - acc: 0.6747 - top_k_categorical_accuracy: 0.8602 - val_loss: 1.5384 - val_acc: 0.6475 - val_top_k_categorical_accuracy: 0.8572\n",
      "Epoch 8/30\n",
      "211/212 [============================>.] - ETA: 1s - loss: 1.3866 - acc: 0.6908 - top_k_categorical_accuracy: 0.8781Epoch 1/30\n",
      "212/212 [==============================] - 431s 2s/step - loss: 1.3852 - acc: 0.6914 - top_k_categorical_accuracy: 0.8784 - val_loss: 1.4499 - val_acc: 0.6516 - val_top_k_categorical_accuracy: 0.8743\n",
      "Epoch 9/30\n",
      "211/212 [============================>.] - ETA: 1s - loss: 1.2976 - acc: 0.7065 - top_k_categorical_accuracy: 0.8890Epoch 1/30\n",
      "212/212 [==============================] - 432s 2s/step - loss: 1.2985 - acc: 0.7061 - top_k_categorical_accuracy: 0.8890 - val_loss: 1.3825 - val_acc: 0.6817 - val_top_k_categorical_accuracy: 0.8634\n",
      "Epoch 10/30\n",
      "211/212 [============================>.] - ETA: 1s - loss: 1.2280 - acc: 0.7201 - top_k_categorical_accuracy: 0.8985Epoch 1/30\n",
      "212/212 [==============================] - 435s 2s/step - loss: 1.2252 - acc: 0.7210 - top_k_categorical_accuracy: 0.8988 - val_loss: 1.3338 - val_acc: 0.6803 - val_top_k_categorical_accuracy: 0.8730\n",
      "Epoch 11/30\n",
      "211/212 [============================>.] - ETA: 1s - loss: 1.1618 - acc: 0.7412 - top_k_categorical_accuracy: 0.9065Epoch 1/30\n",
      "212/212 [==============================] - 431s 2s/step - loss: 1.1620 - acc: 0.7412 - top_k_categorical_accuracy: 0.9067 - val_loss: 1.2943 - val_acc: 0.6906 - val_top_k_categorical_accuracy: 0.8689\n",
      "Epoch 12/30\n",
      "211/212 [============================>.] - ETA: 1s - loss: 1.1101 - acc: 0.7492 - top_k_categorical_accuracy: 0.9107Epoch 1/30\n",
      "212/212 [==============================] - 434s 2s/step - loss: 1.1113 - acc: 0.7487 - top_k_categorical_accuracy: 0.9108 - val_loss: 1.2195 - val_acc: 0.7097 - val_top_k_categorical_accuracy: 0.8887\n",
      "Epoch 13/30\n",
      "211/212 [============================>.] - ETA: 1s - loss: 1.0633 - acc: 0.7557 - top_k_categorical_accuracy: 0.9156Epoch 1/30\n",
      "212/212 [==============================] - 432s 2s/step - loss: 1.0631 - acc: 0.7558 - top_k_categorical_accuracy: 0.9157 - val_loss: 1.1927 - val_acc: 0.7056 - val_top_k_categorical_accuracy: 0.8928\n",
      "Epoch 14/30\n",
      "211/212 [============================>.] - ETA: 1s - loss: 1.0252 - acc: 0.7655 - top_k_categorical_accuracy: 0.9194Epoch 1/30\n",
      "212/212 [==============================] - 432s 2s/step - loss: 1.0253 - acc: 0.7654 - top_k_categorical_accuracy: 0.9195 - val_loss: 1.1546 - val_acc: 0.7206 - val_top_k_categorical_accuracy: 0.9057\n",
      "Epoch 15/30\n",
      "211/212 [============================>.] - ETA: 1s - loss: 0.9859 - acc: 0.7747 - top_k_categorical_accuracy: 0.9237Epoch 1/30\n",
      "212/212 [==============================] - 433s 2s/step - loss: 0.9868 - acc: 0.7740 - top_k_categorical_accuracy: 0.9236 - val_loss: 1.1360 - val_acc: 0.7234 - val_top_k_categorical_accuracy: 0.8941\n",
      "Epoch 16/30\n",
      "211/212 [============================>.] - ETA: 1s - loss: 0.9543 - acc: 0.7830 - top_k_categorical_accuracy: 0.9265Epoch 1/30\n",
      "212/212 [==============================] - 431s 2s/step - loss: 0.9543 - acc: 0.7828 - top_k_categorical_accuracy: 0.9266 - val_loss: 1.1153 - val_acc: 0.7220 - val_top_k_categorical_accuracy: 0.8941\n",
      "Epoch 17/30\n",
      "211/212 [============================>.] - ETA: 1s - loss: 0.9236 - acc: 0.7850 - top_k_categorical_accuracy: 0.9296Epoch 1/30\n",
      "212/212 [==============================] - 432s 2s/step - loss: 0.9230 - acc: 0.7850 - top_k_categorical_accuracy: 0.9298 - val_loss: 1.0758 - val_acc: 0.7363 - val_top_k_categorical_accuracy: 0.9092\n",
      "Epoch 18/30\n",
      "211/212 [============================>.] - ETA: 1s - loss: 0.8955 - acc: 0.7938 - top_k_categorical_accuracy: 0.9339Epoch 1/30\n",
      "212/212 [==============================] - 433s 2s/step - loss: 0.8956 - acc: 0.7933 - top_k_categorical_accuracy: 0.9342 - val_loss: 1.0395 - val_acc: 0.7500 - val_top_k_categorical_accuracy: 0.9146\n",
      "Epoch 19/30\n",
      "211/212 [============================>.] - ETA: 1s - loss: 0.8718 - acc: 0.7951 - top_k_categorical_accuracy: 0.9359Epoch 1/30\n",
      "212/212 [==============================] - 434s 2s/step - loss: 0.8722 - acc: 0.7949 - top_k_categorical_accuracy: 0.9357 - val_loss: 1.0358 - val_acc: 0.7404 - val_top_k_categorical_accuracy: 0.9126\n",
      "Epoch 20/30\n",
      "211/212 [============================>.] - ETA: 1s - loss: 0.8466 - acc: 0.8019 - top_k_categorical_accuracy: 0.9388Epoch 1/30\n",
      "212/212 [==============================] - 434s 2s/step - loss: 0.8479 - acc: 0.8014 - top_k_categorical_accuracy: 0.9388 - val_loss: 1.0044 - val_acc: 0.7445 - val_top_k_categorical_accuracy: 0.9153\n",
      "Epoch 21/30\n",
      "211/212 [============================>.] - ETA: 1s - loss: 0.8251 - acc: 0.8079 - top_k_categorical_accuracy: 0.9409Epoch 1/30\n",
      "212/212 [==============================] - 430s 2s/step - loss: 0.8261 - acc: 0.8076 - top_k_categorical_accuracy: 0.9410 - val_loss: 0.9871 - val_acc: 0.7445 - val_top_k_categorical_accuracy: 0.9167\n",
      "Epoch 22/30\n",
      "211/212 [============================>.] - ETA: 1s - loss: 0.8070 - acc: 0.8087 - top_k_categorical_accuracy: 0.9431Epoch 1/30\n",
      "212/212 [==============================] - 429s 2s/step - loss: 0.8074 - acc: 0.8085 - top_k_categorical_accuracy: 0.9431 - val_loss: 0.9695 - val_acc: 0.7575 - val_top_k_categorical_accuracy: 0.9167\n",
      "Epoch 23/30\n",
      "211/212 [============================>.] - ETA: 1s - loss: 0.7885 - acc: 0.8130 - top_k_categorical_accuracy: 0.9443Epoch 1/30\n",
      "212/212 [==============================] - 429s 2s/step - loss: 0.7882 - acc: 0.8130 - top_k_categorical_accuracy: 0.9444 - val_loss: 0.9636 - val_acc: 0.7596 - val_top_k_categorical_accuracy: 0.9228\n",
      "Epoch 24/30\n",
      "211/212 [============================>.] - ETA: 1s - loss: 0.7681 - acc: 0.8145 - top_k_categorical_accuracy: 0.9449Epoch 1/30\n",
      "212/212 [==============================] - 430s 2s/step - loss: 0.7685 - acc: 0.8145 - top_k_categorical_accuracy: 0.9449 - val_loss: 0.9519 - val_acc: 0.7637 - val_top_k_categorical_accuracy: 0.9173\n",
      "Epoch 25/30\n",
      "211/212 [============================>.] - ETA: 1s - loss: 0.7546 - acc: 0.8169 - top_k_categorical_accuracy: 0.9483Epoch 1/30\n",
      "212/212 [==============================] - 431s 2s/step - loss: 0.7549 - acc: 0.8170 - top_k_categorical_accuracy: 0.9480 - val_loss: 0.9303 - val_acc: 0.7609 - val_top_k_categorical_accuracy: 0.9242\n",
      "Epoch 26/30\n",
      "211/212 [============================>.] - ETA: 1s - loss: 0.7398 - acc: 0.8221 - top_k_categorical_accuracy: 0.9514Epoch 1/30\n",
      "212/212 [==============================] - 429s 2s/step - loss: 0.7394 - acc: 0.8223 - top_k_categorical_accuracy: 0.9513 - val_loss: 0.9285 - val_acc: 0.7630 - val_top_k_categorical_accuracy: 0.9214\n",
      "Epoch 27/30\n",
      "211/212 [============================>.] - ETA: 1s - loss: 0.7221 - acc: 0.8241 - top_k_categorical_accuracy: 0.9490Epoch 1/30\n",
      "212/212 [==============================] - 430s 2s/step - loss: 0.7232 - acc: 0.8241 - top_k_categorical_accuracy: 0.9487 - val_loss: 0.9221 - val_acc: 0.7664 - val_top_k_categorical_accuracy: 0.9262\n",
      "Epoch 28/30\n",
      "211/212 [============================>.] - ETA: 1s - loss: 0.7074 - acc: 0.8327 - top_k_categorical_accuracy: 0.9527Epoch 1/30\n",
      "212/212 [==============================] - 430s 2s/step - loss: 0.7083 - acc: 0.8328 - top_k_categorical_accuracy: 0.9527 - val_loss: 0.9140 - val_acc: 0.7582 - val_top_k_categorical_accuracy: 0.9262\n",
      "Epoch 29/30\n",
      "211/212 [============================>.] - ETA: 1s - loss: 0.6968 - acc: 0.8302 - top_k_categorical_accuracy: 0.9530Epoch 1/30\n",
      "212/212 [==============================] - 430s 2s/step - loss: 0.6967 - acc: 0.8301 - top_k_categorical_accuracy: 0.9531 - val_loss: 0.8970 - val_acc: 0.7671 - val_top_k_categorical_accuracy: 0.9269\n",
      "Epoch 30/30\n",
      "211/212 [============================>.] - ETA: 1s - loss: 0.6823 - acc: 0.8330 - top_k_categorical_accuracy: 0.9542Epoch 1/30\n",
      "212/212 [==============================] - 434s 2s/step - loss: 0.6818 - acc: 0.8331 - top_k_categorical_accuracy: 0.9543 - val_loss: 0.8930 - val_acc: 0.7691 - val_top_k_categorical_accuracy: 0.9290\n"
     ]
    }
   ],
   "source": [
    "modified_VGG16.compile(loss='categorical_crossentropy',\n",
    "                      optimizer=optimizers.RMSprop(lr=1e-4),\n",
    "                      metrics=['accuracy', 'top_k_categorical_accuracy'])\n",
    "\n",
    "history = modified_VGG16.fit(train_dataset,\n",
    "                  validation_data=val_dataset,\n",
    "                  epochs=30)"
   ]
  },
  {
   "cell_type": "markdown",
   "metadata": {},
   "source": [
    "## After the model is finished training we store the weights and the history of the model\n",
    "\n",
    "This info is stored such that we can evaluate to model without having to repeatedly train it. \n",
    "\n",
    "The weights are saved through model.save. Documentation for the save function: https://www.tensorflow.org/guide/keras/save_and_serialize\n",
    "\n",
    "The history is stored with numpy as this is convenient given the dictionary structure. Documentaion on numpy.save: https://numpy.org/devdocs/reference/generated/numpy.save.html"
   ]
  },
  {
   "cell_type": "code",
   "execution_count": 8,
   "metadata": {},
   "outputs": [],
   "source": [
    "modified_VGG16.save(\"./model_weights/Transfer_learning_VGG16.h5\")"
   ]
  },
  {
   "cell_type": "code",
   "execution_count": 9,
   "metadata": {},
   "outputs": [],
   "source": [
    "import numpy as np\n",
    "data_history_training = history.history\n",
    "\n",
    "np.save('./model_histories/Transfer_learning_VGG16.npy', data_history_training)"
   ]
  },
  {
   "cell_type": "markdown",
   "metadata": {},
   "source": [
    "## Now that the model is saved, we can retrieve the model and history to test the model and plot results\n",
    "\n",
    "The model is loaded with the in-built keras function. Documentation: https://www.tensorflow.org/guide/keras/save_and_serialize\n",
    "\n",
    "We evaluate the model with the evaluate function. This gives loss and the performance metrics specified in compile. Documentation: https://keras.io/api/models/model_training_apis/\n",
    "\n",
    "The history for training is retrieved with numpy.load. Documentation: https://numpy.org/doc/stable/reference/generated/numpy.load.html\n",
    "\n",
    "Finally, the history is visualized with matplotlib. Documentation: https://matplotlib.org/\n",
    "\n"
   ]
  },
  {
   "cell_type": "code",
   "execution_count": 11,
   "metadata": {},
   "outputs": [
    {
     "name": "stdout",
     "output_type": "stream",
     "text": [
      "29/29 [==============================] - 46s 2s/step - loss: 0.8863 - acc: 0.7795 - top_k_categorical_accuracy: 0.9131\n"
     ]
    },
    {
     "data": {
      "text/plain": [
       "[0.8862598042549759, 0.77951, 0.9131403]"
      ]
     },
     "execution_count": 11,
     "metadata": {},
     "output_type": "execute_result"
    }
   ],
   "source": [
    "# Run model on test set from saved model\n",
    "\n",
    "from tensorflow import keras\n",
    "\n",
    "reconstructed_model_VGG16 = keras.models.load_model(\"./model_weights/Transfer_learning_VGG16.h5\")\n",
    "reconstructed_model_VGG16.evaluate(test_dataset)"
   ]
  },
  {
   "cell_type": "code",
   "execution_count": 13,
   "metadata": {},
   "outputs": [
    {
     "data": {
      "image/png": "[encoded data removed]",
      "text/plain": [
       "<Figure size 432x288 with 1 Axes>"
      ]
     },
     "metadata": {
      "needs_background": "light"
     },
     "output_type": "display_data"
    },
    {
     "data": {
      "image/png": "[encoded data removed]",
      "text/plain": [
       "<Figure size 432x288 with 1 Axes>"
      ]
     },
     "metadata": {
      "needs_background": "light"
     },
     "output_type": "display_data"
    },
    {
     "data": {
      "image/png": "[encoded data removed]",
      "text/plain": [
       "<Figure size 432x288 with 1 Axes>"
      ]
     },
     "metadata": {
      "needs_background": "light"
     },
     "output_type": "display_data"
    }
   ],
   "source": [
    "import numpy as np\n",
    "reconstructed_history_VGG16 = np.load('./model_histories/Transfer_learning_VGG16.npy',allow_pickle='TRUE').item()\n",
    "\n",
    "import matplotlib.pyplot as plt\n",
    "\n",
    "acc = reconstructed_history_VGG16['acc']\n",
    "val_acc = reconstructed_history_VGG16['val_acc']\n",
    "\n",
    "loss = reconstructed_history_VGG16['loss']\n",
    "val_loss = reconstructed_history_VGG16['val_loss']\n",
    "\n",
    "top_5_acc = reconstructed_history_VGG16['top_k_categorical_accuracy']\n",
    "top_5_val_acc = reconstructed_history_VGG16['val_top_k_categorical_accuracy']\n",
    "\n",
    "epochs = range(len(acc))\n",
    "\n",
    "plt.plot(epochs, acc, label='Training accuracy')\n",
    "plt.plot(epochs, val_acc, label='Validation accuracy')\n",
    "plt.title('Training and validation accuracy (top-1 accuracy)')\n",
    "plt.legend()\n",
    "plt.xlabel('Epochs')\n",
    "plt.ylabel('Accuracy')\n",
    "\n",
    "plt.figure()\n",
    "plt.plot(epochs, top_5_acc, label='Top-5 training accuracy')\n",
    "plt.plot(epochs, top_5_val_acc, label='Top-5 validation accuracy')\n",
    "plt.title('Top-5 training and validation accuracy')\n",
    "plt.legend()\n",
    "plt.xlabel('Epochs')\n",
    "plt.ylabel('Accuracy')\n",
    "\n",
    "plt.figure()\n",
    "\n",
    "plt.plot(epochs, loss, label='Training loss')\n",
    "plt.plot(epochs, val_loss, label='Validation loss')\n",
    "plt.title('Training and validation loss')\n",
    "plt.legend()\n",
    "plt.xlabel('Epochs')\n",
    "plt.ylabel('Loss')\n",
    "\n",
    "plt.show()\n"
   ]
  },
  {
   "cell_type": "markdown",
   "metadata": {},
   "source": [
    "## Lastly, we use the model to predict the output on the test data\n",
    "\n",
    "The predict function returns the softmax output defined in the model. Hence, the output from every image is a array of shape (102,). Using the numpy.argmax function gives the most probable class. Documentation on predict: https://keras.io/api/models/model_training_apis/\n",
    "\n",
    "Finally, we use the sklearn library to generate the classification report. Documentation: https://scikit-learn.org/stable/modules/generated/sklearn.metrics.classification_report.html"
   ]
  },
  {
   "cell_type": "code",
   "execution_count": 19,
   "metadata": {
    "scrolled": true
   },
   "outputs": [],
   "source": [
    "import sklearn\n",
    "from sklearn.metrics import classification_report\n",
    "from tensorflow import keras\n",
    "import numpy as np\n",
    "\n",
    "reconstructed_model_VGG16 = keras.models.load_model(\"./model_weights/Transfer_learning_VGG16.h5\")\n"
   ]
  },
  {
   "cell_type": "code",
   "execution_count": 20,
   "metadata": {},
   "outputs": [],
   "source": [
    "predicted = reconstructed_model_VGG16.predict(test_dataset)"
   ]
  },
  {
   "cell_type": "code",
   "execution_count": 21,
   "metadata": {
    "scrolled": false
   },
   "outputs": [
    {
     "name": "stdout",
     "output_type": "stream",
     "text": [
      "\n",
      "                   precision    recall  f1-score   support\n",
      "\n",
      "BACKGROUND_Google       0.61      0.48      0.53        42\n",
      "            Faces       0.98      0.96      0.97        45\n",
      "       Faces_easy       0.95      1.00      0.97        35\n",
      "         Leopards       0.83      1.00      0.91        25\n",
      "       Motorbikes       0.98      0.99      0.98        80\n",
      "        accordion       0.75      1.00      0.86         6\n",
      "        airplanes       0.90      0.98      0.94        87\n",
      "           anchor       0.43      0.60      0.50         5\n",
      "              ant       0.00      0.00      0.00         2\n",
      "           barrel       1.00      0.50      0.67         4\n",
      "             bass       1.00      0.25      0.40         8\n",
      "           beaver       0.57      0.80      0.67         5\n",
      "        binocular       0.50      0.33      0.40         3\n",
      "           bonsai       0.78      0.88      0.82        16\n",
      "            brain       0.89      0.89      0.89         9\n",
      "     brontosaurus       0.20      0.33      0.25         3\n",
      "           buddha       0.64      0.70      0.67        10\n",
      "        butterfly       1.00      0.50      0.67         6\n",
      "           camera       0.86      1.00      0.92         6\n",
      "           cannon       0.67      0.80      0.73         5\n",
      "         car_side       1.00      1.00      1.00        10\n",
      "      ceiling_fan       1.00      0.80      0.89         5\n",
      "        cellphone       1.00      0.80      0.89         5\n",
      "            chair       1.00      0.33      0.50         6\n",
      "       chandelier       1.00      0.69      0.82        13\n",
      "      cougar_body       0.67      0.50      0.57         4\n",
      "      cougar_face       1.00      0.80      0.89        10\n",
      "             crab       0.44      0.57      0.50         7\n",
      "         crayfish       0.67      0.25      0.36         8\n",
      "        crocodile       0.20      0.12      0.15         8\n",
      "   crocodile_head       0.38      0.60      0.46         5\n",
      "              cup       1.00      0.60      0.75         5\n",
      "        dalmatian       1.00      1.00      1.00         4\n",
      "      dollar_bill       0.86      0.60      0.71        10\n",
      "          dolphin       0.50      0.75      0.60         4\n",
      "        dragonfly       1.00      0.50      0.67         2\n",
      "  electric_guitar       0.35      1.00      0.52        11\n",
      "         elephant       0.57      0.50      0.53         8\n",
      "              emu       0.25      0.50      0.33         2\n",
      "        euphonium       0.60      0.60      0.60         5\n",
      "             ewer       0.88      1.00      0.93         7\n",
      "            ferry       0.82      0.90      0.86        10\n",
      "         flamingo       0.27      0.80      0.40         5\n",
      "    flamingo_head       1.00      0.80      0.89         5\n",
      "         garfield       1.00      0.50      0.67         6\n",
      "          gerenuk       0.50      0.33      0.40         6\n",
      "       gramophone       1.00      0.75      0.86         4\n",
      "      grand_piano       0.83      1.00      0.91        10\n",
      "        hawksbill       0.60      0.82      0.69        11\n",
      "        headphone       0.60      0.75      0.67         4\n",
      "         hedgehog       1.00      0.60      0.75         5\n",
      "       helicopter       0.86      0.75      0.80         8\n",
      "             ibis       0.00      0.00      0.00        11\n",
      "     inline_skate       1.00      1.00      1.00         2\n",
      "      joshua_tree       0.75      1.00      0.86         6\n",
      "         kangaroo       0.50      0.67      0.57         9\n",
      "            ketch       0.70      0.88      0.78         8\n",
      "             lamp       0.50      1.00      0.67         1\n",
      "           laptop       0.88      1.00      0.93         7\n",
      "            llama       0.42      0.56      0.48         9\n",
      "          lobster       0.50      0.33      0.40         3\n",
      "            lotus       0.80      0.50      0.62         8\n",
      "         mandolin       1.00      0.33      0.50         3\n",
      "           mayfly       0.00      0.00      0.00         1\n",
      "          menorah       0.80      0.89      0.84         9\n",
      "        metronome       1.00      1.00      1.00         1\n",
      "          minaret       1.00      1.00      1.00         3\n",
      "         nautilus       1.00      0.88      0.93         8\n",
      "          octopus       1.00      0.50      0.67         4\n",
      "            okapi       1.00      0.33      0.50         6\n",
      "           pagoda       1.00      1.00      1.00         5\n",
      "            panda       0.50      1.00      0.67         1\n",
      "           pigeon       1.00      0.40      0.57         5\n",
      "            pizza       0.80      1.00      0.89         4\n",
      "         platypus       0.50      0.50      0.50         2\n",
      "          pyramid       0.67      0.40      0.50         5\n",
      "         revolver       1.00      0.82      0.90        11\n",
      "            rhino       0.50      0.67      0.57         3\n",
      "          rooster       1.00      1.00      1.00         4\n",
      "        saxophone       1.00      0.50      0.67         4\n",
      "         schooner       0.67      0.50      0.57         4\n",
      "         scissors       0.80      1.00      0.89         4\n",
      "         scorpion       0.60      0.69      0.64        13\n",
      "        sea_horse       0.71      0.62      0.67         8\n",
      "           snoopy       0.17      1.00      0.29         1\n",
      "      soccer_ball       1.00      0.78      0.88         9\n",
      "          stapler       1.00      0.50      0.67         4\n",
      "         starfish       1.00      0.57      0.73         7\n",
      "      stegosaurus       0.83      1.00      0.91         5\n",
      "        stop_sign       0.75      1.00      0.86         3\n",
      "       strawberry       1.00      0.75      0.86         4\n",
      "        sunflower       1.00      0.88      0.93         8\n",
      "             tick       1.00      0.75      0.86         8\n",
      "        trilobite       1.00      1.00      1.00         6\n",
      "         umbrella       0.92      0.85      0.88        13\n",
      "            watch       0.95      0.95      0.95        21\n",
      "      water_lilly       0.50      0.67      0.57         3\n",
      "       wheelchair       0.67      1.00      0.80         2\n",
      "         wild_cat       0.00      0.00      0.00         1\n",
      "    windsor_chair       0.83      0.83      0.83         6\n",
      "           wrench       1.00      0.17      0.29         6\n",
      "         yin_yang       0.67      1.00      0.80         4\n",
      "\n",
      "         accuracy                           0.78       898\n",
      "        macro avg       0.75      0.70      0.69       898\n",
      "     weighted avg       0.81      0.78      0.78       898\n",
      "\n"
     ]
    },
    {
     "name": "stderr",
     "output_type": "stream",
     "text": [
      "/opt/conda/lib/python3.7/site-packages/sklearn/metrics/_classification.py:1221: UndefinedMetricWarning: Precision and F-score are ill-defined and being set to 0.0 in labels with no predicted samples. Use `zero_division` parameter to control this behavior.\n",
      "  _warn_prf(average, modifier, msg_start, len(result))\n"
     ]
    }
   ],
   "source": [
    "true = test_dataset.classes\n",
    "predicted = [np.argmax(x) for x in predicted]\n",
    "predicted = np.array(predicted)\n",
    "labels = test_dataset.class_indices.keys()\n",
    "\n",
    "print('\\n', sklearn.metrics.classification_report(true, predicted, target_names=labels), sep='') "
   ]
  }
 ],
 "metadata": {
  "kernelspec": {
   "display_name": "Python 3",
   "language": "python",
   "name": "python3"
  },
  "language_info": {
   "codemirror_mode": {
    "name": "ipython",
    "version": 3
   },
   "file_extension": ".py",
   "mimetype": "text/x-python",
   "name": "python",
   "nbconvert_exporter": "python",
   "pygments_lexer": "ipython3",
   "version": "3.7.8"
  }
 },
 "nbformat": 4,
 "nbformat_minor": 4
}
